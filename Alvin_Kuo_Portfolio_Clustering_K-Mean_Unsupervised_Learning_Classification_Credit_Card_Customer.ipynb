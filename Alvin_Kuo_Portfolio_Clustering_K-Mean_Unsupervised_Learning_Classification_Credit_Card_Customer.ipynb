{
  "cells": [
    {
      "cell_type": "markdown",
      "metadata": {
        "id": "tIOusyeT4_RJ"
      },
      "source": [
        "## Unsupervised Learning\n",
        "\n",
        "## Context: \n",
        "-----------------------------\n",
        "AllLife Bank wants to focus on its credit card customer base in the next financial year. They have been advised by their marketing research team, that the penetration in the market can be improved. Based on this input, the Marketing team proposes to run personalized campaigns to target new customers as well as upsell to existing customers. Another insight from the market research was that the customers perceive the support services of the back poorly. Based on this, the Operations team wants to upgrade the service delivery model, to ensure that customers queries are resolved faster. Head of Marketing and Head of Delivery both decide to reach out to the Data Science team for help.\n",
        "\n",
        "\n",
        "----------------------------\n",
        "## Objective: \n",
        "-----------------------------\n",
        "\n",
        "Identify different segments in the existing customer based on their spending patterns as well as past interaction with the bank.\n",
        "\n",
        "--------------------------\n",
        "## About the data:\n",
        "--------------------------\n",
        "Data is of various customers of a bank with their credit limit, the total number of credit cards the customer has, and different channels through which customer has contacted the bank for any queries, different channels include visiting the bank, online and through a call centre.\n",
        "\n",
        "- Sl_no - Customer Serial Number\n",
        "- Customer Key - Customer identification\n",
        "- Avg_Credit_Limit\t- Average credit limit (currency is not specified, you can make an assumption around this)\n",
        "- Total_Credit_Cards\t- Total number of credit cards \n",
        "- Total_visits_bank\t- Total bank visits\n",
        "- Total_visits_online -\t Total online visits\n",
        "- Total_calls_made - Total calls made"
      ]
    },
    {
      "cell_type": "markdown",
      "metadata": {
        "id": "0ReVFSgtvvO6"
      },
      "source": [
        "## Import libraries and overview of the dataset"
      ]
    },
    {
      "cell_type": "code",
      "execution_count": null,
      "metadata": {
        "id": "KJKn2dkPKnkU",
        "outputId": "8a250b9c-10ee-4a7f-fccb-fdd4ce4706b5"
      },
      "outputs": [
        {
          "name": "stdout",
          "output_type": "stream",
          "text": [
            "Requirement already satisfied: scikit-learn-extra in /opt/anaconda3/lib/python3.9/site-packages (0.2.0)\n",
            "Requirement already satisfied: numpy>=1.13.3 in /opt/anaconda3/lib/python3.9/site-packages (from scikit-learn-extra) (1.20.3)\n",
            "Requirement already satisfied: scikit-learn>=0.23.0 in /opt/anaconda3/lib/python3.9/site-packages (from scikit-learn-extra) (0.24.2)\n",
            "Requirement already satisfied: scipy>=0.19.1 in /opt/anaconda3/lib/python3.9/site-packages (from scikit-learn-extra) (1.6.1)\n",
            "Requirement already satisfied: joblib>=0.11 in /opt/anaconda3/lib/python3.9/site-packages (from scikit-learn>=0.23.0->scikit-learn-extra) (1.0.1)\n",
            "Requirement already satisfied: threadpoolctl>=2.0.0 in /opt/anaconda3/lib/python3.9/site-packages (from scikit-learn>=0.23.0->scikit-learn-extra) (2.2.0)\n"
          ]
        }
      ],
      "source": [
        "# Import all the necessary packages\n",
        "\n",
        "import pandas as pd\n",
        "import numpy as np\n",
        "\n",
        "import matplotlib.pylab as plt\n",
        "import seaborn as sns\n",
        "\n",
        "# scale the data using z-score \n",
        "from sklearn.preprocessing import StandardScaler\n",
        "\n",
        "# import clustering algorithms\n",
        "from sklearn.cluster import KMeans\n",
        "from sklearn.mixture import GaussianMixture\n",
        "\n",
        "# if the below line of code gives an error \n",
        "# uncomment the following code to install the sklearn_extra library\n",
        "!pip install scikit-learn-extra\n",
        "from sklearn_extra.cluster import KMedoids\n",
        "\n",
        "import warnings\n",
        "warnings.filterwarnings(\"ignore\")"
      ]
    },
    {
      "cell_type": "markdown",
      "metadata": {
        "id": "9qEgcn2XvvO8"
      },
      "source": [
        "#### Load data"
      ]
    },
    {
      "cell_type": "code",
      "execution_count": null,
      "metadata": {
        "colab": {
          "base_uri": "https://localhost:8080/",
          "height": 137
        },
        "id": "p4QVUUO3VHHH",
        "outputId": "6bd7504e-4281-41ca-f508-5a61927e94b1"
      },
      "outputs": [
        {
          "data": {
            "text/html": [
              "<div>\n",
              "<style scoped>\n",
              "    .dataframe tbody tr th:only-of-type {\n",
              "        vertical-align: middle;\n",
              "    }\n",
              "\n",
              "    .dataframe tbody tr th {\n",
              "        vertical-align: top;\n",
              "    }\n",
              "\n",
              "    .dataframe thead th {\n",
              "        text-align: right;\n",
              "    }\n",
              "</style>\n",
              "<table border=\"1\" class=\"dataframe\">\n",
              "  <thead>\n",
              "    <tr style=\"text-align: right;\">\n",
              "      <th></th>\n",
              "      <th>Sl_No</th>\n",
              "      <th>Customer Key</th>\n",
              "      <th>Avg_Credit_Limit</th>\n",
              "      <th>Total_Credit_Cards</th>\n",
              "      <th>Total_visits_bank</th>\n",
              "      <th>Total_visits_online</th>\n",
              "      <th>Total_calls_made</th>\n",
              "    </tr>\n",
              "  </thead>\n",
              "  <tbody>\n",
              "    <tr>\n",
              "      <th>0</th>\n",
              "      <td>1</td>\n",
              "      <td>87073</td>\n",
              "      <td>100000</td>\n",
              "      <td>2</td>\n",
              "      <td>1</td>\n",
              "      <td>1</td>\n",
              "      <td>0</td>\n",
              "    </tr>\n",
              "    <tr>\n",
              "      <th>1</th>\n",
              "      <td>2</td>\n",
              "      <td>38414</td>\n",
              "      <td>50000</td>\n",
              "      <td>3</td>\n",
              "      <td>0</td>\n",
              "      <td>10</td>\n",
              "      <td>9</td>\n",
              "    </tr>\n",
              "    <tr>\n",
              "      <th>2</th>\n",
              "      <td>3</td>\n",
              "      <td>17341</td>\n",
              "      <td>50000</td>\n",
              "      <td>7</td>\n",
              "      <td>1</td>\n",
              "      <td>3</td>\n",
              "      <td>4</td>\n",
              "    </tr>\n",
              "    <tr>\n",
              "      <th>3</th>\n",
              "      <td>4</td>\n",
              "      <td>40496</td>\n",
              "      <td>30000</td>\n",
              "      <td>5</td>\n",
              "      <td>1</td>\n",
              "      <td>1</td>\n",
              "      <td>4</td>\n",
              "    </tr>\n",
              "    <tr>\n",
              "      <th>4</th>\n",
              "      <td>5</td>\n",
              "      <td>47437</td>\n",
              "      <td>100000</td>\n",
              "      <td>6</td>\n",
              "      <td>0</td>\n",
              "      <td>12</td>\n",
              "      <td>3</td>\n",
              "    </tr>\n",
              "  </tbody>\n",
              "</table>\n",
              "</div>"
            ],
            "text/plain": [
              "   Sl_No  Customer Key  Avg_Credit_Limit  Total_Credit_Cards  \\\n",
              "0      1         87073            100000                   2   \n",
              "1      2         38414             50000                   3   \n",
              "2      3         17341             50000                   7   \n",
              "3      4         40496             30000                   5   \n",
              "4      5         47437            100000                   6   \n",
              "\n",
              "   Total_visits_bank  Total_visits_online  Total_calls_made  \n",
              "0                  1                    1                 0  \n",
              "1                  0                   10                 9  \n",
              "2                  1                    3                 4  \n",
              "3                  1                    1                 4  \n",
              "4                  0                   12                 3  "
            ]
          },
          "execution_count": 123,
          "metadata": {},
          "output_type": "execute_result"
        }
      ],
      "source": [
        "data = pd.read_excel('Credit Card Customer Data.xlsx')\n",
        "data.head()"
      ]
    },
    {
      "cell_type": "markdown",
      "metadata": {
        "id": "ZmxlhPKovvO-"
      },
      "source": [
        "#### Check the info of the data"
      ]
    },
    {
      "cell_type": "code",
      "execution_count": null,
      "metadata": {
        "id": "dtroAFl9vvO-",
        "outputId": "bff20f83-1d85-488e-e1dc-e73c56f563a6"
      },
      "outputs": [
        {
          "name": "stdout",
          "output_type": "stream",
          "text": [
            "<class 'pandas.core.frame.DataFrame'>\n",
            "RangeIndex: 660 entries, 0 to 659\n",
            "Data columns (total 7 columns):\n",
            " #   Column               Non-Null Count  Dtype\n",
            "---  ------               --------------  -----\n",
            " 0   Sl_No                660 non-null    int64\n",
            " 1   Customer Key         660 non-null    int64\n",
            " 2   Avg_Credit_Limit     660 non-null    int64\n",
            " 3   Total_Credit_Cards   660 non-null    int64\n",
            " 4   Total_visits_bank    660 non-null    int64\n",
            " 5   Total_visits_online  660 non-null    int64\n",
            " 6   Total_calls_made     660 non-null    int64\n",
            "dtypes: int64(7)\n",
            "memory usage: 36.2 KB\n"
          ]
        }
      ],
      "source": [
        "data.info()"
      ]
    },
    {
      "cell_type": "markdown",
      "metadata": {
        "id": "EPP73jY5vvPA"
      },
      "source": [
        "**Observations:**\n",
        "\n",
        "- There are 660 observations and 7 columns in the dataset.\n",
        "- All columns have 660 non-null values i.e. there are no missing values.\n",
        "- All columns are of int64 data type."
      ]
    },
    {
      "cell_type": "markdown",
      "metadata": {
        "id": "DOP-MnWovvPA"
      },
      "source": [
        "**There are no missing values. Let us now figure out the uniques in each column.** "
      ]
    },
    {
      "cell_type": "code",
      "execution_count": null,
      "metadata": {
        "id": "OCRC8zfDvvPB",
        "outputId": "ad647d25-ef4e-48fa-9f7e-6f1916668f0e"
      },
      "outputs": [
        {
          "data": {
            "text/plain": [
              "Sl_No                  660\n",
              "Customer Key           655\n",
              "Avg_Credit_Limit       110\n",
              "Total_Credit_Cards      10\n",
              "Total_visits_bank        6\n",
              "Total_visits_online     16\n",
              "Total_calls_made        11\n",
              "dtype: int64"
            ]
          },
          "execution_count": 125,
          "metadata": {},
          "output_type": "execute_result"
        }
      ],
      "source": [
        "data.nunique()"
      ]
    },
    {
      "cell_type": "markdown",
      "metadata": {
        "id": "JjjUYpvovvPC"
      },
      "source": [
        "- Customer key, which is an identifier, has repeated values. We should treat the same accordingly before applying any algorithm."
      ]
    },
    {
      "cell_type": "markdown",
      "metadata": {
        "id": "fpZolGOdvvPC"
      },
      "source": [
        "## Data Preprocessing and Exploratory Data Analysis"
      ]
    },
    {
      "cell_type": "markdown",
      "metadata": {
        "id": "L6bb-Fs0vvPD"
      },
      "source": [
        "#### **Question 1: Identify and drop the rows with duplicated customer keys (2 Marks)**"
      ]
    },
    {
      "cell_type": "code",
      "execution_count": null,
      "metadata": {
        "id": "bWj8abFqvvPD"
      },
      "outputs": [],
      "source": [
        "# Identify the duplicated customer keys\n",
        "duplicate_keys = data.duplicated(subset =['Customer Key'])"
      ]
    },
    {
      "cell_type": "code",
      "execution_count": null,
      "metadata": {
        "id": "WeUihO0KvvPF"
      },
      "outputs": [],
      "source": [
        "# Drop duplicated keys\n",
        "\n",
        "data = data.drop_duplicates(subset = ['Customer Key'])"
      ]
    },
    {
      "cell_type": "markdown",
      "metadata": {
        "id": "IDaRoTAQvvPF"
      },
      "source": [
        "We have done some basic checks. Now, let's drop the variables that are not required for our analysis."
      ]
    },
    {
      "cell_type": "code",
      "execution_count": null,
      "metadata": {
        "id": "albq4GJ2vvPF"
      },
      "outputs": [],
      "source": [
        "data.drop(columns = ['Sl_No', 'Customer Key'], inplace = True)"
      ]
    },
    {
      "cell_type": "markdown",
      "metadata": {
        "id": "fRqvXDr4vvPG"
      },
      "source": [
        "Now that we have dropped unnecessary column. We can again check for duplicates. Duplicates would mean customers with identical features."
      ]
    },
    {
      "cell_type": "code",
      "execution_count": null,
      "metadata": {
        "id": "J2EV_kXUvvPG",
        "outputId": "c4159aa4-6b34-4677-b600-063d6e13c529"
      },
      "outputs": [
        {
          "data": {
            "text/html": [
              "<div>\n",
              "<style scoped>\n",
              "    .dataframe tbody tr th:only-of-type {\n",
              "        vertical-align: middle;\n",
              "    }\n",
              "\n",
              "    .dataframe tbody tr th {\n",
              "        vertical-align: top;\n",
              "    }\n",
              "\n",
              "    .dataframe thead th {\n",
              "        text-align: right;\n",
              "    }\n",
              "</style>\n",
              "<table border=\"1\" class=\"dataframe\">\n",
              "  <thead>\n",
              "    <tr style=\"text-align: right;\">\n",
              "      <th></th>\n",
              "      <th>Avg_Credit_Limit</th>\n",
              "      <th>Total_Credit_Cards</th>\n",
              "      <th>Total_visits_bank</th>\n",
              "      <th>Total_visits_online</th>\n",
              "      <th>Total_calls_made</th>\n",
              "    </tr>\n",
              "  </thead>\n",
              "  <tbody>\n",
              "    <tr>\n",
              "      <th>162</th>\n",
              "      <td>8000</td>\n",
              "      <td>2</td>\n",
              "      <td>0</td>\n",
              "      <td>3</td>\n",
              "      <td>4</td>\n",
              "    </tr>\n",
              "    <tr>\n",
              "      <th>175</th>\n",
              "      <td>6000</td>\n",
              "      <td>1</td>\n",
              "      <td>0</td>\n",
              "      <td>2</td>\n",
              "      <td>5</td>\n",
              "    </tr>\n",
              "    <tr>\n",
              "      <th>215</th>\n",
              "      <td>8000</td>\n",
              "      <td>4</td>\n",
              "      <td>0</td>\n",
              "      <td>4</td>\n",
              "      <td>7</td>\n",
              "    </tr>\n",
              "    <tr>\n",
              "      <th>295</th>\n",
              "      <td>10000</td>\n",
              "      <td>6</td>\n",
              "      <td>4</td>\n",
              "      <td>2</td>\n",
              "      <td>3</td>\n",
              "    </tr>\n",
              "    <tr>\n",
              "      <th>324</th>\n",
              "      <td>9000</td>\n",
              "      <td>4</td>\n",
              "      <td>5</td>\n",
              "      <td>0</td>\n",
              "      <td>4</td>\n",
              "    </tr>\n",
              "    <tr>\n",
              "      <th>361</th>\n",
              "      <td>18000</td>\n",
              "      <td>6</td>\n",
              "      <td>3</td>\n",
              "      <td>1</td>\n",
              "      <td>4</td>\n",
              "    </tr>\n",
              "    <tr>\n",
              "      <th>378</th>\n",
              "      <td>12000</td>\n",
              "      <td>6</td>\n",
              "      <td>5</td>\n",
              "      <td>2</td>\n",
              "      <td>1</td>\n",
              "    </tr>\n",
              "    <tr>\n",
              "      <th>385</th>\n",
              "      <td>8000</td>\n",
              "      <td>7</td>\n",
              "      <td>4</td>\n",
              "      <td>2</td>\n",
              "      <td>0</td>\n",
              "    </tr>\n",
              "    <tr>\n",
              "      <th>395</th>\n",
              "      <td>5000</td>\n",
              "      <td>4</td>\n",
              "      <td>5</td>\n",
              "      <td>0</td>\n",
              "      <td>1</td>\n",
              "    </tr>\n",
              "    <tr>\n",
              "      <th>455</th>\n",
              "      <td>47000</td>\n",
              "      <td>6</td>\n",
              "      <td>2</td>\n",
              "      <td>0</td>\n",
              "      <td>4</td>\n",
              "    </tr>\n",
              "    <tr>\n",
              "      <th>497</th>\n",
              "      <td>52000</td>\n",
              "      <td>4</td>\n",
              "      <td>2</td>\n",
              "      <td>1</td>\n",
              "      <td>2</td>\n",
              "    </tr>\n",
              "  </tbody>\n",
              "</table>\n",
              "</div>"
            ],
            "text/plain": [
              "     Avg_Credit_Limit  Total_Credit_Cards  Total_visits_bank  \\\n",
              "162              8000                   2                  0   \n",
              "175              6000                   1                  0   \n",
              "215              8000                   4                  0   \n",
              "295             10000                   6                  4   \n",
              "324              9000                   4                  5   \n",
              "361             18000                   6                  3   \n",
              "378             12000                   6                  5   \n",
              "385              8000                   7                  4   \n",
              "395              5000                   4                  5   \n",
              "455             47000                   6                  2   \n",
              "497             52000                   4                  2   \n",
              "\n",
              "     Total_visits_online  Total_calls_made  \n",
              "162                    3                 4  \n",
              "175                    2                 5  \n",
              "215                    4                 7  \n",
              "295                    2                 3  \n",
              "324                    0                 4  \n",
              "361                    1                 4  \n",
              "378                    2                 1  \n",
              "385                    2                 0  \n",
              "395                    0                 1  \n",
              "455                    0                 4  \n",
              "497                    1                 2  "
            ]
          },
          "execution_count": 129,
          "metadata": {},
          "output_type": "execute_result"
        }
      ],
      "source": [
        "data[data.duplicated()]"
      ]
    },
    {
      "cell_type": "markdown",
      "metadata": {
        "id": "V7Xt_Ss3vvPG"
      },
      "source": [
        "Drop these duplicated rows from the data"
      ]
    },
    {
      "cell_type": "code",
      "execution_count": null,
      "metadata": {
        "id": "aBnoG0IivvPH"
      },
      "outputs": [],
      "source": [
        "data=data[~data.duplicated()]"
      ]
    },
    {
      "cell_type": "code",
      "execution_count": null,
      "metadata": {
        "id": "Bgj7fBervvPH",
        "outputId": "7181e588-68b1-4184-ed6c-687d1997dc47"
      },
      "outputs": [
        {
          "data": {
            "text/plain": [
              "(644, 5)"
            ]
          },
          "execution_count": 131,
          "metadata": {},
          "output_type": "execute_result"
        }
      ],
      "source": [
        "data.shape"
      ]
    },
    {
      "cell_type": "markdown",
      "metadata": {
        "id": "JtAIAYr9vvPH"
      },
      "source": [
        "- After removing duplicated keys and rows and unnecessary columns, there are 644 unique observations and 5 columns in our data."
      ]
    },
    {
      "cell_type": "markdown",
      "metadata": {
        "id": "LmykagZ0vvPI"
      },
      "source": [
        "#### Summary Statistics"
      ]
    },
    {
      "cell_type": "code",
      "execution_count": null,
      "metadata": {
        "id": "yg-YXbPNvvPI",
        "outputId": "4c9d30bf-f6d2-4922-d340-7db9b8f6ce24"
      },
      "outputs": [
        {
          "data": {
            "text/html": [
              "<div>\n",
              "<style scoped>\n",
              "    .dataframe tbody tr th:only-of-type {\n",
              "        vertical-align: middle;\n",
              "    }\n",
              "\n",
              "    .dataframe tbody tr th {\n",
              "        vertical-align: top;\n",
              "    }\n",
              "\n",
              "    .dataframe thead th {\n",
              "        text-align: right;\n",
              "    }\n",
              "</style>\n",
              "<table border=\"1\" class=\"dataframe\">\n",
              "  <thead>\n",
              "    <tr style=\"text-align: right;\">\n",
              "      <th></th>\n",
              "      <th>count</th>\n",
              "      <th>mean</th>\n",
              "      <th>std</th>\n",
              "      <th>min</th>\n",
              "      <th>25%</th>\n",
              "      <th>50%</th>\n",
              "      <th>75%</th>\n",
              "      <th>max</th>\n",
              "    </tr>\n",
              "  </thead>\n",
              "  <tbody>\n",
              "    <tr>\n",
              "      <th>Avg_Credit_Limit</th>\n",
              "      <td>644.0</td>\n",
              "      <td>34543.478261</td>\n",
              "      <td>37428.704286</td>\n",
              "      <td>3000.0</td>\n",
              "      <td>11000.0</td>\n",
              "      <td>18000.0</td>\n",
              "      <td>48000.00</td>\n",
              "      <td>200000.0</td>\n",
              "    </tr>\n",
              "    <tr>\n",
              "      <th>Total_Credit_Cards</th>\n",
              "      <td>644.0</td>\n",
              "      <td>4.694099</td>\n",
              "      <td>2.175338</td>\n",
              "      <td>1.0</td>\n",
              "      <td>3.0</td>\n",
              "      <td>5.0</td>\n",
              "      <td>6.00</td>\n",
              "      <td>10.0</td>\n",
              "    </tr>\n",
              "    <tr>\n",
              "      <th>Total_visits_bank</th>\n",
              "      <td>644.0</td>\n",
              "      <td>2.395963</td>\n",
              "      <td>1.626964</td>\n",
              "      <td>0.0</td>\n",
              "      <td>1.0</td>\n",
              "      <td>2.0</td>\n",
              "      <td>4.00</td>\n",
              "      <td>5.0</td>\n",
              "    </tr>\n",
              "    <tr>\n",
              "      <th>Total_visits_online</th>\n",
              "      <td>644.0</td>\n",
              "      <td>2.624224</td>\n",
              "      <td>2.957728</td>\n",
              "      <td>0.0</td>\n",
              "      <td>1.0</td>\n",
              "      <td>2.0</td>\n",
              "      <td>4.00</td>\n",
              "      <td>15.0</td>\n",
              "    </tr>\n",
              "    <tr>\n",
              "      <th>Total_calls_made</th>\n",
              "      <td>644.0</td>\n",
              "      <td>3.608696</td>\n",
              "      <td>2.880025</td>\n",
              "      <td>0.0</td>\n",
              "      <td>1.0</td>\n",
              "      <td>3.0</td>\n",
              "      <td>5.25</td>\n",
              "      <td>10.0</td>\n",
              "    </tr>\n",
              "  </tbody>\n",
              "</table>\n",
              "</div>"
            ],
            "text/plain": [
              "                     count          mean           std     min      25%  \\\n",
              "Avg_Credit_Limit     644.0  34543.478261  37428.704286  3000.0  11000.0   \n",
              "Total_Credit_Cards   644.0      4.694099      2.175338     1.0      3.0   \n",
              "Total_visits_bank    644.0      2.395963      1.626964     0.0      1.0   \n",
              "Total_visits_online  644.0      2.624224      2.957728     0.0      1.0   \n",
              "Total_calls_made     644.0      3.608696      2.880025     0.0      1.0   \n",
              "\n",
              "                         50%       75%       max  \n",
              "Avg_Credit_Limit     18000.0  48000.00  200000.0  \n",
              "Total_Credit_Cards       5.0      6.00      10.0  \n",
              "Total_visits_bank        2.0      4.00       5.0  \n",
              "Total_visits_online      2.0      4.00      15.0  \n",
              "Total_calls_made         3.0      5.25      10.0  "
            ]
          },
          "execution_count": 132,
          "metadata": {},
          "output_type": "execute_result"
        }
      ],
      "source": [
        "data.describe().T"
      ]
    },
    {
      "cell_type": "markdown",
      "metadata": {
        "id": "kAEzS8-GvvPI"
      },
      "source": [
        "**Observations:**\n",
        "1. Avg_Credit_Limit\t- It seems highly right-skewed. The max value is way far from the mean and median.\n",
        "2. Total_Credit_Cards - It loooks some level of left-skwed but not sure if it's moderate yet.\n",
        "3. Total_visits_bank - It is right skewed. The max value is pretty close to the mean and median. \n",
        "4. Total_visits_online - It could be highly right-skewed since it's max value is much far away to 15.\n",
        "5. Total_calls_made - It could be highly right-skewed.**"
      ]
    },
    {
      "cell_type": "markdown",
      "metadata": {
        "id": "xUxHbmglvvPJ"
      },
      "source": [
        "#### Check the distribution and outliers for each variable in the data."
      ]
    },
    {
      "cell_type": "markdown",
      "metadata": {
        "id": "YM81boKxvvPJ"
      },
      "source": [
        "\n",
        "- **Check the distribution of all variables (use .hist() attribute)**\n",
        "- **Check outliers for all variables with sns.boxplot**"
      ]
    },
    {
      "cell_type": "code",
      "execution_count": null,
      "metadata": {
        "id": "TmKqRM1JvvPJ",
        "outputId": "c6a0d122-a074-44e3-8a8f-149f5e321235"
      },
      "outputs": [
        {
          "name": "stdout",
          "output_type": "stream",
          "text": [
            "Avg_Credit_Limit\n",
            "Skew : 2.19\n"
          ]
        },
        {
          "data": {
            "image/png": "[encoded data removed]",
            "text/plain": [
              "<Figure size 1080x288 with 2 Axes>"
            ]
          },
          "metadata": {
            "needs_background": "light"
          },
          "output_type": "display_data"
        },
        {
          "name": "stdout",
          "output_type": "stream",
          "text": [
            "Total_Credit_Cards\n",
            "Skew : 0.17\n"
          ]
        },
        {
          "data": {
            "image/png": "[encoded data removed]",
            "text/plain": [
              "<Figure size 1080x288 with 2 Axes>"
            ]
          },
          "metadata": {
            "needs_background": "light"
          },
          "output_type": "display_data"
        },
        {
          "name": "stdout",
          "output_type": "stream",
          "text": [
            "Total_visits_bank\n",
            "Skew : 0.15\n"
          ]
        },
        {
          "data": {
            "image/png": "[encoded data removed]",
            "text/plain": [
              "<Figure size 1080x288 with 2 Axes>"
            ]
          },
          "metadata": {
            "needs_background": "light"
          },
          "output_type": "display_data"
        },
        {
          "name": "stdout",
          "output_type": "stream",
          "text": [
            "Total_visits_online\n",
            "Skew : 2.21\n"
          ]
        },
        {
          "data": {
            "image/png": "[encoded data removed]",
            "text/plain": [
              "<Figure size 1080x288 with 2 Axes>"
            ]
          },
          "metadata": {
            "needs_background": "light"
          },
          "output_type": "display_data"
        },
        {
          "name": "stdout",
          "output_type": "stream",
          "text": [
            "Total_calls_made\n",
            "Skew : 0.65\n"
          ]
        },
        {
          "data": {
            "image/png": "[encoded data removed]",
            "text/plain": [
              "<Figure size 1080x288 with 2 Axes>"
            ]
          },
          "metadata": {
            "needs_background": "light"
          },
          "output_type": "display_data"
        }
      ],
      "source": [
        "# Uncomment and complete the code by filling the blanks \n",
        "\n",
        "for col in data.columns:\n",
        "    print(col)\n",
        "    print('Skew :',round(data[col].skew(),2))\n",
        "    plt.figure(figsize=(15,4))\n",
        "    plt.subplot(1,2,1)\n",
        "    data[col].hist(bins=30)\n",
        "    plt.ylabel('count')\n",
        "    plt.subplot(1,2,2)\n",
        "    sns.boxplot(x=data[col])\n",
        "    plt.show()"
      ]
    },
    {
      "cell_type": "markdown",
      "metadata": {
        "id": "yuraaJ3wvvPK"
      },
      "source": [
        "**Observation:**\n",
        "1. Avg_Credit_Limit - Skew 2.19 is not purely skwed - it's clearly a power-law distribtion which means a small group of people has a very high average credit limit (e.g. > 75K) and a large group of people has a very low average credit limit (e.g. < 25K).\n",
        "2. Total_Credit_Cards - It's a discrete distribution ragnes from 1 to 10. It looks not far away from symmetric.\n",
        "3. Total_visits_bank - It's a discrete distribution ragnes from 0 to 5. It looks not far away from symmetric\n",
        "4. Total_visits_online - Skew 2.21 is not purely skwed - it's clearly a power-law distribtion which means a small group of people has a very high total visit online (e.g. >= 7) and a large group of numbers has a very low total visit online (e.g. <= 2).\n",
        "5. Total_calls_made - It's not an easy distribution to name - we may say it's a not a sigficiant power-law distribution.  A relatively small group of people has a high total calls made (e.g. >=5) and a relatively larger group of people has a low total calls made (e.g. <=  4)."
      ]
    },
    {
      "cell_type": "markdown",
      "metadata": {
        "id": "KGeGbF8ovvPK"
      },
      "source": [
        "**Check the correlation among different variables.**"
      ]
    },
    {
      "cell_type": "code",
      "execution_count": null,
      "metadata": {
        "id": "-INtorZDvvPK",
        "outputId": "d00ff8b6-82f7-4366-8da6-f61d0e6aabe4"
      },
      "outputs": [
        {
          "data": {
            "image/png": "[encoded data removed]",
            "text/plain": [
              "<Figure size 576x576 with 2 Axes>"
            ]
          },
          "metadata": {
            "needs_background": "light"
          },
          "output_type": "display_data"
        }
      ],
      "source": [
        "plt.figure(figsize=(8,8))\n",
        "sns.heatmap(data.corr(), annot=True, fmt='0.2f')\n",
        "plt.show()"
      ]
    },
    {
      "cell_type": "markdown",
      "metadata": {
        "id": "m_rQynXTvvPL"
      },
      "source": [
        "**Observation:**\n",
        "\n",
        "- Avg_Credit_Limit is positively correlated with Total_Credit_Cards Total_visits_online which can makes sense.\n",
        "- Avg_Credit_Limit is negatively correlated with Total_calls_made and Total_visits_bank.\n",
        "- Total_visits_bank, Total_visits_online, Total_calls_made are negatively correlated which implies that majority of customers use only one of these channels to contact the bank."
      ]
    },
    {
      "cell_type": "markdown",
      "metadata": {
        "id": "XFimA8PUvvPL"
      },
      "source": [
        "#### Scale the data"
      ]
    },
    {
      "cell_type": "code",
      "execution_count": null,
      "metadata": {
        "id": "TjqSX-50vvPL"
      },
      "outputs": [],
      "source": [
        "scaler=StandardScaler()\n",
        "data_scaled=pd.DataFrame(scaler.fit_transform(data), columns=data.columns)"
      ]
    },
    {
      "cell_type": "code",
      "execution_count": null,
      "metadata": {
        "id": "L2cyzdZNvvPM",
        "outputId": "42074a5e-e393-4450-9f1f-75d9be79f194"
      },
      "outputs": [
        {
          "data": {
            "text/html": [
              "<div>\n",
              "<style scoped>\n",
              "    .dataframe tbody tr th:only-of-type {\n",
              "        vertical-align: middle;\n",
              "    }\n",
              "\n",
              "    .dataframe tbody tr th {\n",
              "        vertical-align: top;\n",
              "    }\n",
              "\n",
              "    .dataframe thead th {\n",
              "        text-align: right;\n",
              "    }\n",
              "</style>\n",
              "<table border=\"1\" class=\"dataframe\">\n",
              "  <thead>\n",
              "    <tr style=\"text-align: right;\">\n",
              "      <th></th>\n",
              "      <th>Avg_Credit_Limit</th>\n",
              "      <th>Total_Credit_Cards</th>\n",
              "      <th>Total_visits_bank</th>\n",
              "      <th>Total_visits_online</th>\n",
              "      <th>Total_calls_made</th>\n",
              "    </tr>\n",
              "  </thead>\n",
              "  <tbody>\n",
              "    <tr>\n",
              "      <th>0</th>\n",
              "      <td>1.750192</td>\n",
              "      <td>-1.239437</td>\n",
              "      <td>-0.858684</td>\n",
              "      <td>-0.549573</td>\n",
              "      <td>-1.253982</td>\n",
              "    </tr>\n",
              "    <tr>\n",
              "      <th>1</th>\n",
              "      <td>0.413280</td>\n",
              "      <td>-0.779381</td>\n",
              "      <td>-1.473803</td>\n",
              "      <td>2.495669</td>\n",
              "      <td>1.873420</td>\n",
              "    </tr>\n",
              "    <tr>\n",
              "      <th>2</th>\n",
              "      <td>0.413280</td>\n",
              "      <td>1.060843</td>\n",
              "      <td>-0.858684</td>\n",
              "      <td>0.127148</td>\n",
              "      <td>0.135974</td>\n",
              "    </tr>\n",
              "    <tr>\n",
              "      <th>3</th>\n",
              "      <td>-0.121485</td>\n",
              "      <td>0.140731</td>\n",
              "      <td>-0.858684</td>\n",
              "      <td>-0.549573</td>\n",
              "      <td>0.135974</td>\n",
              "    </tr>\n",
              "    <tr>\n",
              "      <th>4</th>\n",
              "      <td>1.750192</td>\n",
              "      <td>0.600787</td>\n",
              "      <td>-1.473803</td>\n",
              "      <td>3.172390</td>\n",
              "      <td>-0.211515</td>\n",
              "    </tr>\n",
              "  </tbody>\n",
              "</table>\n",
              "</div>"
            ],
            "text/plain": [
              "   Avg_Credit_Limit  Total_Credit_Cards  Total_visits_bank  \\\n",
              "0          1.750192           -1.239437          -0.858684   \n",
              "1          0.413280           -0.779381          -1.473803   \n",
              "2          0.413280            1.060843          -0.858684   \n",
              "3         -0.121485            0.140731          -0.858684   \n",
              "4          1.750192            0.600787          -1.473803   \n",
              "\n",
              "   Total_visits_online  Total_calls_made  \n",
              "0            -0.549573         -1.253982  \n",
              "1             2.495669          1.873420  \n",
              "2             0.127148          0.135974  \n",
              "3            -0.549573          0.135974  \n",
              "4             3.172390         -0.211515  "
            ]
          },
          "execution_count": 136,
          "metadata": {},
          "output_type": "execute_result"
        }
      ],
      "source": [
        "data_scaled.head()"
      ]
    },
    {
      "cell_type": "code",
      "execution_count": null,
      "metadata": {
        "id": "3ESvHP6SvvPM"
      },
      "outputs": [],
      "source": [
        "# Create copy of the data to store labels from each algorithm\n",
        "data_scaled_copy = data_scaled.copy(deep=True)"
      ]
    },
    {
      "cell_type": "markdown",
      "metadata": {
        "id": "1lVGJ-HRvvPN"
      },
      "source": [
        "## K-Means"
      ]
    },
    {
      "cell_type": "markdown",
      "metadata": {
        "id": "JCT1SB7_vvPN"
      },
      "source": [
        "Let us now fit k-means algorithm on our scaled data and find out the optimum number of clusters to use.\n",
        "\n",
        "We will do this in 3 steps:\n",
        "1. Initialize a dictionary to store the SSE for each k\n",
        "2. Run for a range of Ks and store SSE for each run\n",
        "3. Plot the SSE vs K and find the elbow"
      ]
    },
    {
      "cell_type": "code",
      "execution_count": null,
      "metadata": {
        "id": "HkQWkpSovvPN",
        "outputId": "7819694e-9ce6-4ba2-f0bd-8ccd411cb018"
      },
      "outputs": [
        {
          "data": {
            "image/png": "[encoded data removed]",
            "text/plain": [
              "<Figure size 432x288 with 1 Axes>"
            ]
          },
          "metadata": {
            "needs_background": "light"
          },
          "output_type": "display_data"
        }
      ],
      "source": [
        "# step 1\n",
        "sse = {} \n",
        "\n",
        "# step 2 - iterate for a range of Ks and fit the scaled data to the algorithm. Use inertia attribute from the clustering object and \n",
        "# store the inertia value for that k \n",
        "for k in range(1, 10):\n",
        "    kmeans = KMeans(n_clusters=k, max_iter=1000, random_state=1).fit(data_scaled)\n",
        "    sse[k] = kmeans.inertia_\n",
        "\n",
        "# step 3\n",
        "plt.figure()\n",
        "plt.plot(list(sse.keys()), list(sse.values()), 'bx-')\n",
        "plt.xlabel(\"Number of cluster\")\n",
        "plt.ylabel(\"SSE\")\n",
        "plt.show()"
      ]
    },
    {
      "cell_type": "markdown",
      "metadata": {
        "id": "wYIbRxO2vvPO"
      },
      "source": [
        "- Looking at the plot, we can say that elbow point is achieved for k=3.\n",
        "- We will fit the k-means again with k=3 to get the labels."
      ]
    },
    {
      "cell_type": "markdown",
      "metadata": {
        "id": "mYdAYWNNvvPO"
      },
      "source": [
        "**From the above elbow plot, state the reason for choosing k=3 and with random_state=1**\n",
        "1. Choosing k = 3 : According to the elbow plt we learned, k=3 is exactly the turning point the stiff speed of downloping dramatically changes to very flat decreasing. Elbow plot observation gives us an excellent intuition that k = 3 could be the best fitting culster numbers becuase SSE won't change too much with the numbers of cluster keep growing.\n",
        "2. Choosing random_state = 1 : Random_state is very helpful in machine learning for two major reasons: \n",
        "    a) For reproducibility/repeatability - Just incase I want to publish my results or share them with other colleagues, they can reproducce/repeat easily.\n",
        "    b) For turning purpose - If I'm tuning the model, in an experiment I could keep all variables constant except the one(s) I'm tuning to make it more repeatable/reproducible.**\n",
        "**Fit the K-means algorithms on the scaled data with number of cluster equal to 3**\n",
        "1. It's done with n-culsters = 3, random_sate = 1. \n",
        "2. Please kindly see code to fit the K-means algorithms on the scaled data as below. **\n",
        "**Store the predictions as 'Labels' to the 'data_scaled_copy' and 'data' dataframes**\n",
        "1. With the kemans.predict we could store the predictions as code below.\n",
        "2. With dataframes['Labels'] we can clearly store it in Labels column as code below."
      ]
    },
    {
      "cell_type": "code",
      "execution_count": null,
      "metadata": {
        "id": "bkeg6XsBvvPO"
      },
      "outputs": [],
      "source": [
        "# Apply the K-Means algorithm\n",
        "kmeans = KMeans(n_clusters = 3, random_state= 1) \n",
        "\n",
        "# Fit the kmeans function on the scaled data\n",
        "kmeans.fit(data_scaled) \n",
        "\n",
        "# Add predicted labels to the original data and scaled data \n",
        "# Save the predictions on the scaled data from K-Means\n",
        "data_scaled_copy['Labels'] = kmeans.predict(data_scaled) \n",
        "# Save the predictions on the scaled data from K-Means\n",
        "data['Labels'] = kmeans.predict(data_scaled) "
      ]
    },
    {
      "cell_type": "markdown",
      "metadata": {
        "id": "9SPMPRF1vvPP"
      },
      "source": [
        "Look at the various features based on the labels."
      ]
    },
    {
      "cell_type": "markdown",
      "metadata": {
        "id": "tuLEkmr1vvPQ"
      },
      "source": [
        "#### **Create cluster profiles using the below summary statistics and box plots for each label**"
      ]
    },
    {
      "cell_type": "code",
      "execution_count": null,
      "metadata": {
        "id": "DDqfjsfl2lew",
        "outputId": "a60da3e1-8312-4b0c-a0ab-54b41b8d86a1"
      },
      "outputs": [
        {
          "data": {
            "text/plain": [
              "1    374\n",
              "0    221\n",
              "2     49\n",
              "Name: Labels, dtype: int64"
            ]
          },
          "execution_count": 140,
          "metadata": {},
          "output_type": "execute_result"
        }
      ],
      "source": [
        "# Number of observations in each cluster\n",
        "data.Labels.value_counts()"
      ]
    },
    {
      "cell_type": "code",
      "execution_count": null,
      "metadata": {
        "id": "eu7EO0nn2lex",
        "outputId": "0716f626-abf8-435a-878d-f2bd73409fd9"
      },
      "outputs": [
        {
          "data": {
            "text/html": [
              "<div>\n",
              "<style scoped>\n",
              "    .dataframe tbody tr th:only-of-type {\n",
              "        vertical-align: middle;\n",
              "    }\n",
              "\n",
              "    .dataframe tbody tr th {\n",
              "        vertical-align: top;\n",
              "    }\n",
              "\n",
              "    .dataframe thead th {\n",
              "        text-align: right;\n",
              "    }\n",
              "</style>\n",
              "<table border=\"1\" class=\"dataframe\">\n",
              "  <thead>\n",
              "    <tr style=\"text-align: right;\">\n",
              "      <th></th>\n",
              "      <th>group_0 Mean</th>\n",
              "      <th>group_1 Mean</th>\n",
              "      <th>group_2 Mean</th>\n",
              "      <th>group_0 Median</th>\n",
              "      <th>group_1 Median</th>\n",
              "      <th>group_2 Median</th>\n",
              "    </tr>\n",
              "  </thead>\n",
              "  <tbody>\n",
              "    <tr>\n",
              "      <th>Avg_Credit_Limit</th>\n",
              "      <td>12239.819005</td>\n",
              "      <td>33893.048128</td>\n",
              "      <td>140102.040816</td>\n",
              "      <td>12000.0</td>\n",
              "      <td>31500.0</td>\n",
              "      <td>145000.0</td>\n",
              "    </tr>\n",
              "    <tr>\n",
              "      <th>Total_Credit_Cards</th>\n",
              "      <td>2.411765</td>\n",
              "      <td>5.508021</td>\n",
              "      <td>8.775510</td>\n",
              "      <td>2.0</td>\n",
              "      <td>6.0</td>\n",
              "      <td>9.0</td>\n",
              "    </tr>\n",
              "    <tr>\n",
              "      <th>Total_visits_bank</th>\n",
              "      <td>0.945701</td>\n",
              "      <td>3.489305</td>\n",
              "      <td>0.591837</td>\n",
              "      <td>1.0</td>\n",
              "      <td>3.0</td>\n",
              "      <td>1.0</td>\n",
              "    </tr>\n",
              "    <tr>\n",
              "      <th>Total_visits_online</th>\n",
              "      <td>3.561086</td>\n",
              "      <td>0.975936</td>\n",
              "      <td>10.979592</td>\n",
              "      <td>4.0</td>\n",
              "      <td>1.0</td>\n",
              "      <td>11.0</td>\n",
              "    </tr>\n",
              "    <tr>\n",
              "      <th>Total_calls_made</th>\n",
              "      <td>6.891403</td>\n",
              "      <td>1.997326</td>\n",
              "      <td>1.102041</td>\n",
              "      <td>7.0</td>\n",
              "      <td>2.0</td>\n",
              "      <td>1.0</td>\n",
              "    </tr>\n",
              "  </tbody>\n",
              "</table>\n",
              "</div>"
            ],
            "text/plain": [
              "                     group_0 Mean  group_1 Mean   group_2 Mean  \\\n",
              "Avg_Credit_Limit     12239.819005  33893.048128  140102.040816   \n",
              "Total_Credit_Cards       2.411765      5.508021       8.775510   \n",
              "Total_visits_bank        0.945701      3.489305       0.591837   \n",
              "Total_visits_online      3.561086      0.975936      10.979592   \n",
              "Total_calls_made         6.891403      1.997326       1.102041   \n",
              "\n",
              "                     group_0 Median  group_1 Median  group_2 Median  \n",
              "Avg_Credit_Limit            12000.0         31500.0        145000.0  \n",
              "Total_Credit_Cards              2.0             6.0             9.0  \n",
              "Total_visits_bank               1.0             3.0             1.0  \n",
              "Total_visits_online             4.0             1.0            11.0  \n",
              "Total_calls_made                7.0             2.0             1.0  "
            ]
          },
          "execution_count": 141,
          "metadata": {},
          "output_type": "execute_result"
        }
      ],
      "source": [
        "# Calculate summary statistics of the original data for each label\n",
        "mean = data.groupby('Labels').mean()\n",
        "median = data.groupby('Labels').median()\n",
        "df_kmeans = pd.concat([mean, median], axis=0)\n",
        "df_kmeans.index = ['group_0 Mean', 'group_1 Mean', 'group_2 Mean', 'group_0 Median', 'group_1 Median', 'group_2 Median']\n",
        "df_kmeans.T"
      ]
    },
    {
      "cell_type": "code",
      "execution_count": null,
      "metadata": {
        "id": "bTnGIXvWvvPQ",
        "outputId": "fb854446-d8c0-4254-8b7c-d82ca540226b"
      },
      "outputs": [
        {
          "data": {
            "image/png": "[encoded data removed]",
            "text/plain": [
              "<Figure size 1440x504 with 5 Axes>"
            ]
          },
          "metadata": {
            "needs_background": "light"
          },
          "output_type": "display_data"
        }
      ],
      "source": [
        "# Visualize different features w.r.t K-means labels\n",
        "data_scaled_copy.boxplot(by = 'Labels', layout = (1,5),figsize=(20,7))\n",
        "plt.show()"
      ]
    },
    {
      "cell_type": "markdown",
      "metadata": {
        "id": "nadx5OyGvvPR"
      },
      "source": [
        "**Cluster Profiles:**\n",
        "\n",
        "1. Cluster 0 - Firstly, this cluster has the lowest average credit limit and credit card numbers. It indicates they are not interested or capable of credit card usage. However, they do utilize more communication tools by phone calls, which is the easiest traditional way to engage without physically going out. Their bank visits and online visits are not high, too. In comparison to Cluster 1, we may have a hunch this cluster stands for the elder group who probably use cash or check more and make the phone call more.\n",
        "2. Cluster 1 - on the contrary to Cluster 0, this cluster has more credit limits and credit cards to use, but is still far away from the final cluster 3. This cluster 2 has the most mobility to visit banks to engage, but their calls made and online visits are not high, too. Potentially this group has lower income, less technology capability, but has more chances to visit the bank in their daily life.\n",
        "3. Cluster 2 - It's obvious cluster 2 has a very different profile specifically from every attributes across the board: Avg_Credit_Limit, Total_Credit_Cards, Total_visits_bank, Total_visits_online, and Total_calls_made. All the values of attributes are significantly the highest/lowest among the three clusters. This cluster is financially healthy and safe with deeper pocket and credit limits, more credit cards to utilize with flexibility. This cluster also tends to make the lowest calls and the fewest visit to the bank - which are the traditional approaches to engage with banks. They also have the highest online visits which means they are much more technology-savvy to utilize online tools. In a nutshell, it's a very beneficial cycle in which banks or financial institutions like to interact the most.\n",
        "4. Overall, this K-mean result in 3 clusters is pretty helpful as an unsupervised machine learning approach to understand the customer profile more to make better business decisions.**\n"
      ]
    },
    {
      "cell_type": "markdown",
      "metadata": {
        "id": "B02j8pGUvvPS"
      },
      "source": [
        "## Gaussian Mixture"
      ]
    },
    {
      "cell_type": "markdown",
      "metadata": {
        "id": "qYBGfwaVvvPS"
      },
      "source": [
        "Let's create clusters using Gaussian Mixture Models"
      ]
    },
    {
      "cell_type": "markdown",
      "metadata": {
        "id": "r0N7Ss06vvPS"
      },
      "source": [
        "####**Apply the Gaussian Mixture algorithm on the scaled data with random_state=1** \n",
        "- **Create cluster profiles using the below summary statistics and box plots for each label**\n",
        "- **Compare the clusters from both algorithms - K-means and Gaussian Mixture (1 Mark)**"
      ]
    },
    {
      "cell_type": "code",
      "execution_count": null,
      "metadata": {
        "id": "fBHzul_PvvPS"
      },
      "outputs": [],
      "source": [
        "# Apply the Gaussian Mixture algorithm\n",
        "gmm = GaussianMixture(n_components = 3, random_state = 1)\n",
        "gmm.fit(data_scaled) \n",
        "\n",
        "# Fit the gmm function on the scaled data\n",
        "data_scaled_copy['GmmLabels'] = gmm.predict(data_scaled)\n",
        "data['GmmLabels'] = gmm.predict(data_scaled)"
      ]
    },
    {
      "cell_type": "code",
      "execution_count": null,
      "metadata": {
        "id": "vBtCZOQB2ley",
        "outputId": "aa7194db-946b-48d4-9717-4eca8dff43eb"
      },
      "outputs": [
        {
          "data": {
            "text/plain": [
              "1    374\n",
              "0    221\n",
              "2     49\n",
              "Name: GmmLabels, dtype: int64"
            ]
          },
          "execution_count": 144,
          "metadata": {},
          "output_type": "execute_result"
        }
      ],
      "source": [
        "# Number of observations in each cluster\n",
        "data.GmmLabels.value_counts()"
      ]
    },
    {
      "cell_type": "code",
      "execution_count": null,
      "metadata": {
        "id": "m21wTqIgvvPT",
        "outputId": "ae29c6fb-918e-42cb-a6d8-4555f3e69df4"
      },
      "outputs": [
        {
          "data": {
            "text/html": [
              "<div>\n",
              "<style scoped>\n",
              "    .dataframe tbody tr th:only-of-type {\n",
              "        vertical-align: middle;\n",
              "    }\n",
              "\n",
              "    .dataframe tbody tr th {\n",
              "        vertical-align: top;\n",
              "    }\n",
              "\n",
              "    .dataframe thead th {\n",
              "        text-align: right;\n",
              "    }\n",
              "</style>\n",
              "<table border=\"1\" class=\"dataframe\">\n",
              "  <thead>\n",
              "    <tr style=\"text-align: right;\">\n",
              "      <th></th>\n",
              "      <th>group_0 Mean</th>\n",
              "      <th>group_1 Mean</th>\n",
              "      <th>group_2 Mean</th>\n",
              "      <th>group_0 Median</th>\n",
              "      <th>group_1 Median</th>\n",
              "      <th>group_2 Median</th>\n",
              "    </tr>\n",
              "  </thead>\n",
              "  <tbody>\n",
              "    <tr>\n",
              "      <th>Avg_Credit_Limit</th>\n",
              "      <td>12239.819005</td>\n",
              "      <td>33893.048128</td>\n",
              "      <td>140102.040816</td>\n",
              "      <td>12000.0</td>\n",
              "      <td>31500.0</td>\n",
              "      <td>145000.0</td>\n",
              "    </tr>\n",
              "    <tr>\n",
              "      <th>Total_Credit_Cards</th>\n",
              "      <td>2.411765</td>\n",
              "      <td>5.508021</td>\n",
              "      <td>8.775510</td>\n",
              "      <td>2.0</td>\n",
              "      <td>6.0</td>\n",
              "      <td>9.0</td>\n",
              "    </tr>\n",
              "    <tr>\n",
              "      <th>Total_visits_bank</th>\n",
              "      <td>0.945701</td>\n",
              "      <td>3.489305</td>\n",
              "      <td>0.591837</td>\n",
              "      <td>1.0</td>\n",
              "      <td>3.0</td>\n",
              "      <td>1.0</td>\n",
              "    </tr>\n",
              "    <tr>\n",
              "      <th>Total_visits_online</th>\n",
              "      <td>3.561086</td>\n",
              "      <td>0.975936</td>\n",
              "      <td>10.979592</td>\n",
              "      <td>4.0</td>\n",
              "      <td>1.0</td>\n",
              "      <td>11.0</td>\n",
              "    </tr>\n",
              "    <tr>\n",
              "      <th>Total_calls_made</th>\n",
              "      <td>6.891403</td>\n",
              "      <td>1.997326</td>\n",
              "      <td>1.102041</td>\n",
              "      <td>7.0</td>\n",
              "      <td>2.0</td>\n",
              "      <td>1.0</td>\n",
              "    </tr>\n",
              "  </tbody>\n",
              "</table>\n",
              "</div>"
            ],
            "text/plain": [
              "                     group_0 Mean  group_1 Mean   group_2 Mean  \\\n",
              "Avg_Credit_Limit     12239.819005  33893.048128  140102.040816   \n",
              "Total_Credit_Cards       2.411765      5.508021       8.775510   \n",
              "Total_visits_bank        0.945701      3.489305       0.591837   \n",
              "Total_visits_online      3.561086      0.975936      10.979592   \n",
              "Total_calls_made         6.891403      1.997326       1.102041   \n",
              "\n",
              "                     group_0 Median  group_1 Median  group_2 Median  \n",
              "Avg_Credit_Limit            12000.0         31500.0        145000.0  \n",
              "Total_Credit_Cards              2.0             6.0             9.0  \n",
              "Total_visits_bank               1.0             3.0             1.0  \n",
              "Total_visits_online             4.0             1.0            11.0  \n",
              "Total_calls_made                7.0             2.0             1.0  "
            ]
          },
          "execution_count": 145,
          "metadata": {},
          "output_type": "execute_result"
        }
      ],
      "source": [
        "# Calculate summary statistics of the original data for each label\n",
        "original_features = [\"Avg_Credit_Limit\",\"Total_Credit_Cards\",\"Total_visits_bank\",\"Total_visits_online\",\"Total_calls_made\"]\n",
        "\n",
        "mean = data.groupby('GmmLabels').mean()\n",
        "median = data.groupby('GmmLabels').median()\n",
        "df_gmm = pd.concat([mean, median], axis=0)\n",
        "df_gmm.index = ['group_0 Mean', 'group_1 Mean', 'group_2 Mean', 'group_0 Median', 'group_1 Median', 'group_2 Median']\n",
        "df_gmm[original_features].T"
      ]
    },
    {
      "cell_type": "code",
      "execution_count": null,
      "metadata": {
        "id": "CuJf3MeOvvPT",
        "outputId": "7dee619e-e69b-4586-82ab-f6635fda21a0"
      },
      "outputs": [
        {
          "data": {
            "image/png": "[encoded data removed]",
            "text/plain": [
              "<Figure size 1440x504 with 5 Axes>"
            ]
          },
          "metadata": {
            "needs_background": "light"
          },
          "output_type": "display_data"
        }
      ],
      "source": [
        "# plot boxplots with the new GMM based labels\n",
        "features_with_lables = [\"Avg_Credit_Limit\",\"Total_Credit_Cards\",\"Total_visits_bank\",\"Total_visits_online\",\"Total_calls_made\",\"GmmLabels\"]\n",
        "\n",
        "data_scaled_copy[features_with_lables].boxplot(by = 'GmmLabels', layout = (1,5),figsize=(20,7))\n",
        "plt.show()"
      ]
    },
    {
      "cell_type": "markdown",
      "metadata": {
        "id": "EHA5nl2yvvPU"
      },
      "source": [
        "**Cluster Profiles:**\n",
        "1. Cluster 0 - Firstly, this cluster has the lowest average credit limit and credit card numbers. It indicates they are not interested or capable of credit card usage. However, they do utilize more communication tools by phone calls, which is the easiest traditional way to engage without physically going out. Their bank visits and online visits are not high, too. In comparison to Cluster 1, we may have a hunch this cluster stands for the elder group who probably use cash or check more and make the phone call more.\n",
        "2. Cluster 1 - on the contrary to Cluster 0, this cluster has more credit limits and credit cards to use, but is still far away from the final cluster 3. This cluster 2 has the most mobility to visit banks to engage, but their calls made and online visits are not high, too. Potentially this group has lower income, less technology capability, but has more chances to visit the bank in their daily life.\n",
        "3. Cluster 2 - It's obvious cluster 2 has a very different profile specifically from every attributes across the board: Avg_Credit_Limit, Total_Credit_Cards, Total_visits_bank, Total_visits_online, and Total_calls_made. All the values of attributes are significantly the highest/lowest among the three clusters. This cluster is financially healthy and safe with deeper pocket and credit limits, more credit cards to utilize with flexibility. This cluster also tends to make the lowest calls and the fewest visit to the bank - which are the traditional approaches to engage with banks. They also have the highest online visits which means they are much more technology-savvy to utilize online tools. In a nutshell, it's a very beneficial cycle in which banks or financial institutions like to interact the most.\n",
        "4. Overall, this GMM result in 3 clusters is pretty helpful as an unsupervised machine learning approach to understand the customer profile more to make better business decisions.**\n",
        "\n",
        "**Comparing Clusters:\n",
        "1. As mentioned above, since it's exactly the same. We're cauitiously check but it's really the same. Though it's rare, it's possible. Amazingly but it could happen that the result of the cluster profile from GMM is the same as the result from K-mean. I believe it happens that they do cluster the same point to generate the exact the same result. Basically we thought the cluster-wise, the Cluster 2 in GMM is very different from the Culster 0 and Cluster 1. They are totally different animals. The Cluster 0 and the cluster 1 are a little bit similar specifically from credit limit viewpoint, but still different in some attributes to compare as above. **"
      ]
    },
    {
      "cell_type": "markdown",
      "metadata": {
        "id": "ixzPPJG6vvPV"
      },
      "source": [
        "## K-Medoids"
      ]
    },
    {
      "cell_type": "markdown",
      "metadata": {
        "id": "PpPxOxvmvvPW"
      },
      "source": [
        "####**Apply the K-Mediods on the scaled data with random_state=1** \n",
        "**Create cluster profiles using the below summary statistics and box plots for each label**\n",
        "**Compare the clusters from both algorithms - K-Means and K-Medoids**"
      ]
    },
    {
      "cell_type": "code",
      "execution_count": null,
      "metadata": {
        "id": "UxuTu1JF48hA"
      },
      "outputs": [],
      "source": [
        "# Apply the K-Medoids algorithm\n",
        "kmedo = KMedoids(n_clusters = 3, random_state = 1) \n",
        "\n",
        "# Fit the kmedo function on the scaled data\n",
        "kmedo.fit(data_scaled) \n",
        "\n",
        "data_scaled_copy['kmedoLabels'] = kmedo.predict(data_scaled)\n",
        "data['kmedoLabels'] = kmedo.predict(data_scaled)"
      ]
    },
    {
      "cell_type": "code",
      "execution_count": null,
      "metadata": {
        "id": "9t6hVMWs2lez",
        "outputId": "bd84b129-be61-45e3-b8e0-8428caa91e78"
      },
      "outputs": [
        {
          "data": {
            "text/plain": [
              "2    289\n",
              "0    222\n",
              "1    133\n",
              "Name: kmedoLabels, dtype: int64"
            ]
          },
          "execution_count": 148,
          "metadata": {},
          "output_type": "execute_result"
        }
      ],
      "source": [
        "# Number of observations in each cluster\n",
        "data.kmedoLabels.value_counts()"
      ]
    },
    {
      "cell_type": "code",
      "execution_count": null,
      "metadata": {
        "id": "FvKJ9rrzvvPW",
        "outputId": "c8f9fc4d-86c7-4d33-d2de-aaaba2f84d0f"
      },
      "outputs": [
        {
          "data": {
            "text/html": [
              "<div>\n",
              "<style scoped>\n",
              "    .dataframe tbody tr th:only-of-type {\n",
              "        vertical-align: middle;\n",
              "    }\n",
              "\n",
              "    .dataframe tbody tr th {\n",
              "        vertical-align: top;\n",
              "    }\n",
              "\n",
              "    .dataframe thead th {\n",
              "        text-align: right;\n",
              "    }\n",
              "</style>\n",
              "<table border=\"1\" class=\"dataframe\">\n",
              "  <thead>\n",
              "    <tr style=\"text-align: right;\">\n",
              "      <th></th>\n",
              "      <th>group_0 Mean</th>\n",
              "      <th>group_1 Mean</th>\n",
              "      <th>group_2 Mean</th>\n",
              "      <th>group_0 Median</th>\n",
              "      <th>group_1 Median</th>\n",
              "      <th>group_2 Median</th>\n",
              "    </tr>\n",
              "  </thead>\n",
              "  <tbody>\n",
              "    <tr>\n",
              "      <th>Avg_Credit_Limit</th>\n",
              "      <td>12216.216216</td>\n",
              "      <td>85052.631579</td>\n",
              "      <td>28449.826990</td>\n",
              "      <td>12000.0</td>\n",
              "      <td>68000.0</td>\n",
              "      <td>20000.0</td>\n",
              "    </tr>\n",
              "    <tr>\n",
              "      <th>Total_Credit_Cards</th>\n",
              "      <td>2.423423</td>\n",
              "      <td>7.030075</td>\n",
              "      <td>5.363322</td>\n",
              "      <td>2.0</td>\n",
              "      <td>7.0</td>\n",
              "      <td>5.0</td>\n",
              "    </tr>\n",
              "    <tr>\n",
              "      <th>Total_visits_bank</th>\n",
              "      <td>0.950450</td>\n",
              "      <td>1.691729</td>\n",
              "      <td>3.830450</td>\n",
              "      <td>1.0</td>\n",
              "      <td>2.0</td>\n",
              "      <td>4.0</td>\n",
              "    </tr>\n",
              "    <tr>\n",
              "      <th>Total_visits_online</th>\n",
              "      <td>3.554054</td>\n",
              "      <td>4.639098</td>\n",
              "      <td>0.982699</td>\n",
              "      <td>4.0</td>\n",
              "      <td>2.0</td>\n",
              "      <td>1.0</td>\n",
              "    </tr>\n",
              "    <tr>\n",
              "      <th>Total_calls_made</th>\n",
              "      <td>6.878378</td>\n",
              "      <td>1.969925</td>\n",
              "      <td>1.851211</td>\n",
              "      <td>7.0</td>\n",
              "      <td>2.0</td>\n",
              "      <td>2.0</td>\n",
              "    </tr>\n",
              "  </tbody>\n",
              "</table>\n",
              "</div>"
            ],
            "text/plain": [
              "                     group_0 Mean  group_1 Mean  group_2 Mean  group_0 Median  \\\n",
              "Avg_Credit_Limit     12216.216216  85052.631579  28449.826990         12000.0   \n",
              "Total_Credit_Cards       2.423423      7.030075      5.363322             2.0   \n",
              "Total_visits_bank        0.950450      1.691729      3.830450             1.0   \n",
              "Total_visits_online      3.554054      4.639098      0.982699             4.0   \n",
              "Total_calls_made         6.878378      1.969925      1.851211             7.0   \n",
              "\n",
              "                     group_1 Median  group_2 Median  \n",
              "Avg_Credit_Limit            68000.0         20000.0  \n",
              "Total_Credit_Cards              7.0             5.0  \n",
              "Total_visits_bank               2.0             4.0  \n",
              "Total_visits_online             2.0             1.0  \n",
              "Total_calls_made                2.0             2.0  "
            ]
          },
          "execution_count": 149,
          "metadata": {},
          "output_type": "execute_result"
        }
      ],
      "source": [
        "# Calculate summary statistics of the original data for each label\n",
        "mean = data.groupby('kmedoLabels').mean()\n",
        "median = data.groupby('kmedoLabels').median()\n",
        "df_kmedoids = pd.concat([mean, median], axis=0)\n",
        "df_kmedoids.index = ['group_0 Mean', 'group_1 Mean', 'group_2 Mean', 'group_0 Median', 'group_1 Median', 'group_2 Median']\n",
        "df_kmedoids[original_features].T"
      ]
    },
    {
      "cell_type": "code",
      "execution_count": null,
      "metadata": {
        "id": "eWdxV2rLvvPX",
        "outputId": "c93561c9-22a3-4181-a2c3-b2b473099d25"
      },
      "outputs": [
        {
          "data": {
            "image/png": "[encoded data removed]",
            "text/plain": [
              "<Figure size 1440x504 with 5 Axes>"
            ]
          },
          "metadata": {
            "needs_background": "light"
          },
          "output_type": "display_data"
        }
      ],
      "source": [
        "# plot boxplots with the new K-Medoids based labels\n",
        "\n",
        "features_with_lables = [\"Avg_Credit_Limit\",\t\"Total_Credit_Cards\",\"Total_visits_bank\",\"Total_visits_online\",\"Total_calls_made\",\"kmedoLabels\"]\n",
        "\n",
        "data_scaled_copy[features_with_lables].boxplot(by = 'kmedoLabels', layout = (1,5),figsize=(20,7))\n",
        "plt.show()"
      ]
    },
    {
      "cell_type": "markdown",
      "metadata": {
        "id": "B_MtSZkr2le0"
      },
      "source": [
        "Compare the clusters from K-Means and K-Medoids "
      ]
    },
    {
      "cell_type": "code",
      "execution_count": null,
      "metadata": {
        "id": "l1gebsJ_2le0",
        "outputId": "288db421-b425-4f7f-ea68-7ab9d067250c"
      },
      "outputs": [
        {
          "data": {
            "text/html": [
              "<div>\n",
              "<style scoped>\n",
              "    .dataframe tbody tr th:only-of-type {\n",
              "        vertical-align: middle;\n",
              "    }\n",
              "\n",
              "    .dataframe tbody tr th {\n",
              "        vertical-align: top;\n",
              "    }\n",
              "\n",
              "    .dataframe thead th {\n",
              "        text-align: right;\n",
              "    }\n",
              "</style>\n",
              "<table border=\"1\" class=\"dataframe\">\n",
              "  <thead>\n",
              "    <tr style=\"text-align: right;\">\n",
              "      <th></th>\n",
              "      <th>Avg_Credit_Limit</th>\n",
              "      <th>Avg_Credit_Limit</th>\n",
              "      <th>Total_Credit_Cards</th>\n",
              "      <th>Total_Credit_Cards</th>\n",
              "      <th>Total_visits_bank</th>\n",
              "      <th>Total_visits_bank</th>\n",
              "      <th>Total_visits_online</th>\n",
              "      <th>Total_visits_online</th>\n",
              "      <th>Total_calls_made</th>\n",
              "      <th>Total_calls_made</th>\n",
              "    </tr>\n",
              "  </thead>\n",
              "  <tbody>\n",
              "    <tr>\n",
              "      <th>group_0 Mean</th>\n",
              "      <td>12216.216216</td>\n",
              "      <td>12239.819005</td>\n",
              "      <td>2.423423</td>\n",
              "      <td>2.411765</td>\n",
              "      <td>0.950450</td>\n",
              "      <td>0.945701</td>\n",
              "      <td>3.554054</td>\n",
              "      <td>3.561086</td>\n",
              "      <td>6.878378</td>\n",
              "      <td>6.891403</td>\n",
              "    </tr>\n",
              "    <tr>\n",
              "      <th>group_1 Mean</th>\n",
              "      <td>85052.631579</td>\n",
              "      <td>33893.048128</td>\n",
              "      <td>7.030075</td>\n",
              "      <td>5.508021</td>\n",
              "      <td>1.691729</td>\n",
              "      <td>3.489305</td>\n",
              "      <td>4.639098</td>\n",
              "      <td>0.975936</td>\n",
              "      <td>1.969925</td>\n",
              "      <td>1.997326</td>\n",
              "    </tr>\n",
              "    <tr>\n",
              "      <th>group_2 Mean</th>\n",
              "      <td>28449.826990</td>\n",
              "      <td>140102.040816</td>\n",
              "      <td>5.363322</td>\n",
              "      <td>8.775510</td>\n",
              "      <td>3.830450</td>\n",
              "      <td>0.591837</td>\n",
              "      <td>0.982699</td>\n",
              "      <td>10.979592</td>\n",
              "      <td>1.851211</td>\n",
              "      <td>1.102041</td>\n",
              "    </tr>\n",
              "    <tr>\n",
              "      <th>group_0 Median</th>\n",
              "      <td>12000.000000</td>\n",
              "      <td>12000.000000</td>\n",
              "      <td>2.000000</td>\n",
              "      <td>2.000000</td>\n",
              "      <td>1.000000</td>\n",
              "      <td>1.000000</td>\n",
              "      <td>4.000000</td>\n",
              "      <td>4.000000</td>\n",
              "      <td>7.000000</td>\n",
              "      <td>7.000000</td>\n",
              "    </tr>\n",
              "    <tr>\n",
              "      <th>group_1 Median</th>\n",
              "      <td>68000.000000</td>\n",
              "      <td>31500.000000</td>\n",
              "      <td>7.000000</td>\n",
              "      <td>6.000000</td>\n",
              "      <td>2.000000</td>\n",
              "      <td>3.000000</td>\n",
              "      <td>2.000000</td>\n",
              "      <td>1.000000</td>\n",
              "      <td>2.000000</td>\n",
              "      <td>2.000000</td>\n",
              "    </tr>\n",
              "    <tr>\n",
              "      <th>group_2 Median</th>\n",
              "      <td>20000.000000</td>\n",
              "      <td>145000.000000</td>\n",
              "      <td>5.000000</td>\n",
              "      <td>9.000000</td>\n",
              "      <td>4.000000</td>\n",
              "      <td>1.000000</td>\n",
              "      <td>1.000000</td>\n",
              "      <td>11.000000</td>\n",
              "      <td>2.000000</td>\n",
              "      <td>1.000000</td>\n",
              "    </tr>\n",
              "  </tbody>\n",
              "</table>\n",
              "</div>"
            ],
            "text/plain": [
              "                Avg_Credit_Limit  Avg_Credit_Limit  Total_Credit_Cards  \\\n",
              "group_0 Mean        12216.216216      12239.819005            2.423423   \n",
              "group_1 Mean        85052.631579      33893.048128            7.030075   \n",
              "group_2 Mean        28449.826990     140102.040816            5.363322   \n",
              "group_0 Median      12000.000000      12000.000000            2.000000   \n",
              "group_1 Median      68000.000000      31500.000000            7.000000   \n",
              "group_2 Median      20000.000000     145000.000000            5.000000   \n",
              "\n",
              "                Total_Credit_Cards  Total_visits_bank  Total_visits_bank  \\\n",
              "group_0 Mean              2.411765           0.950450           0.945701   \n",
              "group_1 Mean              5.508021           1.691729           3.489305   \n",
              "group_2 Mean              8.775510           3.830450           0.591837   \n",
              "group_0 Median            2.000000           1.000000           1.000000   \n",
              "group_1 Median            6.000000           2.000000           3.000000   \n",
              "group_2 Median            9.000000           4.000000           1.000000   \n",
              "\n",
              "                Total_visits_online  Total_visits_online  Total_calls_made  \\\n",
              "group_0 Mean               3.554054             3.561086          6.878378   \n",
              "group_1 Mean               4.639098             0.975936          1.969925   \n",
              "group_2 Mean               0.982699            10.979592          1.851211   \n",
              "group_0 Median             4.000000             4.000000          7.000000   \n",
              "group_1 Median             2.000000             1.000000          2.000000   \n",
              "group_2 Median             1.000000            11.000000          2.000000   \n",
              "\n",
              "                Total_calls_made  \n",
              "group_0 Mean            6.891403  \n",
              "group_1 Mean            1.997326  \n",
              "group_2 Mean            1.102041  \n",
              "group_0 Median          7.000000  \n",
              "group_1 Median          2.000000  \n",
              "group_2 Median          1.000000  "
            ]
          },
          "execution_count": 151,
          "metadata": {},
          "output_type": "execute_result"
        }
      ],
      "source": [
        "comparison = pd.concat([df_kmedoids, df_kmeans], axis=1)[original_features]\n",
        "comparison"
      ]
    },
    {
      "cell_type": "markdown",
      "metadata": {
        "id": "iuNbMOGKvvPY"
      },
      "source": [
        "**Cluster Profiles:**\n",
        "1. Cluster 0 - Firstly, this cluster has the lowest average credit limit and credit card numbers, especially credit card quanitity. It indicates they are not interested or capable of credit card usage. However, they do utilize the highest communication tools by phone calls, which is the easiest traditional way to engage without physically going outdoor. Their bank visits and online visits are low, especially the bank visit. \n",
        "2. Cluster 1 -  This cluster is financially healthy and safe with deeper pocket and credit limits, more credit cards to utilize with flexibility. This cluster also tends to make the lowest calls and the less visit to the bank - which are the traditional approaches to engage with banks. They have a wide range of online visits from low to the high.\n",
        "3. Cluster 2 - This cluster 2 has more mobility to visit banks to engage, but their calls made and online visits are very low. Potentially this group has lower income, less technology capability, but has more chances to visit the bank in their daily life.\n",
        "4. In a nutshell, it's a very beneficial cycle in which banks or financial institutions like to interact the most.**\n",
        "\n",
        "**Comparing Clusters:**\n",
        "1. In comparison to Cluster 1, we may have a hunch cluster 0 stands for the elder group who probably use cash or check more and make the phone call more. \n",
        "2. It's obvious cluster 1 has a very different profile specifically from every attributes almost across the board: Avg_Credit_Limit, Total_Credit_Cards, Total_visits_online, and Total_calls_made. Almost all the values of attributes are significantly the highest/lowest among the three clusters.\n",
        "3. On the contrary to Cluster 0, the cluster 2 has a little bit more credit limits and credit cards to use, but is still far away from the cluster 1. **"
      ]
    }
  ],
  "metadata": {
    "colab": {
      "collapsed_sections": [],
      "name": "Alvin_Kuo_Portfolio_Clustering_Unsupervised_Learning_Classification_Credit_Card_Customer.ipynb",
      "provenance": []
    },
    "kernelspec": {
      "display_name": "Python 3 (ipykernel)",
      "language": "python",
      "name": "python3"
    },
    "language_info": {
      "codemirror_mode": {
        "name": "ipython",
        "version": 3
      },
      "file_extension": ".py",
      "mimetype": "text/x-python",
      "name": "python",
      "nbconvert_exporter": "python",
      "pygments_lexer": "ipython3",
      "version": "3.9.7"
    }
  },
  "nbformat": 4,
  "nbformat_minor": 0
}