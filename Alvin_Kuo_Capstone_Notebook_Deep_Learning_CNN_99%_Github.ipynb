{
 "cells": [
  {
   "cell_type": "markdown",
   "metadata": {
    "id": "dM-znmRHTPcT"
   },
   "source": [
    "# **CNN 99% Model**\n",
    "\n",
    "*“Simplicity is the ultimate sophistication.” — Leonardo da Vinci.*\n",
    "\n",
    "*“Nature is pleased with simplicity.” — Isaac Newton.*\n",
    "\n",
    "This model gives us the \"Simplicity is the Best\" Model which scores 99% in recal, precision, f1 score and testin accuracy\n"
   ]
  },
  {
   "cell_type": "markdown",
   "metadata": {
    "id": "fmwb4h0h64Km"
   },
   "source": [
    "###**The model**"
   ]
  },
  {
   "cell_type": "code",
   "execution_count": null,
   "metadata": {
    "id": "3LV1Ad_b4_LK"
   },
   "outputs": [],
   "source": [
    "# sequential model\n",
    "model = Sequential()\n",
    "model.add(Conv2D(filters= 32, kernel_size= 5, padding = \"same\", activation = \"relu\", input_shape=(64, 64, 3)))\n",
    "model.add(MaxPooling2D(pool_size=2))\n",
    "model.add(Dropout(0.2))\n",
    "model.add(Conv2D(filters= 32, kernel_size= 5, padding = \"same\", activation = \"relu\"))\n",
    "model.add(MaxPooling2D(pool_size=2))\n",
    "model.add(Dropout(0.2))\n",
    "model.add(Conv2D(filters= 32, kernel_size= 5, padding = \"same\", activation = \"relu\"))\n",
    "model.add(MaxPooling2D(pool_size=2))\n",
    "model.add(Dropout(0.2))\n",
    "\n",
    "model.add(Flatten())\n",
    "\n",
    "model.add(Dense(1024, activation=\"relu\"))\n",
    "model.add(Dropout(0.3))\n",
    "model.add(Dense(2, activation=\"softmax\"))\n",
    "\n",
    "# finetune the output layer neuron 64, 128, 256, 512, 1024 and 2048\n",
    "# neuron 128, 256, 512, 1024 have very similar performance\n",
    "# neuron 1024 is slightly better as the best\n",
    "# neuron 64 is ok, but slightly worse than the previous 4 values\n",
    "# neuron 2048 is ok, but slightly worse than the previous 4 values as well\n",
    "# 1024 as the final \n",
    "\n",
    "# fine-tune final dropout layer's percentage 0, 0.3, 0.4 and 0.8\n",
    "# both 0, 0.4 and 0.8 does not perform better than 0.3\n",
    "# we will use 0.3 -  appropriate regularization at the end is optimal\n",
    "\n",
    "# fine-tune Conv2D layer's filter 16, 32 and 64\n",
    "# filter 16 and 64 won't perform better than 32\n",
    "# tried 16, 32, 64 or 4, 16, 32 in sequence for the 3 layers, not better\n",
    "# we will use 32/32/32 since it's the optimal"
   ]
  },
  {
   "cell_type": "code",
   "execution_count": null,
   "metadata": {
    "id": "it9Vkqglm3Sk"
   },
   "outputs": [],
   "source": [
    "# model.summary() "
   ]
  },
  {
   "cell_type": "code",
   "execution_count": null,
   "metadata": {
    "id": "clohO6wtDaqd"
   },
   "outputs": [],
   "source": [
    "# plot_model(model, \n",
    "#            show_shapes = True, \n",
    "#            show_layer_names = True)"
   ]
  },
  {
   "cell_type": "markdown",
   "metadata": {
    "id": "4Sh0OGP268Qm"
   },
   "source": [
    "###**Compile the model**"
   ]
  },
  {
   "cell_type": "code",
   "execution_count": null,
   "metadata": {
    "id": "fGGRMByKOMyG"
   },
   "outputs": [],
   "source": [
    "model.compile(loss='binary_crossentropy', \n",
    "              optimizer='SGD', \n",
    "              metrics=['accuracy'])\n",
    "\n",
    "# Fine-tune between Adam and SGD\n",
    "# Adam converges very fast and performance better to 98-99 recall and 97-98 f1/test accuracy\n",
    "# SGD generalizes up eventually delivers the best 99 recall, precision, f1 and test accuracy\n",
    "# We chose SGD eventually"
   ]
  },
  {
   "cell_type": "markdown",
   "metadata": {
    "id": "7Dt8lFvz6_K6"
   },
   "source": [
    "###**Use Callbacks**"
   ]
  },
  {
   "cell_type": "code",
   "execution_count": null,
   "metadata": {
    "id": "FPwUYX3KOM34"
   },
   "outputs": [],
   "source": [
    "callbacks = [EarlyStopping(monitor = 'val_loss', \n",
    "                           patience = 4),\n",
    "             ModelCheckpoint('.mdl_wts.hdf5', \n",
    "                             monitor ='val_loss', \n",
    "                             save_best_only = True)]\n",
    "\n",
    "# EarlyStopping: A class to stop training if a monitored metric is not improving\n",
    "# patience: Number of epochs with no improvement after which training will be stopped\n",
    "# patience: Higher patience could help to avoid stuck in the local minimum, but longer run time\n",
    "# ModelCheckpoint: In callback to save the model's weights\n",
    "# mdl_wts.hdf5: The file to save model weights (wts)\n",
    "# hdf5 is \"Hierarchical Data Format version 5\"\n",
    "# hdf5 is an open source file format that supports large, complex, heterogeneous data\n",
    "# hdf5 uses a \"file directory\" to organize data within the file in many different structured ways\n",
    "# save_best_only = True means saving the latest best model according to the metrics monitored"
   ]
  },
  {
   "cell_type": "markdown",
   "metadata": {
    "id": "91af114l7DCt"
   },
   "source": [
    "###**Fit and Train Model**"
   ]
  },
  {
   "cell_type": "code",
   "execution_count": null,
   "metadata": {
    "colab": {
     "base_uri": "https://localhost:8080/"
    },
    "id": "XysPQsWn5EGq",
    "outputId": "e320fb7f-2b1d-4f67-ece7-80402a884ee4"
   },
   "outputs": [
    {
     "name": "stdout",
     "output_type": "stream",
     "text": [
      "Epoch 1/30\n",
      "624/624 [==============================] - 6s 8ms/step - loss: 0.0627 - accuracy: 0.9777 - val_loss: 0.0561 - val_accuracy: 0.9850\n",
      "Epoch 2/30\n",
      "624/624 [==============================] - 5s 7ms/step - loss: 0.0577 - accuracy: 0.9801 - val_loss: 0.0607 - val_accuracy: 0.9868\n",
      "Epoch 3/30\n",
      "624/624 [==============================] - 5s 7ms/step - loss: 0.0556 - accuracy: 0.9804 - val_loss: 0.0657 - val_accuracy: 0.9822\n",
      "Epoch 4/30\n",
      "624/624 [==============================] - 5s 7ms/step - loss: 0.0492 - accuracy: 0.9817 - val_loss: 0.0565 - val_accuracy: 0.9848\n",
      "Epoch 5/30\n",
      "624/624 [==============================] - 5s 7ms/step - loss: 0.0441 - accuracy: 0.9832 - val_loss: 0.0621 - val_accuracy: 0.9832\n"
     ]
    }
   ],
   "source": [
    "# fit the model with min batch size as 32\n",
    "# Batch size has to be factor of 2^power (8, 16, 32, 64, 128) to fit computer's memory\n",
    "\n",
    "hist = model.fit(train_images,\n",
    "                 train_labels,\n",
    "                 batch_size = 32,\n",
    "                 validation_split = 0.2,\n",
    "                 callbacks = callbacks,\n",
    "                 epochs = 30,\n",
    "                 verbose = 1)\n",
    "\n",
    "# Fine-tune batch size 32, 64\n",
    "# batch size 32 seems the best, but not too much difference\n",
    "# Fine-tune validation split 0.1, 0.2 and 0.3\n",
    "# validation split 0.1 or 0.3 does not change anything from 0.2\n",
    "# Will keep 0.2"
   ]
  },
  {
   "cell_type": "markdown",
   "metadata": {
    "id": "Vn7bDXku7Ib8"
   },
   "source": [
    "### **Evaluate the Model**"
   ]
  },
  {
   "cell_type": "code",
   "execution_count": null,
   "metadata": {
    "colab": {
     "base_uri": "https://localhost:8080/"
    },
    "id": "mHbgBrZe5Hqh",
    "outputId": "4aa93c54-5960-491a-a9de-cd5a0afecf93"
   },
   "outputs": [
    {
     "name": "stdout",
     "output_type": "stream",
     "text": [
      "\n",
      " Test_Accuracy - 0.9884615540504456\n"
     ]
    }
   ],
   "source": [
    "accuracy = model.evaluate(test_images, \n",
    "                          test_labels, \n",
    "                          verbose = 0)\n",
    "print('\\n', 'Test_Accuracy -', accuracy[1])"
   ]
  },
  {
   "cell_type": "markdown",
   "metadata": {
    "id": "eWq4jyPL7f5a"
   },
   "source": [
    "###**Train and Validation Accuracy**"
   ]
  },
  {
   "cell_type": "code",
   "execution_count": null,
   "metadata": {
    "colab": {
     "base_uri": "https://localhost:8080/",
     "height": 350
    },
    "id": "U3h5gAwyW05u",
    "outputId": "5e8bc683-8a73-4cbd-a4e8-63e410b213bd"
   },
   "outputs": [
    {
     "data": {
      "image/png": "[encoded data removed]",
      "text/plain": [
       "<Figure size 360x360 with 1 Axes>"
      ]
     },
     "metadata": {
      "needs_background": "light"
     },
     "output_type": "display_data"
    }
   ],
   "source": [
    "# Set up function to plot train and validation accuracy \n",
    "L = len(hist.history[\"accuracy\"])\n",
    "plt.figure(figsize=(5,5))\n",
    "plt.plot(np.arange(0, L), \n",
    "  hist.history[\"accuracy\"], \n",
    "  label=\"train_acc\",\n",
    "  color='r')\n",
    "plt.plot(np.arange(0, L), \n",
    "  hist.history[\"val_accuracy\"], \n",
    "  label=\"val_acc\",\n",
    "  color='c')\n",
    "plt.title(\"Accuracy vs Epoch\")\n",
    "plt.xlabel(\"Epochs\")\n",
    "plt.ylabel(\"Accuracy\")\n",
    "plt.legend(loc=\"best\");"
   ]
  },
  {
   "cell_type": "markdown",
   "metadata": {
    "id": "sSoNNG_T7PkT"
   },
   "source": [
    "### **Classification Report and Confusion Matrix**"
   ]
  },
  {
   "cell_type": "code",
   "execution_count": null,
   "metadata": {
    "colab": {
     "base_uri": "https://localhost:8080/",
     "height": 451
    },
    "id": "mwY1yx095NN5",
    "outputId": "d7554c4e-02b1-4b94-9e16-bf230ed3944c"
   },
   "outputs": [
    {
     "name": "stdout",
     "output_type": "stream",
     "text": [
      "              precision    recall  f1-score   support\n",
      "\n",
      "           0       0.99      0.99      0.99      1300\n",
      "           1       0.99      0.99      0.99      1300\n",
      "\n",
      "    accuracy                           0.99      2600\n",
      "   macro avg       0.99      0.99      0.99      2600\n",
      "weighted avg       0.99      0.99      0.99      2600\n",
      "\n"
     ]
    },
    {
     "data": {
      "image/png": "[encoded data removed]",
      "text/plain": [
       "<Figure size 576x288 with 2 Axes>"
      ]
     },
     "metadata": {
      "needs_background": "light"
     },
     "output_type": "display_data"
    }
   ],
   "source": [
    "# np.argmax returns the indices of the max values along axis 1\n",
    "# print the classification report\n",
    "pred = model.predict(test_images)\n",
    "pred = np.argmax(pred, axis = 1) \n",
    "y_tru = np.argmax(test_labels, axis = 1)\n",
    "print(classification_report(y_tru, pred))\n",
    "\n",
    "# plot the heatmap with confusion matrix\n",
    "cmat = confusion_matrix(y_tru, pred)\n",
    "plt.figure(figsize=(8,4))\n",
    "sns.heatmap(cmat, \n",
    "            annot = True, \n",
    "            fmt='.0f', \n",
    "            cmap=\"YlGnBu\",\n",
    "            xticklabels=['Uninfected', 'Parasitized'], \n",
    "            yticklabels=['Uninfected', 'Parasitized'])\n",
    "plt.title('Actual vs Predicted')\n",
    "plt.ylabel('Actual')\n",
    "plt.xlabel('Predicted')\n",
    "plt.show()"
   ]
  },
  {
   "cell_type": "markdown",
   "metadata": {
    "id": "AGOtxZ10fEIn"
   },
   "source": [
    "#**Bottomline**\n",
    "\n",
    "* **The Model for Simplicity, Broad Usage with Low cost** - A CNN model without augementation, fancy activation function, sophisticated regulation, lengthy layers or any pre-trained transer learning - reaches successfully homerun 99% in Recall, precision, f1-Score and Test Accuracy. It would be super easy to implement in the mobile or edge device for broad usage of this deep learning CNN model"
   ]
  }
 ],
 "metadata": {
  "accelerator": "GPU",
  "colab": {
   "collapsed_sections": [],
   "machine_shape": "hm",
   "name": "Alvin_Kuo_Capstone_Notebook_Deep_Learning_CNN_99%_Github.ipynb",
   "provenance": []
  },
  "kernelspec": {
   "display_name": "Python 3 (ipykernel)",
   "language": "python",
   "name": "python3"
  },
  "language_info": {
   "codemirror_mode": {
    "name": "ipython",
    "version": 3
   },
   "file_extension": ".py",
   "mimetype": "text/x-python",
   "name": "python",
   "nbconvert_exporter": "python",
   "pygments_lexer": "ipython3",
   "version": "3.9.7"
  }
 },
 "nbformat": 4,
 "nbformat_minor": 1
}
