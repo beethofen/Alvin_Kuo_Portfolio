{
  "cells": [
    {
      "cell_type": "markdown",
      "id": "14sqjnsA8AFP",
      "metadata": {
        "id": "14sqjnsA8AFP"
      },
      "source": [
        "# **0. Hackathon Overview** "
      ]
    },
    {
      "cell_type": "markdown",
      "id": "ZXx73XIz75ed",
      "metadata": {
        "id": "ZXx73XIz75ed"
      },
      "source": [
        "MIT ADSP (Applied Data Science Program) Hackathon held on (### To protect the IP, we skip the code here) 2022. This problem statement (### To protect the IP, we skip the code here)"
      ]
    },
    {
      "cell_type": "markdown",
      "id": "tjBzPKoG9JP_",
      "metadata": {
        "id": "tjBzPKoG9JP_"
      },
      "source": [
        "## **Performance and Result**\n",
        "\n",
        "### **Rank #7/(### To protect the IP, we skip the description here)**\n",
        "Our team reached #7 among global (### To protect the IP, we skip the description here) teams\n",
        "### **Result 95.62% Accuracy** \n",
        "Our team reached 95.62384% ### To protect the IP, we skip the description here"
      ]
    },
    {
      "cell_type": "markdown",
      "id": "wCPWTWUsce7r",
      "metadata": {
        "id": "wCPWTWUsce7r"
      },
      "source": [
        "# **1. Understand the Problem Statement and Import the Packages**"
      ]
    },
    {
      "cell_type": "markdown",
      "id": "QWoVMZpKKzta",
      "metadata": {
        "id": "QWoVMZpKKzta"
      },
      "source": [
        "## **A. Problem Statement**"
      ]
    },
    {
      "cell_type": "markdown",
      "id": "iSAKAToi8Nrb",
      "metadata": {
        "id": "iSAKAToi8Nrb"
      },
      "source": [
        "### **Goal**\n",
        "### To protect the IP, we skip the description here\n",
        "\n",
        "### **Dataset** \n",
        "### To protect the IP, we skip the description here\n",
        "\n",
        "Train_Data\n",
        "Test_Data\n",
        "\n",
        "### **Target Variable**\n",
        "### To protect the IP, we skip the desciprtion here\n",
        "\n",
        "### **Data Dictionary**\n",
        "### To protect the IP, we skip the desciprtion here\n",
        "\n",
        "### **Submission File Format**\n",
        "### To protect the IP, we skip the description here\n",
        "\n",
        "ID\n",
        "### To protect the IP, we skip the description here\n"
      ]
    },
    {
      "cell_type": "markdown",
      "id": "f3HPsAKUCHQ6",
      "metadata": {
        "id": "f3HPsAKUCHQ6"
      },
      "source": [
        "# **B. Import the Packages**"
      ]
    },
    {
      "cell_type": "markdown",
      "id": "AhlNyBD3CiIN",
      "metadata": {
        "id": "AhlNyBD3CiIN"
      },
      "source": [
        "### **Prep the Library**"
      ]
    },
    {
      "cell_type": "code",
      "execution_count": null,
      "id": "ea7eafa2",
      "metadata": {
        "id": "ea7eafa2"
      },
      "outputs": [],
      "source": [
        "import numpy as np\n",
        "import pandas as pd\n",
        "import matplotlib.pyplot as plt\n",
        "import seaborn as sns\n",
        "\n",
        "from sklearn.model_selection import train_test_split\n",
        "\n",
        "from sklearn.tree import DecisionTreeClassifier\n",
        "from sklearn.ensemble import BaggingClassifier\n",
        "from sklearn.metrics import accuracy_score, classification_report, confusion_matrix, f1_score\n",
        "from sklearn.ensemble import RandomForestClassifier\n",
        "from sklearn.ensemble import GradientBoostingClassifier\n",
        "from sklearn.naive_bayes import GaussianNB\n",
        "from sklearn.linear_model import LogisticRegression\n",
        "from sklearn.model_selection import GridSearchCV\n",
        "from sklearn.ensemble import VotingClassifier\n",
        "from sklearn.ensemble import AdaBoostClassifier\n",
        "from sklearn.svm import SVC"
      ]
    },
    {
      "cell_type": "markdown",
      "id": "7hG0J7uudr9X",
      "metadata": {
        "id": "7hG0J7uudr9X"
      },
      "source": [
        "# **2. Import dataset**"
      ]
    },
    {
      "cell_type": "markdown",
      "id": "nYQjnurKKDPO",
      "metadata": {
        "id": "nYQjnurKKDPO"
      },
      "source": [
        "## **Moun the Drive**"
      ]
    },
    {
      "cell_type": "code",
      "execution_count": null,
      "id": "EZxL389vI_1r",
      "metadata": {
        "colab": {
          "base_uri": "https://localhost:8080/"
        },
        "id": "EZxL389vI_1r",
        "outputId": "e9efea3a-f8f0-40e7-abdf-4e8092f54b22"
      },
      "outputs": [
        {
          "name": "stdout",
          "output_type": "stream",
          "text": [
            "Drive already mounted at /content/drive; to attempt to forcibly remount, call drive.mount(\"/content/drive\", force_remount=True).\n"
          ]
        }
      ],
      "source": [
        "from google.colab import drive\n",
        "drive.mount('/content/drive')"
      ]
    },
    {
      "cell_type": "markdown",
      "id": "qcEqa1bc89RB",
      "metadata": {
        "id": "qcEqa1bc89RB"
      },
      "source": [
        "## **Get Current Work Directory**"
      ]
    },
    {
      "cell_type": "code",
      "execution_count": null,
      "id": "CYlkTwsm88RJ",
      "metadata": {
        "colab": {
          "base_uri": "https://localhost:8080/",
          "height": 35
        },
        "id": "CYlkTwsm88RJ",
        "outputId": "c87cd945-9aa2-4f23-f714-599bffe75479"
      },
      "outputs": [
        {
          "data": {
            "application/vnd.google.colaboratory.intrinsic+json": {
              "type": "string"
            },
            "text/plain": [
              "'/content'"
            ]
          },
          "execution_count": 198,
          "metadata": {},
          "output_type": "execute_result"
        }
      ],
      "source": [
        "# cwd = current work directory\n",
        "import os\n",
        "os.getcwd()"
      ]
    },
    {
      "cell_type": "markdown",
      "id": "utlJinoLKHr8",
      "metadata": {
        "id": "utlJinoLKHr8"
      },
      "source": [
        "### **Prep the Path** "
      ]
    },
    {
      "cell_type": "code",
      "execution_count": null,
      "id": "5970dc5a",
      "metadata": {
        "id": "5970dc5a"
      },
      "outputs": [],
      "source": [
        "# Google Colab and multiple member file structures\n",
        "# Easy to comment out and choose the best path fit\n",
        "\n",
        "# /content\n",
        "\n",
        "### To protect the IP, we skip the code here\n",
        "\n",
        "# /\n",
        "(### To protect the IP, we skip the code here)\n",
        "\n",
        "# /content/drive/MyDrive/GL_Hackathon\n",
        "\n",
        "(### To protect the IP, we skip the code here)"
      ]
    },
    {
      "cell_type": "code",
      "execution_count": null,
      "id": "SRQpq92Q3TCl",
      "metadata": {
        "id": "SRQpq92Q3TCl"
      },
      "outputs": [],
      "source": [
        ""
      ]
    },
    {
      "cell_type": "markdown",
      "id": "1qNX4-dILBzv",
      "metadata": {
        "id": "1qNX4-dILBzv"
      },
      "source": [
        "## **3. Perform EDA - Exploratory Data Analysis**\n",
        "\n",
        "Understanding the Datasets. Explore Train and Test Data and get to know what each Column / Feature denotes. Check for Imbalance of Target Column in Datasets"
      ]
    },
    {
      "cell_type": "markdown",
      "id": "KTgr1SbTenyY",
      "metadata": {
        "id": "KTgr1SbTenyY"
      },
      "source": [
        "## **Explore Train and Test Data**"
      ]
    },
    {
      "cell_type": "markdown",
      "id": "eO6SSuABOH2g",
      "metadata": {
        "id": "eO6SSuABOH2g"
      },
      "source": [
        "### **Check Head & Tail**"
      ]
    },
    {
      "cell_type": "code",
      "execution_count": null,
      "id": "b157146f",
      "metadata": {
        "id": "b157146f",
        "scrolled": true
      },
      "outputs": [],
      "source": [
        "# Overview with head and tail by append and transpose\n",
        "\n",
        "### To protect the IP, we skip the code here"
      ]
    },
    {
      "cell_type": "markdown",
      "id": "yiFSnT3zPLFY",
      "metadata": {
        "id": "yiFSnT3zPLFY"
      },
      "source": [
        "#### **Observations & Actions**\n",
        "* **1. ID** - ID would be the column to merge:\n",
        "### To protect the IP, we skip the discription here\n",
        "* **2. Dummy** - Expected to be implmented later. Rating could be implemented, too."
      ]
    },
    {
      "cell_type": "markdown",
      "id": "WanRMtucQ01j",
      "metadata": {
        "id": "WanRMtucQ01j"
      },
      "source": [
        "## **Check Info**"
      ]
    },
    {
      "cell_type": "code",
      "execution_count": null,
      "id": "mR8HkveAPGxh",
      "metadata": {
        "id": "mR8HkveAPGxh"
      },
      "outputs": [],
      "source": [
        "### To protect the IP, we skip the code here"
      ]
    },
    {
      "cell_type": "markdown",
      "id": "sTGDb-xJRvA4",
      "metadata": {
        "id": "sTGDb-xJRvA4"
      },
      "source": [
        "#### **Observations & Actions**\n",
        "* **1. Missing dadta** - Full of missing data everywhere. It would be a key challenge to fill in missing data skillfully\n",
        "* **2. Object type** - Would be transforred to float, int or unit-8 later completely\n",
        "### To protect the IP, we skip the description here"
      ]
    },
    {
      "cell_type": "markdown",
      "id": "MSlPQLa3Tnie",
      "metadata": {
        "id": "MSlPQLa3Tnie"
      },
      "source": [
        "## **Dive into Datasets Seperatly**\n",
        "### To protect the IP, we skip the desciprtion here"
      ]
    },
    {
      "cell_type": "code",
      "execution_count": null,
      "id": "Vgj7u3j3im1v",
      "metadata": {
        "id": "Vgj7u3j3im1v"
      },
      "outputs": [],
      "source": [
        "### To protect the IP, we skip the code here"
      ]
    },
    {
      "cell_type": "markdown",
      "id": "OiTgIi5ATvSe",
      "metadata": {
        "id": "OiTgIi5ATvSe"
      },
      "source": [
        "#### **Group the Numerical Rating into Scale**"
      ]
    },
    {
      "cell_type": "code",
      "execution_count": null,
      "id": "9V1LktgkWF3l",
      "metadata": {
        "id": "9V1LktgkWF3l"
      },
      "outputs": [],
      "source": [
        "# Make a list of all categorical variables\n",
        "### To protect the IP, we skip the code here\n",
        "print(s_cat_col)"
      ]
    },
    {
      "cell_type": "code",
      "execution_count": null,
      "id": "nrUQ7aYmWdKT",
      "metadata": {
        "id": "nrUQ7aYmWdKT"
      },
      "outputs": [],
      "source": [
        "# Remove Seat_Class and Platform_Location which can't be with rating scale\n",
        "\n",
        "### To protect the IP, we skip the code here\n",
        "print(s_cat_col)"
      ]
    },
    {
      "cell_type": "code",
      "execution_count": null,
      "id": "Y74Un1raTusc",
      "metadata": {
        "id": "Y74Un1raTusc"
      },
      "outputs": [],
      "source": [
        "# Replace rating with rating/number to visualize easier and potential numerization/normalization\n",
        "# Give Platform_Location another rating scale for the different naming following dictionary offerred\n",
        "# GL instruction: (Platform_Location) Very Inconvenient < Inconvenient < Needs Improvement < Manageable < Convenient < Very Convenient\n",
        "\n",
        "### To protect the IP, we skip the code here\n",
        "  \n",
        "# Platform_Location rating\n",
        "\n",
        "### To protect the IP, we skip the code here\n"
      ]
    },
    {
      "cell_type": "markdown",
      "id": "x97Bsx8Og2mS",
      "metadata": {
        "id": "x97Bsx8Og2mS"
      },
      "source": [
        "#### **Review Dataframe after Ratings**"
      ]
    },
    {
      "cell_type": "code",
      "execution_count": null,
      "id": "32d5ZTWkj4Am",
      "metadata": {
        "id": "32d5ZTWkj4Am"
      },
      "outputs": [],
      "source": [
        "### To protect the IP, we skip the code here"
      ]
    },
    {
      "cell_type": "markdown",
      "id": "1-p1SNuwhI5H",
      "metadata": {
        "id": "1-p1SNuwhI5H"
      },
      "source": [
        "#### **Visualize in Histogram and Box Plot**"
      ]
    },
    {
      "cell_type": "code",
      "execution_count": null,
      "id": "bHe_qDjovy5a",
      "metadata": {
        "id": "bHe_qDjovy5a"
      },
      "outputs": [],
      "source": [
        "### To protect the IP, we skip the code here"
      ]
    },
    {
      "cell_type": "markdown",
      "id": "0IRPArihhlA1",
      "metadata": {
        "id": "0IRPArihhlA1"
      },
      "source": [
        "#### **Observations & Actions**\n",
        "* **1. Skewness** - ### To protect the IP, we skip the description here\n",
        "* **2. Missing data** - ### To protect the IP, we skip the description here"
      ]
    },
    {
      "cell_type": "markdown",
      "id": "1PSv3OQ-cMTw",
      "metadata": {
        "id": "1PSv3OQ-cMTw"
      },
      "source": [
        "## **Balance of Target Column**"
      ]
    },
    {
      "cell_type": "code",
      "execution_count": null,
      "id": "GEQVzdj3wMBI",
      "metadata": {
        "id": "GEQVzdj3wMBI"
      },
      "outputs": [],
      "source": [
        "### To protect the IP, we skip the code here"
      ]
    },
    {
      "cell_type": "markdown",
      "id": "N2a7JPMZmiRB",
      "metadata": {
        "id": "N2a7JPMZmiRB"
      },
      "source": [
        "#### **Observations & Actions**\n",
        "* **1. Balance Data** - ### To protect the IP, we skip the description here\n",
        "* **2. The Value to fill in missing data** - ### To protect the IP, we skip the description here"
      ]
    },
    {
      "cell_type": "code",
      "execution_count": null,
      "id": "ha3z0qdVxl2x",
      "metadata": {
        "id": "ha3z0qdVxl2x"
      },
      "outputs": [],
      "source": [
        "### To protect the IP, we skip the code here"
      ]
    },
    {
      "cell_type": "markdown",
      "id": "GLNW_xrCyLK3",
      "metadata": {
        "id": "GLNW_xrCyLK3"
      },
      "source": [
        "#### **Visualize by Correlation**"
      ]
    },
    {
      "cell_type": "code",
      "execution_count": null,
      "id": "wqnHfLeOCER1",
      "metadata": {
        "id": "wqnHfLeOCER1"
      },
      "outputs": [],
      "source": [
        "### To protect the IP, we skip the code here\n",
        "### To protect the IP, we take the feature names here"
      ]
    },
    {
      "cell_type": "markdown",
      "id": "5o_r7RwUEH3o",
      "metadata": {
        "id": "5o_r7RwUEH3o"
      },
      "source": [
        "#### **Osbservations & Actions**\n",
        "### To protect the IP, we skip the description here"
      ]
    },
    {
      "cell_type": "markdown",
      "id": "aTkg_gaGc6co",
      "metadata": {
        "id": "aTkg_gaGc6co"
      },
      "source": [
        "## **4. Check for Duplicate Rows**"
      ]
    },
    {
      "cell_type": "code",
      "execution_count": null,
      "id": "ynMwUUhdc_F9",
      "metadata": {
        "id": "ynMwUUhdc_F9"
      },
      "outputs": [],
      "source": [
        "### To protect the IP, we skip the code here"
      ]
    },
    {
      "cell_type": "markdown",
      "id": "cUFQRDBrdbwH",
      "metadata": {
        "id": "cUFQRDBrdbwH"
      },
      "source": [
        "## **5. Fill in Missing Data**"
      ]
    },
    {
      "cell_type": "markdown",
      "id": "ZUuxwgnuw3h4",
      "metadata": {
        "id": "ZUuxwgnuw3h4"
      },
      "source": [
        "### **Fill in the missing data with the mean**"
      ]
    },
    {
      "cell_type": "code",
      "execution_count": null,
      "id": "mzhGbH2cxZHJ",
      "metadata": {
        "id": "mzhGbH2cxZHJ"
      },
      "outputs": [],
      "source": [
        "# Fill in Catogorial Column\n",
        "### To protect the IP, we skip the code here\n",
        "\n",
        "# Fill in Platform_Location\n",
        "### To protect the IP, we skip the code here"
      ]
    },
    {
      "cell_type": "code",
      "execution_count": null,
      "id": "_gg7K1NF-TvT",
      "metadata": {
        "id": "_gg7K1NF-TvT"
      },
      "outputs": [],
      "source": [
        "### To protect the IP, we skip the code here"
      ]
    },
    {
      "cell_type": "code",
      "execution_count": null,
      "id": "IWO949Of9yBR",
      "metadata": {
        "id": "IWO949Of9yBR"
      },
      "outputs": [],
      "source": [
        "### To protect the IP, we skip the code here"
      ]
    },
    {
      "cell_type": "code",
      "execution_count": null,
      "id": "NgV7zkscAh9k",
      "metadata": {
        "id": "NgV7zkscAh9k"
      },
      "outputs": [],
      "source": [
        "### To protect the IP, we skip the code here"
      ]
    },
    {
      "cell_type": "markdown",
      "id": "_OjKcwC7EgSy",
      "metadata": {
        "id": "_OjKcwC7EgSy"
      },
      "source": [
        "### **Osbservations & Actions**\n",
        "* **1. Not too much change** - It's our final correlation chart"
      ]
    },
    {
      "cell_type": "markdown",
      "id": "g7mOvlrSEqkb",
      "metadata": {
        "id": "g7mOvlrSEqkb"
      },
      "source": [
        "## **Bivariate Analysis**"
      ]
    },
    {
      "cell_type": "code",
      "execution_count": null,
      "id": "QvldaO4oB_s-",
      "metadata": {
        "id": "QvldaO4oB_s-"
      },
      "outputs": [],
      "source": [
        "### To protect the IP, we skip the code here"
      ]
    },
    {
      "cell_type": "code",
      "execution_count": null,
      "id": "xZLHTbthDow-",
      "metadata": {
        "id": "xZLHTbthDow-"
      },
      "outputs": [],
      "source": [
        "### To protect the IP, we skip the code here"
      ]
    },
    {
      "cell_type": "markdown",
      "id": "FvvedX8Ix3Lc",
      "metadata": {
        "id": "FvvedX8Ix3Lc"
      },
      "source": [
        "#### **Osbservations & Actions**\n",
        "* **Catering** - It could be the best feature to drop"
      ]
    },
    {
      "cell_type": "markdown",
      "id": "-QxtnCRqFS-2",
      "metadata": {
        "id": "-QxtnCRqFS-2"
      },
      "source": [
        "## **Train Data**"
      ]
    },
    {
      "cell_type": "code",
      "execution_count": null,
      "id": "v3HlE7H4FXp9",
      "metadata": {
        "id": "v3HlE7H4FXp9"
      },
      "outputs": [],
      "source": [
        "### To protect the IP, we skip the code here"
      ]
    },
    {
      "cell_type": "markdown",
      "id": "q79vxM_gze1i",
      "metadata": {
        "id": "q79vxM_gze1i"
      },
      "source": [
        "#### **Visualize in Histogram and Box Plot**"
      ]
    },
    {
      "cell_type": "code",
      "execution_count": null,
      "id": "QGPsDciwGh_m",
      "metadata": {
        "id": "QGPsDciwGh_m"
      },
      "outputs": [],
      "source": [
        "### To protect the IP, we skip the code here"
      ]
    },
    {
      "cell_type": "markdown",
      "id": "dLAdVsQfIgzQ",
      "metadata": {
        "id": "dLAdVsQfIgzQ"
      },
      "source": [
        "#### **Osbservations & Actions**\n",
        "### To protect the IP, we skip the code here"
      ]
    },
    {
      "cell_type": "markdown",
      "id": "GuuaXq2_0lW4",
      "metadata": {
        "id": "GuuaXq2_0lW4"
      },
      "source": [
        "#### **Osbservations & Actions**\n",
        "* **1. Clear Influnece about Overall_Excellence** - ### To protect the IP, we skip the description here"
      ]
    },
    {
      "cell_type": "code",
      "execution_count": null,
      "id": "RYsDv4aMFqwp",
      "metadata": {
        "id": "RYsDv4aMFqwp"
      },
      "outputs": [],
      "source": [
        "### To protect the IP, we skip the code here"
      ]
    },
    {
      "cell_type": "markdown",
      "id": "COHX3HPw00xB",
      "metadata": {
        "id": "COHX3HPw00xB"
      },
      "source": [
        "## **Merge  Datasets into Train and Test**"
      ]
    },
    {
      "cell_type": "code",
      "execution_count": null,
      "id": "i3WyLGd-Hf_7",
      "metadata": {
        "id": "i3WyLGd-Hf_7"
      },
      "outputs": [],
      "source": [
        "### To protect the IP, we skip the code here"
      ]
    },
    {
      "cell_type": "code",
      "execution_count": null,
      "id": "PWpJ4VU-HrXy",
      "metadata": {
        "id": "PWpJ4VU-HrXy"
      },
      "outputs": [],
      "source": [
        "### To protect the IP, we skip the code here"
      ]
    },
    {
      "cell_type": "code",
      "execution_count": null,
      "id": "BWHkMTPnTyED",
      "metadata": {
        "id": "BWHkMTPnTyED"
      },
      "outputs": [],
      "source": [
        "### To protect the IP, we skip the code here"
      ]
    },
    {
      "cell_type": "code",
      "execution_count": null,
      "id": "BDuocn3GS572",
      "metadata": {
        "id": "BDuocn3GS572"
      },
      "outputs": [],
      "source": [
        "### To protect the IP, we skip the code here"
      ]
    },
    {
      "cell_type": "code",
      "execution_count": null,
      "id": "MGhd29K6T3Ir",
      "metadata": {
        "id": "MGhd29K6T3Ir"
      },
      "outputs": [],
      "source": [
        "### To protect the IP, we skip the code here"
      ]
    },
    {
      "cell_type": "markdown",
      "id": "_aIBZmSiziRo",
      "metadata": {
        "id": "_aIBZmSiziRo"
      },
      "source": [
        "#### **Osbservations & Actions**\n",
        "* **1. Missing Data** - There are still 6 features in need to be filled in the missing data"
      ]
    },
    {
      "cell_type": "markdown",
      "id": "7VhVBmbzzwY-",
      "metadata": {
        "id": "7VhVBmbzzwY-"
      },
      "source": [
        "### **Fill in Merged Dataset for Missing Data**"
      ]
    },
    {
      "cell_type": "code",
      "execution_count": null,
      "id": "6uUoIBi4kW4k",
      "metadata": {
        "id": "6uUoIBi4kW4k"
      },
      "outputs": [],
      "source": [
        "### To protect the IP, we skip the code here"
      ]
    },
    {
      "cell_type": "markdown",
      "id": "169TomZd0XLb",
      "metadata": {
        "id": "169TomZd0XLb"
      },
      "source": [
        "#### **Visualize Bivariate Analysis in Count Plot**"
      ]
    },
    {
      "cell_type": "code",
      "execution_count": null,
      "id": "LqRKiZzNHFFh",
      "metadata": {
        "id": "LqRKiZzNHFFh"
      },
      "outputs": [],
      "source": [
        "### To protect the IP, we skip the code here"
      ]
    },
    {
      "cell_type": "code",
      "execution_count": null,
      "id": "FI-PquQA2xFc",
      "metadata": {
        "id": "FI-PquQA2xFc"
      },
      "outputs": [],
      "source": [
        "### To protect the IP, we skip the code here\n",
        "### To protect the IP, we skip the code here"
      ]
    },
    {
      "cell_type": "code",
      "execution_count": null,
      "id": "vxLhhS-qANnG",
      "metadata": {
        "id": "vxLhhS-qANnG"
      },
      "outputs": [],
      "source": [
        "### To protect the IP, we skip the code here"
      ]
    },
    {
      "cell_type": "code",
      "execution_count": null,
      "id": "8tVyshWmbWib",
      "metadata": {
        "id": "8tVyshWmbWib"
      },
      "outputs": [],
      "source": [
        "### To protect the IP, we skip the code here"
      ]
    },
    {
      "cell_type": "markdown",
      "id": "Mb-rxpcNw8yB",
      "metadata": {
        "id": "Mb-rxpcNw8yB"
      },
      "source": [
        "#### **Osbservations & Actions**\n",
        "### To protect the IP, we skip the description here"
      ]
    },
    {
      "cell_type": "markdown",
      "id": "neTbFjJix2DY",
      "metadata": {
        "id": "neTbFjJix2DY"
      },
      "source": [
        "#### **Revisit**"
      ]
    },
    {
      "cell_type": "code",
      "execution_count": null,
      "id": "pLKw-TN9Pug2",
      "metadata": {
        "id": "pLKw-TN9Pug2"
      },
      "outputs": [],
      "source": [
        "### To protect the IP, we skip the code here"
      ]
    },
    {
      "cell_type": "markdown",
      "id": "M_SVvtd0x-Tn",
      "metadata": {
        "id": "M_SVvtd0x-Tn"
      },
      "source": [
        "#### **Osbservations & Actions**\n",
        "### To protect the IP, we skip the description here"
      ]
    },
    {
      "cell_type": "markdown",
      "id": "VDUqW7iIykgY",
      "metadata": {
        "id": "VDUqW7iIykgY"
      },
      "source": [
        "#### **Fill in missing data**"
      ]
    },
    {
      "cell_type": "code",
      "execution_count": null,
      "id": "PbmR9tpBJVEa",
      "metadata": {
        "id": "PbmR9tpBJVEa"
      },
      "outputs": [],
      "source": [
        "# Calculating quantiles\n",
        "### To protect the IP, we skip the code here\n",
        "\n",
        "# Calculating value of upper whisker\n",
        "### To protect the IP, we skip the code here\n",
        "# Calculating quantiles\n",
        "### To protect the IP, we skip the code here\n",
        "\n",
        "# Calculating value of upper whisker\n",
        "### To protect the IP, we skip the code here"
      ]
    },
    {
      "cell_type": "code",
      "execution_count": null,
      "id": "6UlTw3cyUTVy",
      "metadata": {
        "id": "6UlTw3cyUTVy"
      },
      "outputs": [],
      "source": [
        "### To protect the IP, we skip the code here"
      ]
    },
    {
      "cell_type": "code",
      "execution_count": null,
      "id": "c-be2Kb_zoON",
      "metadata": {
        "id": "c-be2Kb_zoON"
      },
      "outputs": [],
      "source": [
        "### To protect the IP, we skip the code here"
      ]
    },
    {
      "cell_type": "code",
      "execution_count": null,
      "id": "FomzDad64sJ4",
      "metadata": {
        "id": "FomzDad64sJ4"
      },
      "outputs": [],
      "source": [
        "### To protect the IP, we skip the code here"
      ]
    },
    {
      "cell_type": "markdown",
      "id": "rQEzD7_Ty2cO",
      "metadata": {
        "id": "rQEzD7_Ty2cO"
      },
      "source": [
        "#### **Fill missing data**"
      ]
    },
    {
      "cell_type": "code",
      "execution_count": null,
      "id": "uC3dI4fSUs_d",
      "metadata": {
        "id": "uC3dI4fSUs_d"
      },
      "outputs": [],
      "source": [
        "### To protect the IP, we skip the code here"
      ]
    },
    {
      "cell_type": "code",
      "execution_count": null,
      "id": "_aZDM6p8VNy2",
      "metadata": {
        "id": "_aZDM6p8VNy2"
      },
      "outputs": [],
      "source": [
        "\n",
        "# Calculate quantiles\n",
        "### To protect the IP, we skip the code here\n",
        "\n",
        "# Calculate IQR\n",
        "### To protect the IP, we skip the code here\n",
        "\n",
        "# Calculate value of upper whisker\n",
        "### To protect the IP, we skip the code here\n",
        "\n",
        "# Test\n",
        "# Calculating quantiles\n",
        "### To protect the IP, we skip the code here\n",
        "# Calculating IQR\n",
        "### To protect the IP, we skip the code here\n",
        "\n",
        "# Calculate value of upper whisker\n",
        "### To protect the IP, we skip the code here"
      ]
    },
    {
      "cell_type": "markdown",
      "id": "8HJYroNSAqqi",
      "metadata": {
        "id": "8HJYroNSAqqi"
      },
      "source": [
        "### **Fill in missing data**"
      ]
    },
    {
      "cell_type": "code",
      "execution_count": null,
      "id": "uR7o1rEWmQJL",
      "metadata": {
        "id": "uR7o1rEWmQJL"
      },
      "outputs": [],
      "source": [
        "### To protect the IP, we skip the code here"
      ]
    },
    {
      "cell_type": "code",
      "execution_count": null,
      "id": "-PAbs-rzq0Ra",
      "metadata": {
        "id": "-PAbs-rzq0Ra"
      },
      "outputs": [],
      "source": [
        "### To protect the IP, we skip the code here"
      ]
    },
    {
      "cell_type": "code",
      "execution_count": null,
      "id": "IaQXkZryrDAK",
      "metadata": {
        "id": "IaQXkZryrDAK"
      },
      "outputs": [],
      "source": [
        "### To protect the IP, we skip the code here"
      ]
    },
    {
      "cell_type": "code",
      "execution_count": null,
      "id": "7qVj2synwvJM",
      "metadata": {
        "id": "7qVj2synwvJM"
      },
      "outputs": [],
      "source": [
        "# Fill in Customer_Type, Type_Travel and Gender with mean\n",
        "\n",
        "### To protect the IP, we skip the code here\n"
      ]
    },
    {
      "cell_type": "markdown",
      "id": "5-wz3wVXfsMl",
      "metadata": {
        "id": "5-wz3wVXfsMl"
      },
      "source": [
        "### **Fill in missing data**"
      ]
    },
    {
      "cell_type": "code",
      "execution_count": null,
      "id": "Rp0uMstkxq5y",
      "metadata": {
        "id": "Rp0uMstkxq5y"
      },
      "outputs": [],
      "source": [
        "### To protect the IP, we skip the code here"
      ]
    },
    {
      "cell_type": "code",
      "execution_count": null,
      "id": "eTwGegkrveGs",
      "metadata": {
        "id": "eTwGegkrveGs"
      },
      "outputs": [],
      "source": [
        "### To protect the IP, we skip the code here"
      ]
    },
    {
      "cell_type": "code",
      "execution_count": null,
      "id": "f5mymioAvytk",
      "metadata": {
        "id": "f5mymioAvytk"
      },
      "outputs": [],
      "source": [
        "### To protect the IP, we skip the code here"
      ]
    },
    {
      "cell_type": "code",
      "execution_count": null,
      "id": "38j2C3Tbvfny",
      "metadata": {
        "id": "38j2C3Tbvfny"
      },
      "outputs": [],
      "source": [
        "### To protect the IP, we skip the code here"
      ]
    },
    {
      "cell_type": "code",
      "execution_count": null,
      "id": "p3Fp8PfrxYO9",
      "metadata": {
        "id": "p3Fp8PfrxYO9"
      },
      "outputs": [],
      "source": [
        "# Final check for missing data\n",
        "### To protect the IP, we skip the code here"
      ]
    },
    {
      "cell_type": "markdown",
      "id": "Iriy6vZVdo3F",
      "metadata": {
        "id": "Iriy6vZVdo3F"
      },
      "source": [
        "## **6. Feature Engineering** "
      ]
    },
    {
      "cell_type": "code",
      "execution_count": null,
      "id": "752d01b4",
      "metadata": {
        "id": "752d01b4"
      },
      "outputs": [],
      "source": [
        "# survey_train_dummy_df = pd.get_dummies(survey_train_df, drop_first=True)\n",
        "# survey_train_dummy_df.head()"
      ]
    },
    {
      "cell_type": "code",
      "execution_count": null,
      "id": "d160ca42",
      "metadata": {
        "id": "d160ca42"
      },
      "outputs": [],
      "source": [
        "# #Selecting numerical columns and checking summary statistics\n",
        "# num_cols = travel_train_df.select_dtypes('number').columns\n",
        "# travel_train_df[num_cols].describe().T"
      ]
    },
    {
      "cell_type": "code",
      "execution_count": null,
      "id": "382f1744",
      "metadata": {
        "id": "382f1744"
      },
      "outputs": [],
      "source": [
        "### To protect the IP, we skip the code here"
      ]
    },
    {
      "cell_type": "markdown",
      "id": "TMGR0mofr7A9",
      "metadata": {
        "id": "TMGR0mofr7A9"
      },
      "source": [
        "# **7. Split Train Data into Features and Target**"
      ]
    },
    {
      "cell_type": "code",
      "execution_count": null,
      "id": "HxrQUonQxzrr",
      "metadata": {
        "id": "HxrQUonQxzrr"
      },
      "outputs": [],
      "source": [
        "### To protect the IP, we skip the code here"
      ]
    },
    {
      "cell_type": "markdown",
      "id": "o1GKLGzks6Iq",
      "metadata": {
        "id": "o1GKLGzks6Iq"
      },
      "source": [
        "# **8. Data Encoding**\n"
      ]
    },
    {
      "cell_type": "code",
      "execution_count": null,
      "id": "geHUF93itAxY",
      "metadata": {
        "id": "geHUF93itAxY"
      },
      "outputs": [],
      "source": [
        "X = pd.get_dummies(X, drop_first = True)\n",
        "X_train, X_test, y_train, y_test = train_test_split(X, Y, test_size = 0.2)"
      ]
    },
    {
      "cell_type": "markdown",
      "id": "fImzBM0Zr0sh",
      "metadata": {
        "id": "fImzBM0Zr0sh"
      },
      "source": [
        "# **9. Create Baseline Machine Learning Model**"
      ]
    },
    {
      "cell_type": "markdown",
      "id": "FZcbSBcQuBHu",
      "metadata": {
        "id": "FZcbSBcQuBHu"
      },
      "source": [
        "## **A. Random Forest Model**"
      ]
    },
    {
      "cell_type": "code",
      "execution_count": null,
      "id": "uRt7rnX90nBh",
      "metadata": {
        "id": "uRt7rnX90nBh"
      },
      "outputs": [],
      "source": [
        "# Import Random Forest Model\n",
        "\n",
        "### To protect the IP, we skip the code here"
      ]
    },
    {
      "cell_type": "code",
      "execution_count": null,
      "id": "wrNf2f-e8mpZ",
      "metadata": {
        "id": "wrNf2f-e8mpZ"
      },
      "outputs": [],
      "source": [
        "### To protect the IP, we skip the code here\n",
        "\n",
        "# Model Accuracy\n",
        "### To protect the IP, we skip the code here"
      ]
    },
    {
      "cell_type": "markdown",
      "id": "1oczRe4tuy16",
      "metadata": {
        "id": "1oczRe4tuy16"
      },
      "source": [
        "## **B. Random Forest Model + GridSearch**"
      ]
    },
    {
      "cell_type": "code",
      "execution_count": null,
      "id": "WZyK8nRcpKPd",
      "metadata": {
        "colab": {
          "base_uri": "https://localhost:8080/"
        },
        "id": "WZyK8nRcpKPd",
        "outputId": "1bbbc7a6-2e88-45e6-c58a-f2819554c925"
      },
      "outputs": [
        {
          "name": "stdout",
          "output_type": "stream",
          "text": [
            "Accuracy: 0.9114748887476161\n"
          ]
        }
      ],
      "source": [
        "from sklearn.model_selection import GridSearchCV\n",
        "\n",
        "# Try X validation\n",
        "### To protect the IP, we skip the code here\n",
        "\n",
        "\n",
        "# We've treid various search due to time constraint\n",
        "\n",
        "# max_depth=[2,6, 8, 10, 16]\n",
        "# n_estimators = [64, 128, 256, 500]\n",
        "# param_grid = dict(max_depth=max_depth, n_estimators=n_estimators)\n",
        "# # Build the grid search\n",
        "# dfrst = RandomForestClassifier(n_estimators=n_estimators, max_depth=max_depth)\n",
        "# grid = GridSearchCV(estimator=dfrst, param_grid=param_grid, cv = 5)\n",
        "# grid_results = grid.fit(X_train, y_train)\n",
        "\n",
        "# # Summarize the results in a readable format\n",
        "# print(\"Best: {0}, using {1}\".format(grid_results.cv_results_['mean_test_score'], grid_results.best_params_))\n",
        "# results_df = pd.DataFrame(grid_results.cv_results_)\n",
        "# results_df\n",
        "\n",
        "# Best: [0.84335741 0.84342338 0.84596653 0.84825781 0.90132843 0.90238801\n",
        "#  0.9022953  0.90217611 0.91217574 0.91279819 0.91294388 0.91274521\n",
        "#  0.92367191 0.92363218 0.92424141 0.92413546 0.94507503 0.94571074\n",
        "#  0.94613459 0.94598888], using {'max_depth': 16, 'n_estimators': 256}\n",
        "\n",
        "\n",
        "### To protect the IP, we skip the code here\n",
        "\n",
        "# Model Accuracy\n",
        "print(\"Accuracy:\",metrics.accuracy_score(y_test, y_pred))"
      ]
    },
    {
      "cell_type": "markdown",
      "id": "b6HoINtPtuY2",
      "metadata": {
        "id": "b6HoINtPtuY2"
      },
      "source": [
        "## **Test**"
      ]
    },
    {
      "cell_type": "code",
      "execution_count": null,
      "id": "49hI78E7E7fQ",
      "metadata": {
        "colab": {
          "base_uri": "https://localhost:8080/"
        },
        "id": "49hI78E7E7fQ",
        "outputId": "754175e9-7dc1-4fb9-8a80-5d9fc91b9081"
      },
      "outputs": [
        {
          "name": "stdout",
          "output_type": "stream",
          "text": [
            "[1 0 1 ... 0 1 0]\n"
          ]
        }
      ],
      "source": [
        "final_test = pd.get_dummies(merged_test_df, drop_first = True)\n",
        "final_test = final_test.drop(['ID'], axis = 1)\n",
        "\n",
        "final_pred = clf.predict(final_test)\n",
        "print(final_pred)"
      ]
    },
    {
      "cell_type": "code",
      "execution_count": null,
      "id": "OuE4jqPINOLU",
      "metadata": {
        "id": "OuE4jqPINOLU"
      },
      "outputs": [],
      "source": [
        "final_test.info()"
      ]
    },
    {
      "cell_type": "markdown",
      "id": "ZbSEwcbEuHYc",
      "metadata": {
        "id": "ZbSEwcbEuHYc"
      },
      "source": [
        "#### **Output final result**"
      ]
    },
    {
      "cell_type": "code",
      "execution_count": null,
      "id": "3fj4b1CTUdrG",
      "metadata": {
        "id": "3fj4b1CTUdrG"
      },
      "outputs": [],
      "source": [
        "import csv\n",
        "### To protect the IP, we skip the code here\n",
        "with open('Submission_RF.csv', 'w') as f:\n",
        "    writer = csv.writer(f)\n",
        "    writer.writerow(header)\n",
        "    writer.writerows(zip(merged_test_df.ID,final_pred))"
      ]
    },
    {
      "cell_type": "markdown",
      "id": "VFgfbdYMAxon",
      "metadata": {
        "id": "VFgfbdYMAxon"
      },
      "source": [
        "## **C. Catboost Model**"
      ]
    },
    {
      "cell_type": "code",
      "execution_count": null,
      "id": "Q6_xZUCWJNE2",
      "metadata": {
        "colab": {
          "base_uri": "https://localhost:8080/"
        },
        "id": "Q6_xZUCWJNE2",
        "outputId": "1002505d-7a31-4947-c4e7-9b664de1ab96"
      },
      "outputs": [
        {
          "name": "stdout",
          "output_type": "stream",
          "text": [
            "Requirement already satisfied: catboost in /usr/local/lib/python3.7/dist-packages (1.0.5)\n",
            "Requirement already satisfied: pandas>=0.24.0 in /usr/local/lib/python3.7/dist-packages (from catboost) (1.3.5)\n",
            "Requirement already satisfied: six in /usr/local/lib/python3.7/dist-packages (from catboost) (1.15.0)\n",
            "Requirement already satisfied: numpy>=1.16.0 in /usr/local/lib/python3.7/dist-packages (from catboost) (1.21.6)\n",
            "Requirement already satisfied: plotly in /usr/local/lib/python3.7/dist-packages (from catboost) (5.5.0)\n",
            "Requirement already satisfied: scipy in /usr/local/lib/python3.7/dist-packages (from catboost) (1.4.1)\n",
            "Requirement already satisfied: matplotlib in /usr/local/lib/python3.7/dist-packages (from catboost) (3.2.2)\n",
            "Requirement already satisfied: graphviz in /usr/local/lib/python3.7/dist-packages (from catboost) (0.10.1)\n",
            "Requirement already satisfied: pytz>=2017.3 in /usr/local/lib/python3.7/dist-packages (from pandas>=0.24.0->catboost) (2022.1)\n",
            "Requirement already satisfied: python-dateutil>=2.7.3 in /usr/local/lib/python3.7/dist-packages (from pandas>=0.24.0->catboost) (2.8.2)\n",
            "Requirement already satisfied: pyparsing!=2.0.4,!=2.1.2,!=2.1.6,>=2.0.1 in /usr/local/lib/python3.7/dist-packages (from matplotlib->catboost) (3.0.8)\n",
            "Requirement already satisfied: cycler>=0.10 in /usr/local/lib/python3.7/dist-packages (from matplotlib->catboost) (0.11.0)\n",
            "Requirement already satisfied: kiwisolver>=1.0.1 in /usr/local/lib/python3.7/dist-packages (from matplotlib->catboost) (1.4.2)\n",
            "Requirement already satisfied: typing-extensions in /usr/local/lib/python3.7/dist-packages (from kiwisolver>=1.0.1->matplotlib->catboost) (4.2.0)\n",
            "Requirement already satisfied: tenacity>=6.2.0 in /usr/local/lib/python3.7/dist-packages (from plotly->catboost) (8.0.1)\n"
          ]
        }
      ],
      "source": [
        "!pip3 install catboost"
      ]
    },
    {
      "cell_type": "code",
      "execution_count": null,
      "id": "c_xDviGm5piG",
      "metadata": {
        "colab": {
          "base_uri": "https://localhost:8080/"
        },
        "id": "c_xDviGm5piG",
        "outputId": "24951e28-55ae-4ade-b4ce-3f9c7a83b8c1"
      },
      "outputs": [
        {
          "name": "stdout",
          "output_type": "stream",
          "text": [
            "0:\tlearn: 0.5916691\ttest: 0.5924071\tbest: 0.5924071 (0)\ttotal: 32.5ms\tremaining: 13s\n",
            "1:\tlearn: 0.5117630\ttest: 0.5131543\tbest: 0.5131543 (1)\ttotal: 61.8ms\tremaining: 12.3s\n",
            "2:\tlearn: 0.4558834\ttest: 0.4584846\tbest: 0.4584846 (2)\ttotal: 90.6ms\tremaining: 12s\n",
            "3:\tlearn: 0.4065911\ttest: 0.4097546\tbest: 0.4097546 (3)\ttotal: 120ms\tremaining: 11.9s\n",
            "4:\tlearn: 0.3769027\ttest: 0.3811759\tbest: 0.3811759 (4)\ttotal: 151ms\tremaining: 12s\n",
            "5:\tlearn: 0.3436910\ttest: 0.3490698\tbest: 0.3490698 (5)\ttotal: 185ms\tremaining: 12.1s\n",
            "6:\tlearn: 0.3239581\ttest: 0.3301025\tbest: 0.3301025 (6)\ttotal: 216ms\tremaining: 12.1s\n",
            "7:\tlearn: 0.3018254\ttest: 0.3086771\tbest: 0.3086771 (7)\ttotal: 247ms\tremaining: 12.1s\n",
            "8:\tlearn: 0.2863738\ttest: 0.2935216\tbest: 0.2935216 (8)\ttotal: 277ms\tremaining: 12s\n",
            "9:\tlearn: 0.2701623\ttest: 0.2779261\tbest: 0.2779261 (9)\ttotal: 307ms\tremaining: 12s\n",
            "10:\tlearn: 0.2592548\ttest: 0.2673172\tbest: 0.2673172 (10)\ttotal: 356ms\tremaining: 12.6s\n",
            "11:\tlearn: 0.2472772\ttest: 0.2559018\tbest: 0.2559018 (11)\ttotal: 401ms\tremaining: 13s\n",
            "12:\tlearn: 0.2367158\ttest: 0.2459226\tbest: 0.2459226 (12)\ttotal: 447ms\tremaining: 13.3s\n",
            "13:\tlearn: 0.2291451\ttest: 0.2387762\tbest: 0.2387762 (13)\ttotal: 485ms\tremaining: 13.4s\n",
            "14:\tlearn: 0.2187912\ttest: 0.2288718\tbest: 0.2288718 (14)\ttotal: 524ms\tremaining: 13.5s\n",
            "15:\tlearn: 0.2117628\ttest: 0.2221240\tbest: 0.2221240 (15)\ttotal: 558ms\tremaining: 13.4s\n",
            "16:\tlearn: 0.2063463\ttest: 0.2170511\tbest: 0.2170511 (16)\ttotal: 592ms\tremaining: 13.3s\n",
            "17:\tlearn: 0.1998586\ttest: 0.2107993\tbest: 0.2107993 (17)\ttotal: 623ms\tremaining: 13.2s\n",
            "18:\tlearn: 0.1959780\ttest: 0.2069679\tbest: 0.2069679 (18)\ttotal: 652ms\tremaining: 13.1s\n",
            "19:\tlearn: 0.1905069\ttest: 0.2018626\tbest: 0.2018626 (19)\ttotal: 683ms\tremaining: 13s\n",
            "20:\tlearn: 0.1862951\ttest: 0.1981981\tbest: 0.1981981 (20)\ttotal: 714ms\tremaining: 12.9s\n",
            "21:\tlearn: 0.1818458\ttest: 0.1939080\tbest: 0.1939080 (21)\ttotal: 744ms\tremaining: 12.8s\n",
            "22:\tlearn: 0.1788470\ttest: 0.1911500\tbest: 0.1911500 (22)\ttotal: 774ms\tremaining: 12.7s\n",
            "23:\tlearn: 0.1750968\ttest: 0.1873170\tbest: 0.1873170 (23)\ttotal: 803ms\tremaining: 12.6s\n",
            "24:\tlearn: 0.1721543\ttest: 0.1844551\tbest: 0.1844551 (24)\ttotal: 833ms\tremaining: 12.5s\n",
            "25:\tlearn: 0.1693669\ttest: 0.1816967\tbest: 0.1816967 (25)\ttotal: 862ms\tremaining: 12.4s\n",
            "26:\tlearn: 0.1657661\ttest: 0.1782714\tbest: 0.1782714 (26)\ttotal: 892ms\tremaining: 12.3s\n",
            "27:\tlearn: 0.1630630\ttest: 0.1756223\tbest: 0.1756223 (27)\ttotal: 927ms\tremaining: 12.3s\n",
            "28:\tlearn: 0.1609902\ttest: 0.1738334\tbest: 0.1738334 (28)\ttotal: 960ms\tremaining: 12.3s\n",
            "29:\tlearn: 0.1590354\ttest: 0.1720599\tbest: 0.1720599 (29)\ttotal: 990ms\tremaining: 12.2s\n",
            "30:\tlearn: 0.1570570\ttest: 0.1700542\tbest: 0.1700542 (30)\ttotal: 1.02s\tremaining: 12.1s\n",
            "31:\tlearn: 0.1556239\ttest: 0.1689511\tbest: 0.1689511 (31)\ttotal: 1.05s\tremaining: 12.1s\n",
            "32:\tlearn: 0.1534925\ttest: 0.1668820\tbest: 0.1668820 (32)\ttotal: 1.08s\tremaining: 12s\n",
            "33:\tlearn: 0.1520314\ttest: 0.1656074\tbest: 0.1656074 (33)\ttotal: 1.11s\tremaining: 11.9s\n",
            "34:\tlearn: 0.1498911\ttest: 0.1634691\tbest: 0.1634691 (34)\ttotal: 1.14s\tremaining: 11.9s\n",
            "35:\tlearn: 0.1483170\ttest: 0.1620935\tbest: 0.1620935 (35)\ttotal: 1.19s\tremaining: 12s\n",
            "36:\tlearn: 0.1471677\ttest: 0.1612266\tbest: 0.1612266 (36)\ttotal: 1.22s\tremaining: 12s\n",
            "37:\tlearn: 0.1459217\ttest: 0.1600671\tbest: 0.1600671 (37)\ttotal: 1.26s\tremaining: 12s\n",
            "38:\tlearn: 0.1445970\ttest: 0.1588524\tbest: 0.1588524 (38)\ttotal: 1.3s\tremaining: 12.1s\n",
            "39:\tlearn: 0.1429431\ttest: 0.1574320\tbest: 0.1574320 (39)\ttotal: 1.34s\tremaining: 12.1s\n",
            "40:\tlearn: 0.1418882\ttest: 0.1566242\tbest: 0.1566242 (40)\ttotal: 1.37s\tremaining: 12s\n",
            "41:\tlearn: 0.1407791\ttest: 0.1557016\tbest: 0.1557016 (41)\ttotal: 1.41s\tremaining: 12s\n",
            "42:\tlearn: 0.1395785\ttest: 0.1547228\tbest: 0.1547228 (42)\ttotal: 1.44s\tremaining: 11.9s\n",
            "43:\tlearn: 0.1380091\ttest: 0.1531673\tbest: 0.1531673 (43)\ttotal: 1.47s\tremaining: 11.9s\n",
            "44:\tlearn: 0.1372139\ttest: 0.1525305\tbest: 0.1525305 (44)\ttotal: 1.5s\tremaining: 11.8s\n",
            "45:\tlearn: 0.1360391\ttest: 0.1515308\tbest: 0.1515308 (45)\ttotal: 1.53s\tremaining: 11.8s\n",
            "46:\tlearn: 0.1348339\ttest: 0.1505116\tbest: 0.1505116 (46)\ttotal: 1.56s\tremaining: 11.7s\n",
            "47:\tlearn: 0.1339685\ttest: 0.1497803\tbest: 0.1497803 (47)\ttotal: 1.59s\tremaining: 11.7s\n",
            "48:\tlearn: 0.1332254\ttest: 0.1490654\tbest: 0.1490654 (48)\ttotal: 1.62s\tremaining: 11.6s\n",
            "49:\tlearn: 0.1321025\ttest: 0.1481258\tbest: 0.1481258 (49)\ttotal: 1.65s\tremaining: 11.5s\n",
            "50:\tlearn: 0.1310006\ttest: 0.1472292\tbest: 0.1472292 (50)\ttotal: 1.68s\tremaining: 11.5s\n",
            "51:\tlearn: 0.1297608\ttest: 0.1461476\tbest: 0.1461476 (51)\ttotal: 1.71s\tremaining: 11.4s\n",
            "52:\tlearn: 0.1286052\ttest: 0.1449727\tbest: 0.1449727 (52)\ttotal: 1.74s\tremaining: 11.4s\n",
            "53:\tlearn: 0.1275430\ttest: 0.1439556\tbest: 0.1439556 (53)\ttotal: 1.76s\tremaining: 11.3s\n",
            "54:\tlearn: 0.1267291\ttest: 0.1431280\tbest: 0.1431280 (54)\ttotal: 1.79s\tremaining: 11.3s\n",
            "55:\tlearn: 0.1257182\ttest: 0.1421360\tbest: 0.1421360 (55)\ttotal: 1.82s\tremaining: 11.2s\n",
            "56:\tlearn: 0.1245613\ttest: 0.1411780\tbest: 0.1411780 (56)\ttotal: 1.85s\tremaining: 11.2s\n",
            "57:\tlearn: 0.1237102\ttest: 0.1405214\tbest: 0.1405214 (57)\ttotal: 1.89s\tremaining: 11.1s\n",
            "58:\tlearn: 0.1231195\ttest: 0.1400438\tbest: 0.1400438 (58)\ttotal: 1.92s\tremaining: 11.1s\n",
            "59:\tlearn: 0.1223799\ttest: 0.1394186\tbest: 0.1394186 (59)\ttotal: 1.95s\tremaining: 11s\n",
            "60:\tlearn: 0.1216615\ttest: 0.1390001\tbest: 0.1390001 (60)\ttotal: 1.98s\tremaining: 11s\n",
            "61:\tlearn: 0.1209576\ttest: 0.1383974\tbest: 0.1383974 (61)\ttotal: 2s\tremaining: 10.9s\n",
            "62:\tlearn: 0.1199169\ttest: 0.1374875\tbest: 0.1374875 (62)\ttotal: 2.04s\tremaining: 10.9s\n",
            "63:\tlearn: 0.1194084\ttest: 0.1372336\tbest: 0.1372336 (63)\ttotal: 2.06s\tremaining: 10.8s\n",
            "64:\tlearn: 0.1186775\ttest: 0.1366146\tbest: 0.1366146 (64)\ttotal: 2.11s\tremaining: 10.9s\n",
            "65:\tlearn: 0.1183465\ttest: 0.1363456\tbest: 0.1363456 (65)\ttotal: 2.15s\tremaining: 10.9s\n",
            "66:\tlearn: 0.1178268\ttest: 0.1359463\tbest: 0.1359463 (66)\ttotal: 2.19s\tremaining: 10.9s\n",
            "67:\tlearn: 0.1170524\ttest: 0.1353026\tbest: 0.1353026 (67)\ttotal: 2.23s\tremaining: 10.9s\n",
            "68:\tlearn: 0.1163922\ttest: 0.1348340\tbest: 0.1348340 (68)\ttotal: 2.27s\tremaining: 10.9s\n",
            "69:\tlearn: 0.1154928\ttest: 0.1340161\tbest: 0.1340161 (69)\ttotal: 2.31s\tremaining: 10.9s\n",
            "70:\tlearn: 0.1146251\ttest: 0.1332752\tbest: 0.1332752 (70)\ttotal: 2.35s\tremaining: 10.9s\n",
            "71:\tlearn: 0.1140785\ttest: 0.1329606\tbest: 0.1329606 (71)\ttotal: 2.38s\tremaining: 10.9s\n",
            "72:\tlearn: 0.1134974\ttest: 0.1325601\tbest: 0.1325601 (72)\ttotal: 2.42s\tremaining: 10.9s\n",
            "73:\tlearn: 0.1127932\ttest: 0.1319219\tbest: 0.1319219 (73)\ttotal: 2.46s\tremaining: 10.9s\n",
            "74:\tlearn: 0.1121704\ttest: 0.1315494\tbest: 0.1315494 (74)\ttotal: 2.5s\tremaining: 10.8s\n",
            "75:\tlearn: 0.1114372\ttest: 0.1309457\tbest: 0.1309457 (75)\ttotal: 2.54s\tremaining: 10.8s\n",
            "76:\tlearn: 0.1109076\ttest: 0.1305616\tbest: 0.1305616 (76)\ttotal: 2.58s\tremaining: 10.8s\n",
            "77:\tlearn: 0.1104693\ttest: 0.1301287\tbest: 0.1301287 (77)\ttotal: 2.62s\tremaining: 10.8s\n",
            "78:\tlearn: 0.1100699\ttest: 0.1297793\tbest: 0.1297793 (78)\ttotal: 2.67s\tremaining: 10.8s\n",
            "79:\tlearn: 0.1097499\ttest: 0.1295435\tbest: 0.1295435 (79)\ttotal: 2.71s\tremaining: 10.8s\n",
            "80:\tlearn: 0.1091432\ttest: 0.1290452\tbest: 0.1290452 (80)\ttotal: 2.75s\tremaining: 10.8s\n",
            "81:\tlearn: 0.1087503\ttest: 0.1289052\tbest: 0.1289052 (81)\ttotal: 2.79s\tremaining: 10.8s\n",
            "82:\tlearn: 0.1081753\ttest: 0.1284084\tbest: 0.1284084 (82)\ttotal: 2.84s\tremaining: 10.8s\n",
            "83:\tlearn: 0.1078560\ttest: 0.1282179\tbest: 0.1282179 (83)\ttotal: 2.89s\tremaining: 10.9s\n",
            "84:\tlearn: 0.1073524\ttest: 0.1277932\tbest: 0.1277932 (84)\ttotal: 2.97s\tremaining: 11s\n",
            "85:\tlearn: 0.1066394\ttest: 0.1273091\tbest: 0.1273091 (85)\ttotal: 3.02s\tremaining: 11s\n",
            "86:\tlearn: 0.1064002\ttest: 0.1270951\tbest: 0.1270951 (86)\ttotal: 3.08s\tremaining: 11.1s\n",
            "87:\tlearn: 0.1060970\ttest: 0.1268670\tbest: 0.1268670 (87)\ttotal: 3.13s\tremaining: 11.1s\n",
            "88:\tlearn: 0.1055478\ttest: 0.1262737\tbest: 0.1262737 (88)\ttotal: 3.17s\tremaining: 11.1s\n",
            "89:\tlearn: 0.1050733\ttest: 0.1258464\tbest: 0.1258464 (89)\ttotal: 3.21s\tremaining: 11.1s\n",
            "90:\tlearn: 0.1047527\ttest: 0.1256301\tbest: 0.1256301 (90)\ttotal: 3.26s\tremaining: 11.1s\n",
            "91:\tlearn: 0.1042088\ttest: 0.1251734\tbest: 0.1251734 (91)\ttotal: 3.3s\tremaining: 11s\n",
            "92:\tlearn: 0.1037455\ttest: 0.1247803\tbest: 0.1247803 (92)\ttotal: 3.36s\tremaining: 11.1s\n",
            "93:\tlearn: 0.1034788\ttest: 0.1245507\tbest: 0.1245507 (93)\ttotal: 3.4s\tremaining: 11.1s\n",
            "94:\tlearn: 0.1030609\ttest: 0.1242021\tbest: 0.1242021 (94)\ttotal: 3.44s\tremaining: 11s\n",
            "95:\tlearn: 0.1028028\ttest: 0.1239766\tbest: 0.1239766 (95)\ttotal: 3.47s\tremaining: 11s\n",
            "96:\tlearn: 0.1024635\ttest: 0.1237704\tbest: 0.1237704 (96)\ttotal: 3.51s\tremaining: 11s\n",
            "97:\tlearn: 0.1020657\ttest: 0.1235720\tbest: 0.1235720 (97)\ttotal: 3.55s\tremaining: 10.9s\n",
            "98:\tlearn: 0.1017829\ttest: 0.1234562\tbest: 0.1234562 (98)\ttotal: 3.61s\tremaining: 11s\n",
            "99:\tlearn: 0.1013570\ttest: 0.1230703\tbest: 0.1230703 (99)\ttotal: 3.67s\tremaining: 11s\n",
            "100:\tlearn: 0.1009271\ttest: 0.1226750\tbest: 0.1226750 (100)\ttotal: 3.71s\tremaining: 11s\n",
            "101:\tlearn: 0.1005268\ttest: 0.1224144\tbest: 0.1224144 (101)\ttotal: 3.77s\tremaining: 11s\n",
            "102:\tlearn: 0.1002733\ttest: 0.1221819\tbest: 0.1221819 (102)\ttotal: 3.82s\tremaining: 11s\n",
            "103:\tlearn: 0.0998781\ttest: 0.1218977\tbest: 0.1218977 (103)\ttotal: 3.88s\tremaining: 11s\n",
            "104:\tlearn: 0.0995255\ttest: 0.1217868\tbest: 0.1217868 (104)\ttotal: 3.92s\tremaining: 11s\n",
            "105:\tlearn: 0.0993636\ttest: 0.1216616\tbest: 0.1216616 (105)\ttotal: 3.96s\tremaining: 11s\n",
            "106:\tlearn: 0.0990425\ttest: 0.1214541\tbest: 0.1214541 (106)\ttotal: 4s\tremaining: 11s\n",
            "107:\tlearn: 0.0989203\ttest: 0.1213941\tbest: 0.1213941 (107)\ttotal: 4.04s\tremaining: 10.9s\n",
            "108:\tlearn: 0.0985124\ttest: 0.1212350\tbest: 0.1212350 (108)\ttotal: 4.09s\tremaining: 10.9s\n",
            "109:\tlearn: 0.0982440\ttest: 0.1211439\tbest: 0.1211439 (109)\ttotal: 4.16s\tremaining: 11s\n",
            "110:\tlearn: 0.0978769\ttest: 0.1209140\tbest: 0.1209140 (110)\ttotal: 4.21s\tremaining: 11s\n",
            "111:\tlearn: 0.0975856\ttest: 0.1206598\tbest: 0.1206598 (111)\ttotal: 4.26s\tremaining: 11s\n",
            "112:\tlearn: 0.0971419\ttest: 0.1205229\tbest: 0.1205229 (112)\ttotal: 4.31s\tremaining: 10.9s\n",
            "113:\tlearn: 0.0969987\ttest: 0.1204020\tbest: 0.1204020 (113)\ttotal: 4.36s\tremaining: 10.9s\n",
            "114:\tlearn: 0.0968118\ttest: 0.1202819\tbest: 0.1202819 (114)\ttotal: 4.4s\tremaining: 10.9s\n",
            "115:\tlearn: 0.0965961\ttest: 0.1202257\tbest: 0.1202257 (115)\ttotal: 4.46s\tremaining: 10.9s\n",
            "116:\tlearn: 0.0962702\ttest: 0.1200123\tbest: 0.1200123 (116)\ttotal: 4.52s\tremaining: 10.9s\n",
            "117:\tlearn: 0.0958638\ttest: 0.1197463\tbest: 0.1197463 (117)\ttotal: 4.6s\tremaining: 11s\n",
            "118:\tlearn: 0.0956641\ttest: 0.1195998\tbest: 0.1195998 (118)\ttotal: 4.64s\tremaining: 11s\n",
            "119:\tlearn: 0.0952545\ttest: 0.1193342\tbest: 0.1193342 (119)\ttotal: 4.68s\tremaining: 10.9s\n",
            "120:\tlearn: 0.0950538\ttest: 0.1191794\tbest: 0.1191794 (120)\ttotal: 4.71s\tremaining: 10.9s\n",
            "121:\tlearn: 0.0947050\ttest: 0.1189578\tbest: 0.1189578 (121)\ttotal: 4.75s\tremaining: 10.8s\n",
            "122:\tlearn: 0.0944232\ttest: 0.1187006\tbest: 0.1187006 (122)\ttotal: 4.82s\tremaining: 10.9s\n",
            "123:\tlearn: 0.0941438\ttest: 0.1184653\tbest: 0.1184653 (123)\ttotal: 4.86s\tremaining: 10.8s\n",
            "124:\tlearn: 0.0938040\ttest: 0.1183963\tbest: 0.1183963 (124)\ttotal: 4.91s\tremaining: 10.8s\n",
            "125:\tlearn: 0.0936004\ttest: 0.1183143\tbest: 0.1183143 (125)\ttotal: 4.97s\tremaining: 10.8s\n",
            "126:\tlearn: 0.0933924\ttest: 0.1181634\tbest: 0.1181634 (126)\ttotal: 5.05s\tremaining: 10.8s\n",
            "127:\tlearn: 0.0931331\ttest: 0.1181221\tbest: 0.1181221 (127)\ttotal: 5.18s\tremaining: 11s\n",
            "128:\tlearn: 0.0927688\ttest: 0.1178159\tbest: 0.1178159 (128)\ttotal: 5.24s\tremaining: 11s\n",
            "129:\tlearn: 0.0925060\ttest: 0.1177265\tbest: 0.1177265 (129)\ttotal: 5.3s\tremaining: 11s\n",
            "130:\tlearn: 0.0923174\ttest: 0.1176429\tbest: 0.1176429 (130)\ttotal: 5.34s\tremaining: 11s\n",
            "131:\tlearn: 0.0919261\ttest: 0.1174376\tbest: 0.1174376 (131)\ttotal: 5.4s\tremaining: 11s\n",
            "132:\tlearn: 0.0914588\ttest: 0.1170262\tbest: 0.1170262 (132)\ttotal: 5.44s\tremaining: 10.9s\n",
            "133:\tlearn: 0.0913111\ttest: 0.1168807\tbest: 0.1168807 (133)\ttotal: 5.48s\tremaining: 10.9s\n",
            "134:\tlearn: 0.0910687\ttest: 0.1168054\tbest: 0.1168054 (134)\ttotal: 5.53s\tremaining: 10.8s\n",
            "135:\tlearn: 0.0908253\ttest: 0.1165818\tbest: 0.1165818 (135)\ttotal: 5.56s\tremaining: 10.8s\n",
            "136:\tlearn: 0.0904035\ttest: 0.1162454\tbest: 0.1162454 (136)\ttotal: 5.6s\tremaining: 10.8s\n",
            "137:\tlearn: 0.0902459\ttest: 0.1161690\tbest: 0.1161690 (137)\ttotal: 5.64s\tremaining: 10.7s\n",
            "138:\tlearn: 0.0899170\ttest: 0.1159998\tbest: 0.1159998 (138)\ttotal: 5.68s\tremaining: 10.7s\n",
            "139:\tlearn: 0.0896628\ttest: 0.1158405\tbest: 0.1158405 (139)\ttotal: 5.72s\tremaining: 10.6s\n",
            "140:\tlearn: 0.0894340\ttest: 0.1158368\tbest: 0.1158368 (140)\ttotal: 5.76s\tremaining: 10.6s\n",
            "141:\tlearn: 0.0891064\ttest: 0.1156507\tbest: 0.1156507 (141)\ttotal: 5.8s\tremaining: 10.5s\n",
            "142:\tlearn: 0.0888585\ttest: 0.1155203\tbest: 0.1155203 (142)\ttotal: 5.84s\tremaining: 10.5s\n",
            "143:\tlearn: 0.0886911\ttest: 0.1153653\tbest: 0.1153653 (143)\ttotal: 5.88s\tremaining: 10.5s\n",
            "144:\tlearn: 0.0884540\ttest: 0.1152636\tbest: 0.1152636 (144)\ttotal: 5.92s\tremaining: 10.4s\n",
            "145:\tlearn: 0.0880296\ttest: 0.1150332\tbest: 0.1150332 (145)\ttotal: 5.97s\tremaining: 10.4s\n",
            "146:\tlearn: 0.0877544\ttest: 0.1148984\tbest: 0.1148984 (146)\ttotal: 6.01s\tremaining: 10.3s\n",
            "147:\tlearn: 0.0875047\ttest: 0.1148540\tbest: 0.1148540 (147)\ttotal: 6.05s\tremaining: 10.3s\n",
            "148:\tlearn: 0.0873682\ttest: 0.1148240\tbest: 0.1148240 (148)\ttotal: 6.12s\tremaining: 10.3s\n",
            "149:\tlearn: 0.0872366\ttest: 0.1146995\tbest: 0.1146995 (149)\ttotal: 6.16s\tremaining: 10.3s\n",
            "150:\tlearn: 0.0868443\ttest: 0.1144515\tbest: 0.1144515 (150)\ttotal: 6.2s\tremaining: 10.2s\n",
            "151:\tlearn: 0.0866759\ttest: 0.1144568\tbest: 0.1144515 (150)\ttotal: 6.24s\tremaining: 10.2s\n",
            "152:\tlearn: 0.0863101\ttest: 0.1143913\tbest: 0.1143913 (152)\ttotal: 6.29s\tremaining: 10.2s\n",
            "153:\tlearn: 0.0860385\ttest: 0.1142713\tbest: 0.1142713 (153)\ttotal: 6.34s\tremaining: 10.1s\n",
            "154:\tlearn: 0.0858418\ttest: 0.1142616\tbest: 0.1142616 (154)\ttotal: 6.38s\tremaining: 10.1s\n",
            "155:\tlearn: 0.0855573\ttest: 0.1142369\tbest: 0.1142369 (155)\ttotal: 6.43s\tremaining: 10.1s\n",
            "156:\tlearn: 0.0852984\ttest: 0.1142794\tbest: 0.1142369 (155)\ttotal: 6.48s\tremaining: 10s\n",
            "157:\tlearn: 0.0850059\ttest: 0.1141695\tbest: 0.1141695 (157)\ttotal: 6.52s\tremaining: 9.99s\n",
            "158:\tlearn: 0.0848778\ttest: 0.1141287\tbest: 0.1141287 (158)\ttotal: 6.57s\tremaining: 9.96s\n",
            "159:\tlearn: 0.0846293\ttest: 0.1140895\tbest: 0.1140895 (159)\ttotal: 6.61s\tremaining: 9.92s\n",
            "160:\tlearn: 0.0843933\ttest: 0.1141055\tbest: 0.1140895 (159)\ttotal: 6.65s\tremaining: 9.88s\n",
            "161:\tlearn: 0.0842377\ttest: 0.1140389\tbest: 0.1140389 (161)\ttotal: 6.69s\tremaining: 9.83s\n",
            "162:\tlearn: 0.0839543\ttest: 0.1138147\tbest: 0.1138147 (162)\ttotal: 6.75s\tremaining: 9.81s\n",
            "163:\tlearn: 0.0836389\ttest: 0.1136318\tbest: 0.1136318 (163)\ttotal: 6.8s\tremaining: 9.78s\n",
            "164:\tlearn: 0.0834661\ttest: 0.1134719\tbest: 0.1134719 (164)\ttotal: 6.84s\tremaining: 9.74s\n",
            "165:\tlearn: 0.0833059\ttest: 0.1134556\tbest: 0.1134556 (165)\ttotal: 6.88s\tremaining: 9.7s\n",
            "166:\tlearn: 0.0830469\ttest: 0.1133688\tbest: 0.1133688 (166)\ttotal: 6.94s\tremaining: 9.69s\n",
            "167:\tlearn: 0.0828612\ttest: 0.1133335\tbest: 0.1133335 (167)\ttotal: 6.99s\tremaining: 9.65s\n",
            "168:\tlearn: 0.0827428\ttest: 0.1132393\tbest: 0.1132393 (168)\ttotal: 7.02s\tremaining: 9.6s\n",
            "169:\tlearn: 0.0825606\ttest: 0.1131453\tbest: 0.1131453 (169)\ttotal: 7.09s\tremaining: 9.59s\n",
            "170:\tlearn: 0.0823484\ttest: 0.1130527\tbest: 0.1130527 (170)\ttotal: 7.13s\tremaining: 9.55s\n",
            "171:\tlearn: 0.0820776\ttest: 0.1130314\tbest: 0.1130314 (171)\ttotal: 7.17s\tremaining: 9.51s\n",
            "172:\tlearn: 0.0818941\ttest: 0.1129586\tbest: 0.1129586 (172)\ttotal: 7.22s\tremaining: 9.47s\n",
            "173:\tlearn: 0.0816639\ttest: 0.1128418\tbest: 0.1128418 (173)\ttotal: 7.25s\tremaining: 9.42s\n",
            "174:\tlearn: 0.0814812\ttest: 0.1127133\tbest: 0.1127133 (174)\ttotal: 7.32s\tremaining: 9.42s\n",
            "175:\tlearn: 0.0812913\ttest: 0.1126098\tbest: 0.1126098 (175)\ttotal: 7.37s\tremaining: 9.38s\n",
            "176:\tlearn: 0.0811561\ttest: 0.1125231\tbest: 0.1125231 (176)\ttotal: 7.41s\tremaining: 9.33s\n",
            "177:\tlearn: 0.0810376\ttest: 0.1125309\tbest: 0.1125231 (176)\ttotal: 7.45s\tremaining: 9.29s\n",
            "178:\tlearn: 0.0808936\ttest: 0.1125026\tbest: 0.1125026 (178)\ttotal: 7.49s\tremaining: 9.25s\n",
            "179:\tlearn: 0.0808049\ttest: 0.1124767\tbest: 0.1124767 (179)\ttotal: 7.53s\tremaining: 9.2s\n",
            "180:\tlearn: 0.0806960\ttest: 0.1124526\tbest: 0.1124526 (180)\ttotal: 7.57s\tremaining: 9.16s\n",
            "181:\tlearn: 0.0805898\ttest: 0.1124038\tbest: 0.1124038 (181)\ttotal: 7.64s\tremaining: 9.16s\n",
            "182:\tlearn: 0.0803973\ttest: 0.1123360\tbest: 0.1123360 (182)\ttotal: 7.69s\tremaining: 9.11s\n",
            "183:\tlearn: 0.0801300\ttest: 0.1122751\tbest: 0.1122751 (183)\ttotal: 7.73s\tremaining: 9.07s\n",
            "184:\tlearn: 0.0800208\ttest: 0.1121553\tbest: 0.1121553 (184)\ttotal: 7.77s\tremaining: 9.03s\n",
            "185:\tlearn: 0.0798718\ttest: 0.1120415\tbest: 0.1120415 (185)\ttotal: 7.82s\tremaining: 8.99s\n",
            "186:\tlearn: 0.0797212\ttest: 0.1119863\tbest: 0.1119863 (186)\ttotal: 7.88s\tremaining: 8.97s\n",
            "187:\tlearn: 0.0795183\ttest: 0.1119605\tbest: 0.1119605 (187)\ttotal: 7.92s\tremaining: 8.93s\n",
            "188:\tlearn: 0.0793861\ttest: 0.1118417\tbest: 0.1118417 (188)\ttotal: 7.96s\tremaining: 8.89s\n",
            "189:\tlearn: 0.0791739\ttest: 0.1116209\tbest: 0.1116209 (189)\ttotal: 8.03s\tremaining: 8.88s\n",
            "190:\tlearn: 0.0789862\ttest: 0.1115555\tbest: 0.1115555 (190)\ttotal: 8.08s\tremaining: 8.84s\n",
            "191:\tlearn: 0.0787461\ttest: 0.1114374\tbest: 0.1114374 (191)\ttotal: 8.12s\tremaining: 8.79s\n",
            "192:\tlearn: 0.0785554\ttest: 0.1112938\tbest: 0.1112938 (192)\ttotal: 8.16s\tremaining: 8.75s\n",
            "193:\tlearn: 0.0781987\ttest: 0.1111193\tbest: 0.1111193 (193)\ttotal: 8.2s\tremaining: 8.71s\n",
            "194:\tlearn: 0.0780568\ttest: 0.1110097\tbest: 0.1110097 (194)\ttotal: 8.24s\tremaining: 8.66s\n",
            "195:\tlearn: 0.0779729\ttest: 0.1109394\tbest: 0.1109394 (195)\ttotal: 8.28s\tremaining: 8.62s\n",
            "196:\tlearn: 0.0777304\ttest: 0.1107956\tbest: 0.1107956 (196)\ttotal: 8.33s\tremaining: 8.58s\n",
            "197:\tlearn: 0.0776066\ttest: 0.1107895\tbest: 0.1107895 (197)\ttotal: 8.38s\tremaining: 8.54s\n",
            "198:\tlearn: 0.0774893\ttest: 0.1108141\tbest: 0.1107895 (197)\ttotal: 8.43s\tremaining: 8.52s\n",
            "199:\tlearn: 0.0773037\ttest: 0.1107468\tbest: 0.1107468 (199)\ttotal: 8.48s\tremaining: 8.48s\n",
            "200:\tlearn: 0.0771016\ttest: 0.1106837\tbest: 0.1106837 (200)\ttotal: 8.56s\tremaining: 8.48s\n",
            "201:\tlearn: 0.0769191\ttest: 0.1106452\tbest: 0.1106452 (201)\ttotal: 8.61s\tremaining: 8.44s\n",
            "202:\tlearn: 0.0767631\ttest: 0.1106113\tbest: 0.1106113 (202)\ttotal: 8.66s\tremaining: 8.4s\n",
            "203:\tlearn: 0.0766233\ttest: 0.1104956\tbest: 0.1104956 (203)\ttotal: 8.7s\tremaining: 8.36s\n",
            "204:\tlearn: 0.0764399\ttest: 0.1105318\tbest: 0.1104956 (203)\ttotal: 8.74s\tremaining: 8.31s\n",
            "205:\tlearn: 0.0762538\ttest: 0.1104754\tbest: 0.1104754 (205)\ttotal: 8.79s\tremaining: 8.28s\n",
            "206:\tlearn: 0.0761486\ttest: 0.1103893\tbest: 0.1103893 (206)\ttotal: 8.84s\tremaining: 8.24s\n",
            "207:\tlearn: 0.0760064\ttest: 0.1103610\tbest: 0.1103610 (207)\ttotal: 8.88s\tremaining: 8.2s\n",
            "208:\tlearn: 0.0759355\ttest: 0.1102797\tbest: 0.1102797 (208)\ttotal: 8.93s\tremaining: 8.16s\n",
            "209:\tlearn: 0.0757592\ttest: 0.1102125\tbest: 0.1102125 (209)\ttotal: 8.98s\tremaining: 8.12s\n",
            "210:\tlearn: 0.0755594\ttest: 0.1101594\tbest: 0.1101594 (210)\ttotal: 9.02s\tremaining: 8.08s\n",
            "211:\tlearn: 0.0754750\ttest: 0.1100560\tbest: 0.1100560 (211)\ttotal: 9.06s\tremaining: 8.04s\n",
            "212:\tlearn: 0.0753324\ttest: 0.1100495\tbest: 0.1100495 (212)\ttotal: 9.11s\tremaining: 8s\n",
            "213:\tlearn: 0.0750918\ttest: 0.1100003\tbest: 0.1100003 (213)\ttotal: 9.17s\tremaining: 7.97s\n",
            "214:\tlearn: 0.0749322\ttest: 0.1098573\tbest: 0.1098573 (214)\ttotal: 9.22s\tremaining: 7.93s\n",
            "215:\tlearn: 0.0748418\ttest: 0.1097670\tbest: 0.1097670 (215)\ttotal: 9.37s\tremaining: 7.99s\n",
            "216:\tlearn: 0.0746503\ttest: 0.1097017\tbest: 0.1097017 (216)\ttotal: 9.5s\tremaining: 8.01s\n",
            "217:\tlearn: 0.0744512\ttest: 0.1096246\tbest: 0.1096246 (217)\ttotal: 9.58s\tremaining: 8s\n",
            "218:\tlearn: 0.0743665\ttest: 0.1096383\tbest: 0.1096246 (217)\ttotal: 9.7s\tremaining: 8.02s\n",
            "219:\tlearn: 0.0742856\ttest: 0.1096189\tbest: 0.1096189 (219)\ttotal: 9.75s\tremaining: 7.98s\n",
            "220:\tlearn: 0.0740871\ttest: 0.1095827\tbest: 0.1095827 (220)\ttotal: 9.81s\tremaining: 7.94s\n",
            "221:\tlearn: 0.0739663\ttest: 0.1095235\tbest: 0.1095235 (221)\ttotal: 9.86s\tremaining: 7.91s\n",
            "222:\tlearn: 0.0738268\ttest: 0.1095267\tbest: 0.1095235 (221)\ttotal: 9.93s\tremaining: 7.88s\n",
            "223:\tlearn: 0.0737178\ttest: 0.1094348\tbest: 0.1094348 (223)\ttotal: 10s\tremaining: 7.89s\n",
            "224:\tlearn: 0.0736551\ttest: 0.1094245\tbest: 0.1094245 (224)\ttotal: 10.1s\tremaining: 7.88s\n",
            "225:\tlearn: 0.0735634\ttest: 0.1094194\tbest: 0.1094194 (225)\ttotal: 10.2s\tremaining: 7.87s\n",
            "226:\tlearn: 0.0734859\ttest: 0.1093790\tbest: 0.1093790 (226)\ttotal: 10.3s\tremaining: 7.83s\n",
            "227:\tlearn: 0.0734226\ttest: 0.1093262\tbest: 0.1093262 (227)\ttotal: 10.3s\tremaining: 7.78s\n",
            "228:\tlearn: 0.0732532\ttest: 0.1092936\tbest: 0.1092936 (228)\ttotal: 10.4s\tremaining: 7.74s\n",
            "229:\tlearn: 0.0731879\ttest: 0.1092620\tbest: 0.1092620 (229)\ttotal: 10.4s\tremaining: 7.7s\n",
            "230:\tlearn: 0.0728953\ttest: 0.1092083\tbest: 0.1092083 (230)\ttotal: 10.5s\tremaining: 7.68s\n",
            "231:\tlearn: 0.0727616\ttest: 0.1091306\tbest: 0.1091306 (231)\ttotal: 10.6s\tremaining: 7.66s\n",
            "232:\tlearn: 0.0726798\ttest: 0.1091136\tbest: 0.1091136 (232)\ttotal: 10.6s\tremaining: 7.61s\n",
            "233:\tlearn: 0.0725971\ttest: 0.1090790\tbest: 0.1090790 (233)\ttotal: 10.7s\tremaining: 7.58s\n",
            "234:\tlearn: 0.0724732\ttest: 0.1089806\tbest: 0.1089806 (234)\ttotal: 10.7s\tremaining: 7.54s\n",
            "235:\tlearn: 0.0723103\ttest: 0.1089669\tbest: 0.1089669 (235)\ttotal: 10.8s\tremaining: 7.49s\n",
            "236:\tlearn: 0.0722169\ttest: 0.1088683\tbest: 0.1088683 (236)\ttotal: 10.8s\tremaining: 7.45s\n",
            "237:\tlearn: 0.0721194\ttest: 0.1088456\tbest: 0.1088456 (237)\ttotal: 10.9s\tremaining: 7.4s\n",
            "238:\tlearn: 0.0720478\ttest: 0.1087741\tbest: 0.1087741 (238)\ttotal: 10.9s\tremaining: 7.35s\n",
            "239:\tlearn: 0.0718381\ttest: 0.1087396\tbest: 0.1087396 (239)\ttotal: 11s\tremaining: 7.3s\n",
            "240:\tlearn: 0.0717762\ttest: 0.1086993\tbest: 0.1086993 (240)\ttotal: 11s\tremaining: 7.25s\n",
            "241:\tlearn: 0.0715600\ttest: 0.1087339\tbest: 0.1086993 (240)\ttotal: 11s\tremaining: 7.2s\n",
            "242:\tlearn: 0.0714914\ttest: 0.1087426\tbest: 0.1086993 (240)\ttotal: 11.1s\tremaining: 7.16s\n",
            "243:\tlearn: 0.0713919\ttest: 0.1087406\tbest: 0.1086993 (240)\ttotal: 11.1s\tremaining: 7.11s\n",
            "244:\tlearn: 0.0712937\ttest: 0.1087283\tbest: 0.1086993 (240)\ttotal: 11.2s\tremaining: 7.07s\n",
            "245:\tlearn: 0.0711630\ttest: 0.1087247\tbest: 0.1086993 (240)\ttotal: 11.2s\tremaining: 7.03s\n",
            "246:\tlearn: 0.0711017\ttest: 0.1087117\tbest: 0.1086993 (240)\ttotal: 11.3s\tremaining: 6.98s\n",
            "247:\tlearn: 0.0710444\ttest: 0.1087148\tbest: 0.1086993 (240)\ttotal: 11.3s\tremaining: 6.92s\n",
            "248:\tlearn: 0.0709110\ttest: 0.1086848\tbest: 0.1086848 (248)\ttotal: 11.3s\tremaining: 6.87s\n",
            "249:\tlearn: 0.0708290\ttest: 0.1086357\tbest: 0.1086357 (249)\ttotal: 11.4s\tremaining: 6.83s\n",
            "250:\tlearn: 0.0707486\ttest: 0.1085878\tbest: 0.1085878 (250)\ttotal: 11.4s\tremaining: 6.79s\n",
            "251:\tlearn: 0.0706045\ttest: 0.1085150\tbest: 0.1085150 (251)\ttotal: 11.5s\tremaining: 6.75s\n",
            "252:\tlearn: 0.0705260\ttest: 0.1085125\tbest: 0.1085125 (252)\ttotal: 11.5s\tremaining: 6.71s\n",
            "253:\tlearn: 0.0704436\ttest: 0.1084584\tbest: 0.1084584 (253)\ttotal: 11.6s\tremaining: 6.66s\n",
            "254:\tlearn: 0.0703334\ttest: 0.1083891\tbest: 0.1083891 (254)\ttotal: 11.6s\tremaining: 6.61s\n",
            "255:\tlearn: 0.0702539\ttest: 0.1083656\tbest: 0.1083656 (255)\ttotal: 11.7s\tremaining: 6.57s\n",
            "256:\tlearn: 0.0701782\ttest: 0.1083812\tbest: 0.1083656 (255)\ttotal: 11.7s\tremaining: 6.53s\n",
            "257:\tlearn: 0.0701145\ttest: 0.1083512\tbest: 0.1083512 (257)\ttotal: 11.8s\tremaining: 6.5s\n",
            "258:\tlearn: 0.0699494\ttest: 0.1083383\tbest: 0.1083383 (258)\ttotal: 11.9s\tremaining: 6.45s\n",
            "259:\tlearn: 0.0698375\ttest: 0.1083619\tbest: 0.1083383 (258)\ttotal: 11.9s\tremaining: 6.41s\n",
            "260:\tlearn: 0.0695738\ttest: 0.1083190\tbest: 0.1083190 (260)\ttotal: 12s\tremaining: 6.37s\n",
            "261:\tlearn: 0.0694018\ttest: 0.1083017\tbest: 0.1083017 (261)\ttotal: 12s\tremaining: 6.33s\n",
            "262:\tlearn: 0.0692420\ttest: 0.1082275\tbest: 0.1082275 (262)\ttotal: 12.1s\tremaining: 6.28s\n",
            "263:\tlearn: 0.0690460\ttest: 0.1082317\tbest: 0.1082275 (262)\ttotal: 12.1s\tremaining: 6.24s\n",
            "264:\tlearn: 0.0689865\ttest: 0.1081561\tbest: 0.1081561 (264)\ttotal: 12.2s\tremaining: 6.19s\n",
            "265:\tlearn: 0.0688802\ttest: 0.1080869\tbest: 0.1080869 (265)\ttotal: 12.2s\tremaining: 6.14s\n",
            "266:\tlearn: 0.0687193\ttest: 0.1080815\tbest: 0.1080815 (266)\ttotal: 12.3s\tremaining: 6.12s\n",
            "267:\tlearn: 0.0686151\ttest: 0.1080067\tbest: 0.1080067 (267)\ttotal: 12.3s\tremaining: 6.08s\n",
            "268:\tlearn: 0.0685555\ttest: 0.1079528\tbest: 0.1079528 (268)\ttotal: 12.4s\tremaining: 6.04s\n",
            "269:\tlearn: 0.0684318\ttest: 0.1079409\tbest: 0.1079409 (269)\ttotal: 12.4s\tremaining: 5.99s\n",
            "270:\tlearn: 0.0682434\ttest: 0.1078596\tbest: 0.1078596 (270)\ttotal: 12.5s\tremaining: 5.95s\n",
            "271:\tlearn: 0.0681065\ttest: 0.1078724\tbest: 0.1078596 (270)\ttotal: 12.5s\tremaining: 5.9s\n",
            "272:\tlearn: 0.0680182\ttest: 0.1077695\tbest: 0.1077695 (272)\ttotal: 12.6s\tremaining: 5.85s\n",
            "273:\tlearn: 0.0679610\ttest: 0.1077653\tbest: 0.1077653 (273)\ttotal: 12.6s\tremaining: 5.81s\n",
            "274:\tlearn: 0.0678724\ttest: 0.1077853\tbest: 0.1077653 (273)\ttotal: 12.7s\tremaining: 5.77s\n",
            "275:\tlearn: 0.0678332\ttest: 0.1077609\tbest: 0.1077609 (275)\ttotal: 12.7s\tremaining: 5.72s\n",
            "276:\tlearn: 0.0677239\ttest: 0.1077167\tbest: 0.1077167 (276)\ttotal: 12.8s\tremaining: 5.67s\n",
            "277:\tlearn: 0.0676632\ttest: 0.1077069\tbest: 0.1077069 (277)\ttotal: 12.8s\tremaining: 5.63s\n",
            "278:\tlearn: 0.0675170\ttest: 0.1076281\tbest: 0.1076281 (278)\ttotal: 12.9s\tremaining: 5.62s\n",
            "279:\tlearn: 0.0674786\ttest: 0.1076307\tbest: 0.1076281 (278)\ttotal: 13s\tremaining: 5.57s\n",
            "280:\tlearn: 0.0673218\ttest: 0.1076683\tbest: 0.1076281 (278)\ttotal: 13.1s\tremaining: 5.54s\n",
            "281:\tlearn: 0.0671372\ttest: 0.1076916\tbest: 0.1076281 (278)\ttotal: 13.2s\tremaining: 5.51s\n",
            "282:\tlearn: 0.0669978\ttest: 0.1077411\tbest: 0.1076281 (278)\ttotal: 13.3s\tremaining: 5.49s\n",
            "283:\tlearn: 0.0668676\ttest: 0.1077351\tbest: 0.1076281 (278)\ttotal: 13.3s\tremaining: 5.45s\n",
            "284:\tlearn: 0.0667200\ttest: 0.1077368\tbest: 0.1076281 (278)\ttotal: 13.4s\tremaining: 5.4s\n",
            "285:\tlearn: 0.0664376\ttest: 0.1077173\tbest: 0.1076281 (278)\ttotal: 13.5s\tremaining: 5.36s\n",
            "286:\tlearn: 0.0663272\ttest: 0.1077222\tbest: 0.1076281 (278)\ttotal: 13.5s\tremaining: 5.32s\n",
            "287:\tlearn: 0.0662946\ttest: 0.1077274\tbest: 0.1076281 (278)\ttotal: 13.6s\tremaining: 5.28s\n",
            "288:\tlearn: 0.0662515\ttest: 0.1076662\tbest: 0.1076281 (278)\ttotal: 13.6s\tremaining: 5.23s\n",
            "289:\tlearn: 0.0660458\ttest: 0.1077076\tbest: 0.1076281 (278)\ttotal: 13.7s\tremaining: 5.2s\n",
            "290:\tlearn: 0.0660006\ttest: 0.1077493\tbest: 0.1076281 (278)\ttotal: 13.8s\tremaining: 5.17s\n",
            "291:\tlearn: 0.0659746\ttest: 0.1077119\tbest: 0.1076281 (278)\ttotal: 13.8s\tremaining: 5.12s\n",
            "292:\tlearn: 0.0659168\ttest: 0.1076851\tbest: 0.1076281 (278)\ttotal: 13.9s\tremaining: 5.08s\n",
            "293:\tlearn: 0.0657347\ttest: 0.1075972\tbest: 0.1075972 (293)\ttotal: 13.9s\tremaining: 5.03s\n",
            "294:\tlearn: 0.0655927\ttest: 0.1075569\tbest: 0.1075569 (294)\ttotal: 14s\tremaining: 4.98s\n",
            "295:\tlearn: 0.0654805\ttest: 0.1075529\tbest: 0.1075529 (295)\ttotal: 14.1s\tremaining: 4.94s\n",
            "296:\tlearn: 0.0652886\ttest: 0.1075721\tbest: 0.1075529 (295)\ttotal: 14.1s\tremaining: 4.9s\n",
            "297:\tlearn: 0.0651630\ttest: 0.1075775\tbest: 0.1075529 (295)\ttotal: 14.2s\tremaining: 4.86s\n",
            "298:\tlearn: 0.0650529\ttest: 0.1074896\tbest: 0.1074896 (298)\ttotal: 14.3s\tremaining: 4.82s\n",
            "299:\tlearn: 0.0649236\ttest: 0.1074688\tbest: 0.1074688 (299)\ttotal: 14.3s\tremaining: 4.77s\n",
            "300:\tlearn: 0.0647999\ttest: 0.1074129\tbest: 0.1074129 (300)\ttotal: 14.4s\tremaining: 4.72s\n",
            "301:\tlearn: 0.0646312\ttest: 0.1073802\tbest: 0.1073802 (301)\ttotal: 14.4s\tremaining: 4.68s\n",
            "302:\tlearn: 0.0644021\ttest: 0.1073188\tbest: 0.1073188 (302)\ttotal: 14.5s\tremaining: 4.63s\n",
            "303:\tlearn: 0.0642377\ttest: 0.1073510\tbest: 0.1073188 (302)\ttotal: 14.5s\tremaining: 4.59s\n",
            "304:\tlearn: 0.0640640\ttest: 0.1073441\tbest: 0.1073188 (302)\ttotal: 14.6s\tremaining: 4.54s\n",
            "305:\tlearn: 0.0639374\ttest: 0.1073257\tbest: 0.1073188 (302)\ttotal: 14.6s\tremaining: 4.5s\n",
            "306:\tlearn: 0.0638088\ttest: 0.1072477\tbest: 0.1072477 (306)\ttotal: 14.7s\tremaining: 4.45s\n",
            "307:\tlearn: 0.0636643\ttest: 0.1072470\tbest: 0.1072470 (307)\ttotal: 14.7s\tremaining: 4.4s\n",
            "308:\tlearn: 0.0635022\ttest: 0.1072120\tbest: 0.1072120 (308)\ttotal: 14.8s\tremaining: 4.36s\n",
            "309:\tlearn: 0.0633744\ttest: 0.1072237\tbest: 0.1072120 (308)\ttotal: 14.9s\tremaining: 4.31s\n",
            "310:\tlearn: 0.0632314\ttest: 0.1071970\tbest: 0.1071970 (310)\ttotal: 14.9s\tremaining: 4.26s\n",
            "311:\tlearn: 0.0631189\ttest: 0.1071740\tbest: 0.1071740 (311)\ttotal: 14.9s\tremaining: 4.21s\n",
            "312:\tlearn: 0.0629611\ttest: 0.1072027\tbest: 0.1071740 (311)\ttotal: 15s\tremaining: 4.16s\n",
            "313:\tlearn: 0.0627873\ttest: 0.1071849\tbest: 0.1071740 (311)\ttotal: 15s\tremaining: 4.11s\n",
            "314:\tlearn: 0.0626593\ttest: 0.1072423\tbest: 0.1071740 (311)\ttotal: 15.1s\tremaining: 4.07s\n",
            "315:\tlearn: 0.0625098\ttest: 0.1072190\tbest: 0.1071740 (311)\ttotal: 15.1s\tremaining: 4.02s\n",
            "316:\tlearn: 0.0623825\ttest: 0.1070084\tbest: 0.1070084 (316)\ttotal: 15.2s\tremaining: 3.97s\n",
            "317:\tlearn: 0.0621605\ttest: 0.1070398\tbest: 0.1070084 (316)\ttotal: 15.2s\tremaining: 3.92s\n",
            "318:\tlearn: 0.0620646\ttest: 0.1070304\tbest: 0.1070084 (316)\ttotal: 15.2s\tremaining: 3.87s\n",
            "319:\tlearn: 0.0620321\ttest: 0.1070260\tbest: 0.1070084 (316)\ttotal: 15.3s\tremaining: 3.83s\n",
            "320:\tlearn: 0.0619899\ttest: 0.1070140\tbest: 0.1070084 (316)\ttotal: 15.4s\tremaining: 3.78s\n",
            "321:\tlearn: 0.0618531\ttest: 0.1070522\tbest: 0.1070084 (316)\ttotal: 15.4s\tremaining: 3.73s\n",
            "322:\tlearn: 0.0617758\ttest: 0.1070311\tbest: 0.1070084 (316)\ttotal: 15.5s\tremaining: 3.69s\n",
            "323:\tlearn: 0.0616029\ttest: 0.1070457\tbest: 0.1070084 (316)\ttotal: 15.5s\tremaining: 3.65s\n",
            "324:\tlearn: 0.0615103\ttest: 0.1070533\tbest: 0.1070084 (316)\ttotal: 15.6s\tremaining: 3.6s\n",
            "325:\tlearn: 0.0614011\ttest: 0.1070664\tbest: 0.1070084 (316)\ttotal: 15.6s\tremaining: 3.55s\n",
            "326:\tlearn: 0.0613138\ttest: 0.1070272\tbest: 0.1070084 (316)\ttotal: 15.7s\tremaining: 3.5s\n",
            "327:\tlearn: 0.0611989\ttest: 0.1070084\tbest: 0.1070084 (327)\ttotal: 15.7s\tremaining: 3.45s\n",
            "328:\tlearn: 0.0610707\ttest: 0.1070038\tbest: 0.1070038 (328)\ttotal: 15.7s\tremaining: 3.4s\n",
            "329:\tlearn: 0.0609443\ttest: 0.1069114\tbest: 0.1069114 (329)\ttotal: 15.8s\tremaining: 3.35s\n",
            "330:\tlearn: 0.0608766\ttest: 0.1068532\tbest: 0.1068532 (330)\ttotal: 15.8s\tremaining: 3.3s\n",
            "331:\tlearn: 0.0608585\ttest: 0.1068472\tbest: 0.1068472 (331)\ttotal: 15.9s\tremaining: 3.25s\n",
            "332:\tlearn: 0.0607874\ttest: 0.1068482\tbest: 0.1068472 (331)\ttotal: 15.9s\tremaining: 3.2s\n",
            "333:\tlearn: 0.0606603\ttest: 0.1069306\tbest: 0.1068472 (331)\ttotal: 15.9s\tremaining: 3.15s\n",
            "334:\tlearn: 0.0605791\ttest: 0.1068989\tbest: 0.1068472 (331)\ttotal: 16s\tremaining: 3.1s\n",
            "335:\tlearn: 0.0604707\ttest: 0.1068319\tbest: 0.1068319 (335)\ttotal: 16s\tremaining: 3.05s\n",
            "336:\tlearn: 0.0604577\ttest: 0.1068405\tbest: 0.1068319 (335)\ttotal: 16.1s\tremaining: 3s\n",
            "337:\tlearn: 0.0603187\ttest: 0.1068622\tbest: 0.1068319 (335)\ttotal: 16.1s\tremaining: 2.96s\n",
            "338:\tlearn: 0.0602301\ttest: 0.1068539\tbest: 0.1068319 (335)\ttotal: 16.2s\tremaining: 2.91s\n",
            "339:\tlearn: 0.0601263\ttest: 0.1068714\tbest: 0.1068319 (335)\ttotal: 16.2s\tremaining: 2.86s\n",
            "340:\tlearn: 0.0600825\ttest: 0.1068427\tbest: 0.1068319 (335)\ttotal: 16.3s\tremaining: 2.81s\n",
            "341:\tlearn: 0.0600421\ttest: 0.1068008\tbest: 0.1068008 (341)\ttotal: 16.3s\tremaining: 2.77s\n",
            "342:\tlearn: 0.0598120\ttest: 0.1069564\tbest: 0.1068008 (341)\ttotal: 16.4s\tremaining: 2.72s\n",
            "343:\tlearn: 0.0596882\ttest: 0.1069496\tbest: 0.1068008 (341)\ttotal: 16.4s\tremaining: 2.67s\n",
            "344:\tlearn: 0.0595930\ttest: 0.1069628\tbest: 0.1068008 (341)\ttotal: 16.4s\tremaining: 2.62s\n",
            "345:\tlearn: 0.0594846\ttest: 0.1069826\tbest: 0.1068008 (341)\ttotal: 16.5s\tremaining: 2.58s\n",
            "346:\tlearn: 0.0593526\ttest: 0.1070084\tbest: 0.1068008 (341)\ttotal: 16.5s\tremaining: 2.53s\n",
            "347:\tlearn: 0.0592848\ttest: 0.1070192\tbest: 0.1068008 (341)\ttotal: 16.6s\tremaining: 2.48s\n",
            "348:\tlearn: 0.0591192\ttest: 0.1070564\tbest: 0.1068008 (341)\ttotal: 16.6s\tremaining: 2.43s\n",
            "349:\tlearn: 0.0589698\ttest: 0.1070191\tbest: 0.1068008 (341)\ttotal: 16.7s\tremaining: 2.38s\n",
            "350:\tlearn: 0.0588377\ttest: 0.1069377\tbest: 0.1068008 (341)\ttotal: 16.7s\tremaining: 2.33s\n",
            "351:\tlearn: 0.0587321\ttest: 0.1068928\tbest: 0.1068008 (341)\ttotal: 16.8s\tremaining: 2.29s\n",
            "352:\tlearn: 0.0586342\ttest: 0.1068834\tbest: 0.1068008 (341)\ttotal: 16.8s\tremaining: 2.24s\n",
            "353:\tlearn: 0.0584851\ttest: 0.1067774\tbest: 0.1067774 (353)\ttotal: 16.9s\tremaining: 2.2s\n",
            "354:\tlearn: 0.0583485\ttest: 0.1067746\tbest: 0.1067746 (354)\ttotal: 17s\tremaining: 2.15s\n",
            "355:\tlearn: 0.0582688\ttest: 0.1067700\tbest: 0.1067700 (355)\ttotal: 17s\tremaining: 2.1s\n",
            "356:\tlearn: 0.0581588\ttest: 0.1067791\tbest: 0.1067700 (355)\ttotal: 17.1s\tremaining: 2.06s\n",
            "357:\tlearn: 0.0580369\ttest: 0.1068118\tbest: 0.1067700 (355)\ttotal: 17.1s\tremaining: 2.01s\n",
            "358:\tlearn: 0.0579433\ttest: 0.1067321\tbest: 0.1067321 (358)\ttotal: 17.1s\tremaining: 1.96s\n",
            "359:\tlearn: 0.0578345\ttest: 0.1066711\tbest: 0.1066711 (359)\ttotal: 17.2s\tremaining: 1.91s\n",
            "360:\tlearn: 0.0577702\ttest: 0.1066850\tbest: 0.1066711 (359)\ttotal: 17.3s\tremaining: 1.86s\n",
            "361:\tlearn: 0.0576388\ttest: 0.1066689\tbest: 0.1066689 (361)\ttotal: 17.3s\tremaining: 1.82s\n",
            "362:\tlearn: 0.0575317\ttest: 0.1066988\tbest: 0.1066689 (361)\ttotal: 17.4s\tremaining: 1.77s\n",
            "363:\tlearn: 0.0574472\ttest: 0.1066345\tbest: 0.1066345 (363)\ttotal: 17.4s\tremaining: 1.72s\n",
            "364:\tlearn: 0.0573504\ttest: 0.1065941\tbest: 0.1065941 (364)\ttotal: 17.5s\tremaining: 1.68s\n",
            "365:\tlearn: 0.0572100\ttest: 0.1065776\tbest: 0.1065776 (365)\ttotal: 17.5s\tremaining: 1.63s\n",
            "366:\tlearn: 0.0571574\ttest: 0.1065925\tbest: 0.1065776 (365)\ttotal: 17.6s\tremaining: 1.58s\n",
            "367:\tlearn: 0.0570273\ttest: 0.1066551\tbest: 0.1065776 (365)\ttotal: 17.6s\tremaining: 1.53s\n",
            "368:\tlearn: 0.0569734\ttest: 0.1066178\tbest: 0.1065776 (365)\ttotal: 17.6s\tremaining: 1.48s\n",
            "369:\tlearn: 0.0568418\ttest: 0.1065837\tbest: 0.1065776 (365)\ttotal: 17.7s\tremaining: 1.43s\n",
            "370:\tlearn: 0.0567662\ttest: 0.1065690\tbest: 0.1065690 (370)\ttotal: 17.7s\tremaining: 1.39s\n",
            "371:\tlearn: 0.0566636\ttest: 0.1065622\tbest: 0.1065622 (371)\ttotal: 17.8s\tremaining: 1.34s\n",
            "372:\tlearn: 0.0565605\ttest: 0.1065256\tbest: 0.1065256 (372)\ttotal: 17.8s\tremaining: 1.29s\n",
            "373:\tlearn: 0.0565114\ttest: 0.1064868\tbest: 0.1064868 (373)\ttotal: 17.8s\tremaining: 1.24s\n",
            "374:\tlearn: 0.0563886\ttest: 0.1064893\tbest: 0.1064868 (373)\ttotal: 17.9s\tremaining: 1.19s\n",
            "375:\tlearn: 0.0562560\ttest: 0.1064591\tbest: 0.1064591 (375)\ttotal: 17.9s\tremaining: 1.14s\n",
            "376:\tlearn: 0.0562319\ttest: 0.1064614\tbest: 0.1064591 (375)\ttotal: 18s\tremaining: 1.1s\n",
            "377:\tlearn: 0.0561855\ttest: 0.1064810\tbest: 0.1064591 (375)\ttotal: 18s\tremaining: 1.05s\n",
            "378:\tlearn: 0.0561268\ttest: 0.1064822\tbest: 0.1064591 (375)\ttotal: 18.1s\tremaining: 1s\n",
            "379:\tlearn: 0.0560526\ttest: 0.1064045\tbest: 0.1064045 (379)\ttotal: 18.1s\tremaining: 952ms\n",
            "380:\tlearn: 0.0559176\ttest: 0.1063899\tbest: 0.1063899 (380)\ttotal: 18.1s\tremaining: 904ms\n",
            "381:\tlearn: 0.0558066\ttest: 0.1063842\tbest: 0.1063842 (381)\ttotal: 18.2s\tremaining: 856ms\n",
            "382:\tlearn: 0.0557037\ttest: 0.1063850\tbest: 0.1063842 (381)\ttotal: 18.2s\tremaining: 808ms\n",
            "383:\tlearn: 0.0556572\ttest: 0.1063723\tbest: 0.1063723 (383)\ttotal: 18.3s\tremaining: 760ms\n",
            "384:\tlearn: 0.0555709\ttest: 0.1063756\tbest: 0.1063723 (383)\ttotal: 18.3s\tremaining: 713ms\n",
            "385:\tlearn: 0.0554689\ttest: 0.1062625\tbest: 0.1062625 (385)\ttotal: 18.3s\tremaining: 665ms\n",
            "386:\tlearn: 0.0553662\ttest: 0.1062446\tbest: 0.1062446 (386)\ttotal: 18.4s\tremaining: 617ms\n",
            "387:\tlearn: 0.0552438\ttest: 0.1061872\tbest: 0.1061872 (387)\ttotal: 18.4s\tremaining: 570ms\n",
            "388:\tlearn: 0.0551545\ttest: 0.1061964\tbest: 0.1061872 (387)\ttotal: 18.5s\tremaining: 523ms\n",
            "389:\tlearn: 0.0549985\ttest: 0.1062239\tbest: 0.1061872 (387)\ttotal: 18.5s\tremaining: 475ms\n",
            "390:\tlearn: 0.0548784\ttest: 0.1062110\tbest: 0.1061872 (387)\ttotal: 18.6s\tremaining: 428ms\n",
            "391:\tlearn: 0.0548352\ttest: 0.1061997\tbest: 0.1061872 (387)\ttotal: 18.6s\tremaining: 380ms\n",
            "392:\tlearn: 0.0547990\ttest: 0.1061914\tbest: 0.1061872 (387)\ttotal: 18.7s\tremaining: 333ms\n",
            "393:\tlearn: 0.0547599\ttest: 0.1061964\tbest: 0.1061872 (387)\ttotal: 18.7s\tremaining: 285ms\n",
            "394:\tlearn: 0.0546087\ttest: 0.1061773\tbest: 0.1061773 (394)\ttotal: 18.8s\tremaining: 238ms\n",
            "395:\tlearn: 0.0545395\ttest: 0.1061864\tbest: 0.1061773 (394)\ttotal: 18.8s\tremaining: 190ms\n",
            "396:\tlearn: 0.0543606\ttest: 0.1061775\tbest: 0.1061773 (394)\ttotal: 18.9s\tremaining: 143ms\n",
            "397:\tlearn: 0.0542966\ttest: 0.1061818\tbest: 0.1061773 (394)\ttotal: 18.9s\tremaining: 95ms\n",
            "398:\tlearn: 0.0541577\ttest: 0.1062161\tbest: 0.1061773 (394)\ttotal: 19s\tremaining: 47.5ms\n",
            "399:\tlearn: 0.0540885\ttest: 0.1062174\tbest: 0.1061773 (394)\ttotal: 19s\tremaining: 0us\n",
            "\n",
            "bestTest = 0.1061773276\n",
            "bestIteration = 394\n",
            "\n",
            "Shrink model to first 395 iterations.\n",
            "\n",
            " Model Trained\n",
            "Training Accuracy: 0.9834473340318574\n",
            "Test Accuracy: 0.9525323161686798\n",
            "[1 1 1 ... 1 1 0]\n"
          ]
        }
      ],
      "source": [
        "from catboost import CatBoostClassifier\n",
        "from sklearn.metrics import accuracy_score\n",
        "\n",
        "### To protect the IP, we skip the code here\n",
        "\n",
        "model3 = CatBoostClassifier(iterations=400, depth=10,learning_rate = 0.06)\n",
        "\n",
        "# fit the model with the training data\n",
        "model3.fit(X_train , y_train,eval_set=(X_test,y_test))\n",
        "print('\\n Model Trained')\n",
        "\n",
        "test_preds = model3.predict(X_test, prediction_type=\"Class\")\n",
        "train_preds = model3.predict(X_train, prediction_type=\"Class\")\n",
        "\n",
        "print(\"Training Accuracy:\",accuracy_score(y_train, train_preds))\n",
        "print(\"Test Accuracy:\",accuracy_score(y_test, test_preds))\n",
        "\n",
        "final_test = pd.get_dummies(merged_test_df, drop_first = True)\n",
        "final_test = final_test.drop(['ID'], axis = 1)\n",
        "\n",
        "final_pred = model3.predict(final_test)\n",
        "print(final_pred)"
      ]
    },
    {
      "cell_type": "markdown",
      "id": "A1Y7CqiRx9ZP",
      "metadata": {
        "id": "A1Y7CqiRx9ZP"
      },
      "source": [
        "#### **Output final result**"
      ]
    },
    {
      "cell_type": "code",
      "execution_count": null,
      "id": "j8JFM3Dv2ZAa",
      "metadata": {
        "id": "j8JFM3Dv2ZAa"
      },
      "outputs": [],
      "source": [
        "import csv\n",
        "### To protect the IP, we skip the code here\n",
        "with open('Submission_CB.csv', 'w') as f:\n",
        "    writer = csv.writer(f)\n",
        "    writer.writerow(header)\n",
        "    writer.writerows(zip(merged_test_df.ID,final_pred))"
      ]
    },
    {
      "cell_type": "markdown",
      "id": "bH4PfzVpxAos",
      "metadata": {
        "id": "bH4PfzVpxAos"
      },
      "source": [
        "## **D. Gradient Boosting Model**"
      ]
    },
    {
      "cell_type": "code",
      "execution_count": null,
      "id": "-32wkCRLBeoc",
      "metadata": {
        "colab": {
          "base_uri": "https://localhost:8080/"
        },
        "id": "-32wkCRLBeoc",
        "outputId": "b2d0e362-53c3-47d7-b950-982cc7db3c64"
      },
      "outputs": [
        {
          "name": "stdout",
          "output_type": "stream",
          "text": [
            "Training Accuracy: 0.9924889040628201\n",
            "Test Accuracy: 0.953168044077135\n",
            "[1 0 1 ... 0 1 0]\n"
          ]
        }
      ],
      "source": [
        "from sklearn.ensemble import GradientBoostingClassifier\n",
        "\n",
        "gbc = GradientBoostingClassifier(learning_rate=0.1,max_depth =7, n_estimators=500)\n",
        "gbc.fit(X_train, y_train)\n",
        "\n",
        "test_preds = gbc.predict(X_test)\n",
        "train_preds = gbc.predict(X_train)\n",
        "\n",
        "print(\"Training Accuracy:\",accuracy_score(y_train, train_preds))\n",
        "print(\"Test Accuracy:\",accuracy_score(y_test, test_preds))\n",
        "\n",
        "final_test = pd.get_dummies(merged_test_df, drop_first = True)\n",
        "final_test = final_test.drop(['ID'], axis = 1)\n",
        "\n",
        "final_pred = clf.predict(final_test)\n",
        "print(final_pred)"
      ]
    },
    {
      "cell_type": "markdown",
      "id": "l44yP9SPx-nQ",
      "metadata": {
        "id": "l44yP9SPx-nQ"
      },
      "source": [
        "#### **Output final result**"
      ]
    },
    {
      "cell_type": "code",
      "execution_count": null,
      "id": "Kf9TXt2Ux3s4",
      "metadata": {
        "id": "Kf9TXt2Ux3s4"
      },
      "outputs": [],
      "source": [
        "import csv\n",
        "### To protect the IP, we skip the code here\n",
        "with open('Submission_GB.csv', 'w') as f:\n",
        "    writer = csv.writer(f)\n",
        "    writer.writerow(header)\n",
        "    writer.writerows(zip(merged_test_df.ID,final_pred))"
      ]
    },
    {
      "cell_type": "markdown",
      "id": "jbYhnZtyxRmf",
      "metadata": {
        "id": "jbYhnZtyxRmf"
      },
      "source": [
        "## **E. Decision Tree Model**"
      ]
    },
    {
      "cell_type": "code",
      "execution_count": null,
      "id": "itg9J1Z-qEoF",
      "metadata": {
        "colab": {
          "base_uri": "https://localhost:8080/"
        },
        "id": "itg9J1Z-qEoF",
        "outputId": "e2dde714-c08e-463e-e223-7d20cc0f01d4"
      },
      "outputs": [
        {
          "name": "stdout",
          "output_type": "stream",
          "text": [
            "Training Accuracy: 0.9443731531298195\n",
            "Test Accuracy: 0.9339902521720703\n",
            "[1 1 1 ... 0 1 0]\n"
          ]
        }
      ],
      "source": [
        "# DT at 7:45 PM\n",
        "from sklearn.tree import DecisionTreeClassifier\n",
        "\n",
        "dtr = DecisionTreeClassifier(random_state =9, max_depth=15, min_samples_split= 75, min_samples_leaf = 15)\n",
        "dtr.fit(X_train, y_train)\n",
        "\n",
        "train_preds = dtr.predict(X_train)\n",
        "test_preds = dtr.predict(X_test)\n",
        "\n",
        "\n",
        "print(\"Training Accuracy:\",accuracy_score(y_train, train_preds))\n",
        "print(\"Test Accuracy:\",accuracy_score(y_test, test_preds))\n",
        "\n",
        "final_test = pd.get_dummies(merged_test_df, drop_first = True)\n",
        "final_test = final_test.drop(['ID'], axis = 1)\n",
        "\n",
        "final_pred = dtr.predict(final_test)\n",
        "print(final_pred)"
      ]
    },
    {
      "cell_type": "markdown",
      "id": "6NyIjhf5yAkw",
      "metadata": {
        "id": "6NyIjhf5yAkw"
      },
      "source": [
        "#### **Output final result**"
      ]
    },
    {
      "cell_type": "code",
      "execution_count": null,
      "id": "DVyklFRmyBNX",
      "metadata": {
        "id": "DVyklFRmyBNX"
      },
      "outputs": [],
      "source": [
        "import csv\n",
        "### To protect the IP, we skip the code here\n",
        "with open('Submission_DT.csv', 'w') as f:\n",
        "    writer = csv.writer(f)\n",
        "    writer.writerow(header)\n",
        "    writer.writerows(zip(merged_test_df.ID,final_pred))"
      ]
    },
    {
      "cell_type": "markdown",
      "id": "3x8NXeLev0u2",
      "metadata": {
        "id": "3x8NXeLev0u2"
      },
      "source": [
        "# **10. Ensemble Model** "
      ]
    },
    {
      "cell_type": "markdown",
      "id": "IDBkmXR9DdVI",
      "metadata": {
        "id": "IDBkmXR9DdVI"
      },
      "source": [
        "## **A. Catboost + Gradient**"
      ]
    },
    {
      "cell_type": "code",
      "execution_count": null,
      "id": "OhBdYUyYDcpM",
      "metadata": {
        "colab": {
          "base_uri": "https://localhost:8080/"
        },
        "id": "OhBdYUyYDcpM",
        "outputId": "e81201ee-c9f3-4d39-df52-509c230e3646"
      },
      "outputs": [
        {
          "name": "stdout",
          "output_type": "stream",
          "text": [
            "0:\tlearn: 0.5916691\ttotal: 31.3ms\tremaining: 12.5s\n",
            "1:\tlearn: 0.5117630\ttotal: 59.7ms\tremaining: 11.9s\n",
            "2:\tlearn: 0.4558834\ttotal: 89.8ms\tremaining: 11.9s\n",
            "3:\tlearn: 0.4065911\ttotal: 119ms\tremaining: 11.8s\n",
            "4:\tlearn: 0.3769027\ttotal: 148ms\tremaining: 11.7s\n",
            "5:\tlearn: 0.3436910\ttotal: 178ms\tremaining: 11.7s\n",
            "6:\tlearn: 0.3239581\ttotal: 208ms\tremaining: 11.7s\n",
            "7:\tlearn: 0.3018254\ttotal: 239ms\tremaining: 11.7s\n",
            "8:\tlearn: 0.2863738\ttotal: 270ms\tremaining: 11.7s\n",
            "9:\tlearn: 0.2701623\ttotal: 299ms\tremaining: 11.7s\n",
            "10:\tlearn: 0.2592548\ttotal: 328ms\tremaining: 11.6s\n",
            "11:\tlearn: 0.2472772\ttotal: 360ms\tremaining: 11.6s\n",
            "12:\tlearn: 0.2367158\ttotal: 389ms\tremaining: 11.6s\n",
            "13:\tlearn: 0.2291451\ttotal: 418ms\tremaining: 11.5s\n",
            "14:\tlearn: 0.2187912\ttotal: 453ms\tremaining: 11.6s\n",
            "15:\tlearn: 0.2117628\ttotal: 485ms\tremaining: 11.6s\n",
            "16:\tlearn: 0.2063463\ttotal: 517ms\tremaining: 11.6s\n",
            "17:\tlearn: 0.1998586\ttotal: 548ms\tremaining: 11.6s\n",
            "18:\tlearn: 0.1959780\ttotal: 579ms\tremaining: 11.6s\n",
            "19:\tlearn: 0.1905069\ttotal: 610ms\tremaining: 11.6s\n",
            "20:\tlearn: 0.1862951\ttotal: 639ms\tremaining: 11.5s\n",
            "21:\tlearn: 0.1818458\ttotal: 670ms\tremaining: 11.5s\n",
            "22:\tlearn: 0.1788470\ttotal: 698ms\tremaining: 11.4s\n",
            "23:\tlearn: 0.1750968\ttotal: 728ms\tremaining: 11.4s\n",
            "24:\tlearn: 0.1721543\ttotal: 759ms\tremaining: 11.4s\n",
            "25:\tlearn: 0.1693669\ttotal: 788ms\tremaining: 11.3s\n",
            "26:\tlearn: 0.1657661\ttotal: 819ms\tremaining: 11.3s\n",
            "27:\tlearn: 0.1630630\ttotal: 849ms\tremaining: 11.3s\n",
            "28:\tlearn: 0.1609902\ttotal: 879ms\tremaining: 11.2s\n",
            "29:\tlearn: 0.1590354\ttotal: 907ms\tremaining: 11.2s\n",
            "30:\tlearn: 0.1570570\ttotal: 937ms\tremaining: 11.1s\n",
            "31:\tlearn: 0.1556239\ttotal: 965ms\tremaining: 11.1s\n",
            "32:\tlearn: 0.1534925\ttotal: 997ms\tremaining: 11.1s\n",
            "33:\tlearn: 0.1520314\ttotal: 1.02s\tremaining: 11s\n",
            "34:\tlearn: 0.1498911\ttotal: 1.05s\tremaining: 11s\n",
            "35:\tlearn: 0.1483170\ttotal: 1.09s\tremaining: 11s\n",
            "36:\tlearn: 0.1471677\ttotal: 1.12s\tremaining: 10.9s\n",
            "37:\tlearn: 0.1459217\ttotal: 1.15s\tremaining: 10.9s\n",
            "38:\tlearn: 0.1445970\ttotal: 1.18s\tremaining: 10.9s\n",
            "39:\tlearn: 0.1429431\ttotal: 1.21s\tremaining: 10.9s\n",
            "40:\tlearn: 0.1418882\ttotal: 1.24s\tremaining: 10.9s\n",
            "41:\tlearn: 0.1407791\ttotal: 1.27s\tremaining: 10.9s\n",
            "42:\tlearn: 0.1395785\ttotal: 1.3s\tremaining: 10.8s\n",
            "43:\tlearn: 0.1380091\ttotal: 1.33s\tremaining: 10.8s\n",
            "44:\tlearn: 0.1372139\ttotal: 1.36s\tremaining: 10.8s\n",
            "45:\tlearn: 0.1360391\ttotal: 1.4s\tremaining: 10.7s\n",
            "46:\tlearn: 0.1348339\ttotal: 1.43s\tremaining: 10.7s\n",
            "47:\tlearn: 0.1339685\ttotal: 1.46s\tremaining: 10.7s\n",
            "48:\tlearn: 0.1332254\ttotal: 1.49s\tremaining: 10.6s\n",
            "49:\tlearn: 0.1321025\ttotal: 1.52s\tremaining: 10.6s\n",
            "50:\tlearn: 0.1310006\ttotal: 1.55s\tremaining: 10.6s\n",
            "51:\tlearn: 0.1297608\ttotal: 1.58s\tremaining: 10.6s\n",
            "52:\tlearn: 0.1286052\ttotal: 1.6s\tremaining: 10.5s\n",
            "53:\tlearn: 0.1275430\ttotal: 1.63s\tremaining: 10.5s\n",
            "54:\tlearn: 0.1267291\ttotal: 1.66s\tremaining: 10.4s\n",
            "55:\tlearn: 0.1257182\ttotal: 1.69s\tremaining: 10.4s\n",
            "56:\tlearn: 0.1245613\ttotal: 1.73s\tremaining: 10.4s\n",
            "57:\tlearn: 0.1237102\ttotal: 1.75s\tremaining: 10.3s\n",
            "58:\tlearn: 0.1231195\ttotal: 1.78s\tremaining: 10.3s\n",
            "59:\tlearn: 0.1223799\ttotal: 1.81s\tremaining: 10.3s\n",
            "60:\tlearn: 0.1216615\ttotal: 1.84s\tremaining: 10.2s\n",
            "61:\tlearn: 0.1209576\ttotal: 1.87s\tremaining: 10.2s\n",
            "62:\tlearn: 0.1199169\ttotal: 1.9s\tremaining: 10.2s\n",
            "63:\tlearn: 0.1194084\ttotal: 1.93s\tremaining: 10.1s\n",
            "64:\tlearn: 0.1186775\ttotal: 1.96s\tremaining: 10.1s\n",
            "65:\tlearn: 0.1183465\ttotal: 1.99s\tremaining: 10.1s\n",
            "66:\tlearn: 0.1178268\ttotal: 2.02s\tremaining: 10s\n",
            "67:\tlearn: 0.1170524\ttotal: 2.05s\tremaining: 9.99s\n",
            "68:\tlearn: 0.1163922\ttotal: 2.08s\tremaining: 9.96s\n",
            "69:\tlearn: 0.1154928\ttotal: 2.1s\tremaining: 9.92s\n",
            "70:\tlearn: 0.1146251\ttotal: 2.14s\tremaining: 9.9s\n",
            "71:\tlearn: 0.1140785\ttotal: 2.17s\tremaining: 9.87s\n",
            "72:\tlearn: 0.1134974\ttotal: 2.2s\tremaining: 9.84s\n",
            "73:\tlearn: 0.1127932\ttotal: 2.23s\tremaining: 9.82s\n",
            "74:\tlearn: 0.1121704\ttotal: 2.26s\tremaining: 9.78s\n",
            "75:\tlearn: 0.1114372\ttotal: 2.29s\tremaining: 9.75s\n",
            "76:\tlearn: 0.1109076\ttotal: 2.32s\tremaining: 9.72s\n",
            "77:\tlearn: 0.1104693\ttotal: 2.35s\tremaining: 9.69s\n",
            "78:\tlearn: 0.1100699\ttotal: 2.37s\tremaining: 9.65s\n",
            "79:\tlearn: 0.1097499\ttotal: 2.4s\tremaining: 9.61s\n",
            "80:\tlearn: 0.1091432\ttotal: 2.43s\tremaining: 9.58s\n",
            "81:\tlearn: 0.1087503\ttotal: 2.46s\tremaining: 9.55s\n",
            "82:\tlearn: 0.1081753\ttotal: 2.5s\tremaining: 9.53s\n",
            "83:\tlearn: 0.1078560\ttotal: 2.52s\tremaining: 9.49s\n",
            "84:\tlearn: 0.1073524\ttotal: 2.55s\tremaining: 9.47s\n",
            "85:\tlearn: 0.1066394\ttotal: 2.59s\tremaining: 9.44s\n",
            "86:\tlearn: 0.1064002\ttotal: 2.62s\tremaining: 9.41s\n",
            "87:\tlearn: 0.1060970\ttotal: 2.64s\tremaining: 9.37s\n",
            "88:\tlearn: 0.1055478\ttotal: 2.67s\tremaining: 9.34s\n",
            "89:\tlearn: 0.1050733\ttotal: 2.7s\tremaining: 9.31s\n",
            "90:\tlearn: 0.1047527\ttotal: 2.73s\tremaining: 9.29s\n",
            "91:\tlearn: 0.1042088\ttotal: 2.77s\tremaining: 9.27s\n",
            "92:\tlearn: 0.1037455\ttotal: 2.8s\tremaining: 9.24s\n",
            "93:\tlearn: 0.1034788\ttotal: 2.83s\tremaining: 9.21s\n",
            "94:\tlearn: 0.1030609\ttotal: 2.86s\tremaining: 9.18s\n",
            "95:\tlearn: 0.1028028\ttotal: 2.89s\tremaining: 9.15s\n",
            "96:\tlearn: 0.1024635\ttotal: 2.92s\tremaining: 9.12s\n",
            "97:\tlearn: 0.1020657\ttotal: 2.95s\tremaining: 9.08s\n",
            "98:\tlearn: 0.1017829\ttotal: 2.98s\tremaining: 9.05s\n",
            "99:\tlearn: 0.1013570\ttotal: 3.01s\tremaining: 9.02s\n",
            "100:\tlearn: 0.1009271\ttotal: 3.04s\tremaining: 8.99s\n",
            "101:\tlearn: 0.1005268\ttotal: 3.07s\tremaining: 8.96s\n",
            "102:\tlearn: 0.1002733\ttotal: 3.1s\tremaining: 8.93s\n",
            "103:\tlearn: 0.0998781\ttotal: 3.12s\tremaining: 8.89s\n",
            "104:\tlearn: 0.0995255\ttotal: 3.15s\tremaining: 8.86s\n",
            "105:\tlearn: 0.0993636\ttotal: 3.18s\tremaining: 8.83s\n",
            "106:\tlearn: 0.0990425\ttotal: 3.21s\tremaining: 8.8s\n",
            "107:\tlearn: 0.0989203\ttotal: 3.24s\tremaining: 8.76s\n",
            "108:\tlearn: 0.0985124\ttotal: 3.27s\tremaining: 8.73s\n",
            "109:\tlearn: 0.0982440\ttotal: 3.3s\tremaining: 8.7s\n",
            "110:\tlearn: 0.0978769\ttotal: 3.33s\tremaining: 8.67s\n",
            "111:\tlearn: 0.0975856\ttotal: 3.36s\tremaining: 8.63s\n",
            "112:\tlearn: 0.0971419\ttotal: 3.39s\tremaining: 8.61s\n",
            "113:\tlearn: 0.0969987\ttotal: 3.42s\tremaining: 8.57s\n",
            "114:\tlearn: 0.0968118\ttotal: 3.45s\tremaining: 8.54s\n",
            "115:\tlearn: 0.0965961\ttotal: 3.48s\tremaining: 8.52s\n",
            "116:\tlearn: 0.0962702\ttotal: 3.52s\tremaining: 8.5s\n",
            "117:\tlearn: 0.0958638\ttotal: 3.54s\tremaining: 8.47s\n",
            "118:\tlearn: 0.0956641\ttotal: 3.58s\tremaining: 8.44s\n",
            "119:\tlearn: 0.0952545\ttotal: 3.61s\tremaining: 8.41s\n",
            "120:\tlearn: 0.0950538\ttotal: 3.63s\tremaining: 8.38s\n",
            "121:\tlearn: 0.0947050\ttotal: 3.67s\tremaining: 8.35s\n",
            "122:\tlearn: 0.0944232\ttotal: 3.69s\tremaining: 8.32s\n",
            "123:\tlearn: 0.0941438\ttotal: 3.72s\tremaining: 8.29s\n",
            "124:\tlearn: 0.0938040\ttotal: 3.75s\tremaining: 8.26s\n",
            "125:\tlearn: 0.0936004\ttotal: 3.78s\tremaining: 8.22s\n",
            "126:\tlearn: 0.0933924\ttotal: 3.81s\tremaining: 8.19s\n",
            "127:\tlearn: 0.0931331\ttotal: 3.84s\tremaining: 8.17s\n",
            "128:\tlearn: 0.0927688\ttotal: 3.87s\tremaining: 8.14s\n",
            "129:\tlearn: 0.0925060\ttotal: 3.9s\tremaining: 8.11s\n",
            "130:\tlearn: 0.0923174\ttotal: 3.93s\tremaining: 8.07s\n",
            "131:\tlearn: 0.0919261\ttotal: 3.96s\tremaining: 8.04s\n",
            "132:\tlearn: 0.0914588\ttotal: 3.99s\tremaining: 8.01s\n",
            "133:\tlearn: 0.0913111\ttotal: 4.02s\tremaining: 7.97s\n",
            "134:\tlearn: 0.0910687\ttotal: 4.05s\tremaining: 7.95s\n",
            "135:\tlearn: 0.0908253\ttotal: 4.08s\tremaining: 7.92s\n",
            "136:\tlearn: 0.0904035\ttotal: 4.11s\tremaining: 7.89s\n",
            "137:\tlearn: 0.0902459\ttotal: 4.14s\tremaining: 7.86s\n",
            "138:\tlearn: 0.0899170\ttotal: 4.17s\tremaining: 7.83s\n",
            "139:\tlearn: 0.0896628\ttotal: 4.2s\tremaining: 7.8s\n",
            "140:\tlearn: 0.0894340\ttotal: 4.23s\tremaining: 7.77s\n",
            "141:\tlearn: 0.0891064\ttotal: 4.26s\tremaining: 7.74s\n",
            "142:\tlearn: 0.0888585\ttotal: 4.29s\tremaining: 7.72s\n",
            "143:\tlearn: 0.0886911\ttotal: 4.32s\tremaining: 7.69s\n",
            "144:\tlearn: 0.0884540\ttotal: 4.35s\tremaining: 7.65s\n",
            "145:\tlearn: 0.0880296\ttotal: 4.38s\tremaining: 7.63s\n",
            "146:\tlearn: 0.0877544\ttotal: 4.41s\tremaining: 7.6s\n",
            "147:\tlearn: 0.0875047\ttotal: 4.45s\tremaining: 7.57s\n",
            "148:\tlearn: 0.0873682\ttotal: 4.47s\tremaining: 7.54s\n",
            "149:\tlearn: 0.0872366\ttotal: 4.51s\tremaining: 7.52s\n",
            "150:\tlearn: 0.0868443\ttotal: 4.54s\tremaining: 7.49s\n",
            "151:\tlearn: 0.0866759\ttotal: 4.58s\tremaining: 7.46s\n",
            "152:\tlearn: 0.0863101\ttotal: 4.61s\tremaining: 7.44s\n",
            "153:\tlearn: 0.0860385\ttotal: 4.64s\tremaining: 7.41s\n",
            "154:\tlearn: 0.0858418\ttotal: 4.67s\tremaining: 7.39s\n",
            "155:\tlearn: 0.0855573\ttotal: 4.7s\tremaining: 7.36s\n",
            "156:\tlearn: 0.0852984\ttotal: 4.74s\tremaining: 7.33s\n",
            "157:\tlearn: 0.0850059\ttotal: 4.77s\tremaining: 7.31s\n",
            "158:\tlearn: 0.0848778\ttotal: 4.8s\tremaining: 7.28s\n",
            "159:\tlearn: 0.0846293\ttotal: 4.83s\tremaining: 7.25s\n",
            "160:\tlearn: 0.0843933\ttotal: 4.86s\tremaining: 7.22s\n",
            "161:\tlearn: 0.0842377\ttotal: 4.89s\tremaining: 7.19s\n",
            "162:\tlearn: 0.0839543\ttotal: 4.92s\tremaining: 7.15s\n",
            "163:\tlearn: 0.0836389\ttotal: 4.95s\tremaining: 7.13s\n",
            "164:\tlearn: 0.0834661\ttotal: 4.98s\tremaining: 7.09s\n",
            "165:\tlearn: 0.0833059\ttotal: 5.01s\tremaining: 7.06s\n",
            "166:\tlearn: 0.0830469\ttotal: 5.04s\tremaining: 7.03s\n",
            "167:\tlearn: 0.0828612\ttotal: 5.07s\tremaining: 7s\n",
            "168:\tlearn: 0.0827428\ttotal: 5.09s\tremaining: 6.96s\n",
            "169:\tlearn: 0.0825606\ttotal: 5.13s\tremaining: 6.94s\n",
            "170:\tlearn: 0.0823484\ttotal: 5.16s\tremaining: 6.91s\n",
            "171:\tlearn: 0.0820776\ttotal: 5.19s\tremaining: 6.88s\n",
            "172:\tlearn: 0.0818941\ttotal: 5.21s\tremaining: 6.84s\n",
            "173:\tlearn: 0.0816639\ttotal: 5.24s\tremaining: 6.81s\n",
            "174:\tlearn: 0.0814812\ttotal: 5.28s\tremaining: 6.78s\n",
            "175:\tlearn: 0.0812913\ttotal: 5.3s\tremaining: 6.75s\n",
            "176:\tlearn: 0.0811561\ttotal: 5.33s\tremaining: 6.72s\n",
            "177:\tlearn: 0.0810376\ttotal: 5.36s\tremaining: 6.69s\n",
            "178:\tlearn: 0.0808936\ttotal: 5.39s\tremaining: 6.66s\n",
            "179:\tlearn: 0.0808049\ttotal: 5.42s\tremaining: 6.63s\n",
            "180:\tlearn: 0.0806960\ttotal: 5.45s\tremaining: 6.59s\n",
            "181:\tlearn: 0.0805898\ttotal: 5.48s\tremaining: 6.56s\n",
            "182:\tlearn: 0.0803973\ttotal: 5.51s\tremaining: 6.53s\n",
            "183:\tlearn: 0.0801300\ttotal: 5.54s\tremaining: 6.5s\n",
            "184:\tlearn: 0.0800208\ttotal: 5.57s\tremaining: 6.47s\n",
            "185:\tlearn: 0.0798718\ttotal: 5.6s\tremaining: 6.44s\n",
            "186:\tlearn: 0.0797212\ttotal: 5.63s\tremaining: 6.41s\n",
            "187:\tlearn: 0.0795183\ttotal: 5.66s\tremaining: 6.38s\n",
            "188:\tlearn: 0.0793861\ttotal: 5.68s\tremaining: 6.35s\n",
            "189:\tlearn: 0.0791739\ttotal: 5.71s\tremaining: 6.32s\n",
            "190:\tlearn: 0.0789862\ttotal: 5.74s\tremaining: 6.28s\n",
            "191:\tlearn: 0.0787461\ttotal: 5.77s\tremaining: 6.25s\n",
            "192:\tlearn: 0.0785554\ttotal: 5.8s\tremaining: 6.22s\n",
            "193:\tlearn: 0.0781987\ttotal: 5.83s\tremaining: 6.19s\n",
            "194:\tlearn: 0.0780568\ttotal: 5.86s\tremaining: 6.16s\n",
            "195:\tlearn: 0.0779729\ttotal: 5.89s\tremaining: 6.13s\n",
            "196:\tlearn: 0.0777304\ttotal: 5.92s\tremaining: 6.1s\n",
            "197:\tlearn: 0.0776066\ttotal: 5.95s\tremaining: 6.07s\n",
            "198:\tlearn: 0.0774893\ttotal: 5.98s\tremaining: 6.04s\n",
            "199:\tlearn: 0.0773037\ttotal: 6.01s\tremaining: 6.01s\n",
            "200:\tlearn: 0.0771016\ttotal: 6.04s\tremaining: 5.98s\n",
            "201:\tlearn: 0.0769191\ttotal: 6.07s\tremaining: 5.95s\n",
            "202:\tlearn: 0.0767631\ttotal: 6.1s\tremaining: 5.92s\n",
            "203:\tlearn: 0.0766233\ttotal: 6.13s\tremaining: 5.88s\n",
            "204:\tlearn: 0.0764399\ttotal: 6.15s\tremaining: 5.85s\n",
            "205:\tlearn: 0.0762538\ttotal: 6.19s\tremaining: 5.83s\n",
            "206:\tlearn: 0.0761486\ttotal: 6.22s\tremaining: 5.8s\n",
            "207:\tlearn: 0.0760064\ttotal: 6.25s\tremaining: 5.76s\n",
            "208:\tlearn: 0.0759355\ttotal: 6.28s\tremaining: 5.74s\n",
            "209:\tlearn: 0.0757592\ttotal: 6.31s\tremaining: 5.71s\n",
            "210:\tlearn: 0.0755594\ttotal: 6.34s\tremaining: 5.68s\n",
            "211:\tlearn: 0.0754750\ttotal: 6.37s\tremaining: 5.65s\n",
            "212:\tlearn: 0.0753324\ttotal: 6.4s\tremaining: 5.62s\n",
            "213:\tlearn: 0.0750918\ttotal: 6.43s\tremaining: 5.59s\n",
            "214:\tlearn: 0.0749322\ttotal: 6.46s\tremaining: 5.55s\n",
            "215:\tlearn: 0.0748418\ttotal: 6.48s\tremaining: 5.52s\n",
            "216:\tlearn: 0.0746503\ttotal: 6.51s\tremaining: 5.49s\n",
            "217:\tlearn: 0.0744512\ttotal: 6.55s\tremaining: 5.47s\n",
            "218:\tlearn: 0.0743665\ttotal: 6.58s\tremaining: 5.43s\n",
            "219:\tlearn: 0.0742856\ttotal: 6.61s\tremaining: 5.4s\n",
            "220:\tlearn: 0.0740871\ttotal: 6.64s\tremaining: 5.38s\n",
            "221:\tlearn: 0.0739663\ttotal: 6.67s\tremaining: 5.35s\n",
            "222:\tlearn: 0.0738268\ttotal: 6.7s\tremaining: 5.32s\n",
            "223:\tlearn: 0.0737178\ttotal: 6.73s\tremaining: 5.29s\n",
            "224:\tlearn: 0.0736551\ttotal: 6.76s\tremaining: 5.26s\n",
            "225:\tlearn: 0.0735634\ttotal: 6.79s\tremaining: 5.23s\n",
            "226:\tlearn: 0.0734859\ttotal: 6.82s\tremaining: 5.2s\n",
            "227:\tlearn: 0.0734226\ttotal: 6.85s\tremaining: 5.17s\n",
            "228:\tlearn: 0.0732532\ttotal: 6.88s\tremaining: 5.13s\n",
            "229:\tlearn: 0.0731879\ttotal: 6.91s\tremaining: 5.1s\n",
            "230:\tlearn: 0.0728953\ttotal: 6.94s\tremaining: 5.07s\n",
            "231:\tlearn: 0.0727616\ttotal: 6.96s\tremaining: 5.04s\n",
            "232:\tlearn: 0.0726798\ttotal: 7s\tremaining: 5.01s\n",
            "233:\tlearn: 0.0725971\ttotal: 7.03s\tremaining: 4.98s\n",
            "234:\tlearn: 0.0724732\ttotal: 7.05s\tremaining: 4.95s\n",
            "235:\tlearn: 0.0723103\ttotal: 7.09s\tremaining: 4.92s\n",
            "236:\tlearn: 0.0722169\ttotal: 7.11s\tremaining: 4.89s\n",
            "237:\tlearn: 0.0721194\ttotal: 7.14s\tremaining: 4.86s\n",
            "238:\tlearn: 0.0720478\ttotal: 7.17s\tremaining: 4.83s\n",
            "239:\tlearn: 0.0718381\ttotal: 7.2s\tremaining: 4.8s\n",
            "240:\tlearn: 0.0717762\ttotal: 7.23s\tremaining: 4.77s\n",
            "241:\tlearn: 0.0715600\ttotal: 7.26s\tremaining: 4.74s\n",
            "242:\tlearn: 0.0714914\ttotal: 7.29s\tremaining: 4.71s\n",
            "243:\tlearn: 0.0713919\ttotal: 7.32s\tremaining: 4.68s\n",
            "244:\tlearn: 0.0712937\ttotal: 7.35s\tremaining: 4.65s\n",
            "245:\tlearn: 0.0711630\ttotal: 7.38s\tremaining: 4.62s\n",
            "246:\tlearn: 0.0711017\ttotal: 7.41s\tremaining: 4.59s\n",
            "247:\tlearn: 0.0710444\ttotal: 7.44s\tremaining: 4.56s\n",
            "248:\tlearn: 0.0709110\ttotal: 7.47s\tremaining: 4.53s\n",
            "249:\tlearn: 0.0708290\ttotal: 7.5s\tremaining: 4.5s\n",
            "250:\tlearn: 0.0707486\ttotal: 7.53s\tremaining: 4.47s\n",
            "251:\tlearn: 0.0706045\ttotal: 7.56s\tremaining: 4.44s\n",
            "252:\tlearn: 0.0705260\ttotal: 7.59s\tremaining: 4.41s\n",
            "253:\tlearn: 0.0704436\ttotal: 7.62s\tremaining: 4.38s\n",
            "254:\tlearn: 0.0703334\ttotal: 7.65s\tremaining: 4.35s\n",
            "255:\tlearn: 0.0702539\ttotal: 7.68s\tremaining: 4.32s\n",
            "256:\tlearn: 0.0701782\ttotal: 7.71s\tremaining: 4.29s\n",
            "257:\tlearn: 0.0701145\ttotal: 7.74s\tremaining: 4.26s\n",
            "258:\tlearn: 0.0699494\ttotal: 7.77s\tremaining: 4.23s\n",
            "259:\tlearn: 0.0698375\ttotal: 7.8s\tremaining: 4.2s\n",
            "260:\tlearn: 0.0695738\ttotal: 7.83s\tremaining: 4.17s\n",
            "261:\tlearn: 0.0694018\ttotal: 7.86s\tremaining: 4.14s\n",
            "262:\tlearn: 0.0692420\ttotal: 7.89s\tremaining: 4.11s\n",
            "263:\tlearn: 0.0690460\ttotal: 7.92s\tremaining: 4.08s\n",
            "264:\tlearn: 0.0689865\ttotal: 7.95s\tremaining: 4.05s\n",
            "265:\tlearn: 0.0688802\ttotal: 7.98s\tremaining: 4.02s\n",
            "266:\tlearn: 0.0687193\ttotal: 8.01s\tremaining: 3.99s\n",
            "267:\tlearn: 0.0686151\ttotal: 8.04s\tremaining: 3.96s\n",
            "268:\tlearn: 0.0685555\ttotal: 8.07s\tremaining: 3.93s\n",
            "269:\tlearn: 0.0684318\ttotal: 8.1s\tremaining: 3.9s\n",
            "270:\tlearn: 0.0682434\ttotal: 8.13s\tremaining: 3.87s\n",
            "271:\tlearn: 0.0681065\ttotal: 8.16s\tremaining: 3.84s\n",
            "272:\tlearn: 0.0680182\ttotal: 8.19s\tremaining: 3.81s\n",
            "273:\tlearn: 0.0679610\ttotal: 8.22s\tremaining: 3.78s\n",
            "274:\tlearn: 0.0678724\ttotal: 8.25s\tremaining: 3.75s\n",
            "275:\tlearn: 0.0678332\ttotal: 8.28s\tremaining: 3.72s\n",
            "276:\tlearn: 0.0677239\ttotal: 8.3s\tremaining: 3.69s\n",
            "277:\tlearn: 0.0676632\ttotal: 8.33s\tremaining: 3.66s\n",
            "278:\tlearn: 0.0675170\ttotal: 8.36s\tremaining: 3.63s\n",
            "279:\tlearn: 0.0674786\ttotal: 8.39s\tremaining: 3.6s\n",
            "280:\tlearn: 0.0673218\ttotal: 8.42s\tremaining: 3.57s\n",
            "281:\tlearn: 0.0671372\ttotal: 8.45s\tremaining: 3.54s\n",
            "282:\tlearn: 0.0669978\ttotal: 8.48s\tremaining: 3.51s\n",
            "283:\tlearn: 0.0668676\ttotal: 8.52s\tremaining: 3.48s\n",
            "284:\tlearn: 0.0667200\ttotal: 8.55s\tremaining: 3.45s\n",
            "285:\tlearn: 0.0664376\ttotal: 8.58s\tremaining: 3.42s\n",
            "286:\tlearn: 0.0663272\ttotal: 8.61s\tremaining: 3.39s\n",
            "287:\tlearn: 0.0662946\ttotal: 8.64s\tremaining: 3.36s\n",
            "288:\tlearn: 0.0662515\ttotal: 8.67s\tremaining: 3.33s\n",
            "289:\tlearn: 0.0660458\ttotal: 8.71s\tremaining: 3.3s\n",
            "290:\tlearn: 0.0660006\ttotal: 8.74s\tremaining: 3.27s\n",
            "291:\tlearn: 0.0659746\ttotal: 8.76s\tremaining: 3.24s\n",
            "292:\tlearn: 0.0659168\ttotal: 8.79s\tremaining: 3.21s\n",
            "293:\tlearn: 0.0657347\ttotal: 8.82s\tremaining: 3.18s\n",
            "294:\tlearn: 0.0655927\ttotal: 8.86s\tremaining: 3.15s\n",
            "295:\tlearn: 0.0654805\ttotal: 8.89s\tremaining: 3.12s\n",
            "296:\tlearn: 0.0652886\ttotal: 8.92s\tremaining: 3.09s\n",
            "297:\tlearn: 0.0651630\ttotal: 8.95s\tremaining: 3.06s\n",
            "298:\tlearn: 0.0650529\ttotal: 8.98s\tremaining: 3.03s\n",
            "299:\tlearn: 0.0649236\ttotal: 9.01s\tremaining: 3s\n",
            "300:\tlearn: 0.0647999\ttotal: 9.04s\tremaining: 2.97s\n",
            "301:\tlearn: 0.0646312\ttotal: 9.07s\tremaining: 2.94s\n",
            "302:\tlearn: 0.0644021\ttotal: 9.1s\tremaining: 2.91s\n",
            "303:\tlearn: 0.0642377\ttotal: 9.13s\tremaining: 2.88s\n",
            "304:\tlearn: 0.0640640\ttotal: 9.16s\tremaining: 2.85s\n",
            "305:\tlearn: 0.0639374\ttotal: 9.19s\tremaining: 2.82s\n",
            "306:\tlearn: 0.0638088\ttotal: 9.22s\tremaining: 2.79s\n",
            "307:\tlearn: 0.0636643\ttotal: 9.25s\tremaining: 2.76s\n",
            "308:\tlearn: 0.0635022\ttotal: 9.28s\tremaining: 2.73s\n",
            "309:\tlearn: 0.0633744\ttotal: 9.31s\tremaining: 2.7s\n",
            "310:\tlearn: 0.0632314\ttotal: 9.35s\tremaining: 2.67s\n",
            "311:\tlearn: 0.0631189\ttotal: 9.38s\tremaining: 2.64s\n",
            "312:\tlearn: 0.0629611\ttotal: 9.4s\tremaining: 2.61s\n",
            "313:\tlearn: 0.0627873\ttotal: 9.44s\tremaining: 2.58s\n",
            "314:\tlearn: 0.0626593\ttotal: 9.46s\tremaining: 2.55s\n",
            "315:\tlearn: 0.0625098\ttotal: 9.49s\tremaining: 2.52s\n",
            "316:\tlearn: 0.0623825\ttotal: 9.53s\tremaining: 2.49s\n",
            "317:\tlearn: 0.0621605\ttotal: 9.56s\tremaining: 2.47s\n",
            "318:\tlearn: 0.0620646\ttotal: 9.6s\tremaining: 2.44s\n",
            "319:\tlearn: 0.0620321\ttotal: 9.63s\tremaining: 2.41s\n",
            "320:\tlearn: 0.0619899\ttotal: 9.65s\tremaining: 2.38s\n",
            "321:\tlearn: 0.0618531\ttotal: 9.68s\tremaining: 2.35s\n",
            "322:\tlearn: 0.0617758\ttotal: 9.72s\tremaining: 2.32s\n",
            "323:\tlearn: 0.0616029\ttotal: 9.75s\tremaining: 2.29s\n",
            "324:\tlearn: 0.0615103\ttotal: 9.78s\tremaining: 2.26s\n",
            "325:\tlearn: 0.0614011\ttotal: 9.81s\tremaining: 2.23s\n",
            "326:\tlearn: 0.0613138\ttotal: 9.84s\tremaining: 2.19s\n",
            "327:\tlearn: 0.0611989\ttotal: 9.87s\tremaining: 2.17s\n",
            "328:\tlearn: 0.0610707\ttotal: 9.89s\tremaining: 2.13s\n",
            "329:\tlearn: 0.0609443\ttotal: 9.93s\tremaining: 2.1s\n",
            "330:\tlearn: 0.0608766\ttotal: 9.95s\tremaining: 2.08s\n",
            "331:\tlearn: 0.0608585\ttotal: 9.98s\tremaining: 2.04s\n",
            "332:\tlearn: 0.0607874\ttotal: 10s\tremaining: 2.01s\n",
            "333:\tlearn: 0.0606603\ttotal: 10s\tremaining: 1.98s\n",
            "334:\tlearn: 0.0605791\ttotal: 10.1s\tremaining: 1.95s\n",
            "335:\tlearn: 0.0604707\ttotal: 10.1s\tremaining: 1.92s\n",
            "336:\tlearn: 0.0604577\ttotal: 10.1s\tremaining: 1.89s\n",
            "337:\tlearn: 0.0603187\ttotal: 10.2s\tremaining: 1.86s\n",
            "338:\tlearn: 0.0602301\ttotal: 10.2s\tremaining: 1.83s\n",
            "339:\tlearn: 0.0601263\ttotal: 10.2s\tremaining: 1.8s\n",
            "340:\tlearn: 0.0600825\ttotal: 10.2s\tremaining: 1.77s\n",
            "341:\tlearn: 0.0600421\ttotal: 10.3s\tremaining: 1.74s\n",
            "342:\tlearn: 0.0598120\ttotal: 10.3s\tremaining: 1.71s\n",
            "343:\tlearn: 0.0596882\ttotal: 10.3s\tremaining: 1.68s\n",
            "344:\tlearn: 0.0595930\ttotal: 10.4s\tremaining: 1.65s\n",
            "345:\tlearn: 0.0594846\ttotal: 10.4s\tremaining: 1.62s\n",
            "346:\tlearn: 0.0593526\ttotal: 10.4s\tremaining: 1.59s\n",
            "347:\tlearn: 0.0592848\ttotal: 10.5s\tremaining: 1.56s\n",
            "348:\tlearn: 0.0591192\ttotal: 10.5s\tremaining: 1.53s\n",
            "349:\tlearn: 0.0589698\ttotal: 10.5s\tremaining: 1.5s\n",
            "350:\tlearn: 0.0588377\ttotal: 10.6s\tremaining: 1.47s\n",
            "351:\tlearn: 0.0587321\ttotal: 10.6s\tremaining: 1.44s\n",
            "352:\tlearn: 0.0586342\ttotal: 10.6s\tremaining: 1.41s\n",
            "353:\tlearn: 0.0584851\ttotal: 10.6s\tremaining: 1.38s\n",
            "354:\tlearn: 0.0583485\ttotal: 10.7s\tremaining: 1.35s\n",
            "355:\tlearn: 0.0582688\ttotal: 10.7s\tremaining: 1.32s\n",
            "356:\tlearn: 0.0581588\ttotal: 10.7s\tremaining: 1.29s\n",
            "357:\tlearn: 0.0580369\ttotal: 10.8s\tremaining: 1.26s\n",
            "358:\tlearn: 0.0579433\ttotal: 10.8s\tremaining: 1.23s\n",
            "359:\tlearn: 0.0578345\ttotal: 10.8s\tremaining: 1.2s\n",
            "360:\tlearn: 0.0577702\ttotal: 10.9s\tremaining: 1.17s\n",
            "361:\tlearn: 0.0576388\ttotal: 10.9s\tremaining: 1.14s\n",
            "362:\tlearn: 0.0575317\ttotal: 10.9s\tremaining: 1.11s\n",
            "363:\tlearn: 0.0574472\ttotal: 11s\tremaining: 1.08s\n",
            "364:\tlearn: 0.0573504\ttotal: 11s\tremaining: 1.05s\n",
            "365:\tlearn: 0.0572100\ttotal: 11s\tremaining: 1.02s\n",
            "366:\tlearn: 0.0571574\ttotal: 11s\tremaining: 993ms\n",
            "367:\tlearn: 0.0570273\ttotal: 11.1s\tremaining: 963ms\n",
            "368:\tlearn: 0.0569734\ttotal: 11.1s\tremaining: 933ms\n",
            "369:\tlearn: 0.0568418\ttotal: 11.1s\tremaining: 903ms\n",
            "370:\tlearn: 0.0567662\ttotal: 11.2s\tremaining: 873ms\n",
            "371:\tlearn: 0.0566636\ttotal: 11.2s\tremaining: 843ms\n",
            "372:\tlearn: 0.0565605\ttotal: 11.2s\tremaining: 812ms\n",
            "373:\tlearn: 0.0565114\ttotal: 11.3s\tremaining: 782ms\n",
            "374:\tlearn: 0.0563886\ttotal: 11.3s\tremaining: 752ms\n",
            "375:\tlearn: 0.0562560\ttotal: 11.3s\tremaining: 722ms\n",
            "376:\tlearn: 0.0562319\ttotal: 11.3s\tremaining: 692ms\n",
            "377:\tlearn: 0.0561855\ttotal: 11.4s\tremaining: 662ms\n",
            "378:\tlearn: 0.0561268\ttotal: 11.4s\tremaining: 632ms\n",
            "379:\tlearn: 0.0560526\ttotal: 11.4s\tremaining: 602ms\n",
            "380:\tlearn: 0.0559176\ttotal: 11.5s\tremaining: 572ms\n",
            "381:\tlearn: 0.0558066\ttotal: 11.5s\tremaining: 542ms\n",
            "382:\tlearn: 0.0557037\ttotal: 11.5s\tremaining: 511ms\n",
            "383:\tlearn: 0.0556572\ttotal: 11.6s\tremaining: 481ms\n",
            "384:\tlearn: 0.0555709\ttotal: 11.6s\tremaining: 451ms\n",
            "385:\tlearn: 0.0554689\ttotal: 11.6s\tremaining: 421ms\n",
            "386:\tlearn: 0.0553662\ttotal: 11.6s\tremaining: 391ms\n",
            "387:\tlearn: 0.0552438\ttotal: 11.7s\tremaining: 361ms\n",
            "388:\tlearn: 0.0551545\ttotal: 11.7s\tremaining: 331ms\n",
            "389:\tlearn: 0.0549985\ttotal: 11.7s\tremaining: 301ms\n",
            "390:\tlearn: 0.0548784\ttotal: 11.8s\tremaining: 271ms\n",
            "391:\tlearn: 0.0548352\ttotal: 11.8s\tremaining: 241ms\n",
            "392:\tlearn: 0.0547990\ttotal: 11.8s\tremaining: 211ms\n",
            "393:\tlearn: 0.0547599\ttotal: 11.9s\tremaining: 181ms\n",
            "394:\tlearn: 0.0546087\ttotal: 11.9s\tremaining: 150ms\n",
            "395:\tlearn: 0.0545395\ttotal: 11.9s\tremaining: 120ms\n",
            "396:\tlearn: 0.0543606\ttotal: 11.9s\tremaining: 90.3ms\n",
            "397:\tlearn: 0.0542966\ttotal: 12s\tremaining: 60.2ms\n",
            "398:\tlearn: 0.0541577\ttotal: 12s\tremaining: 30.1ms\n",
            "399:\tlearn: 0.0540885\ttotal: 12s\tremaining: 0us\n",
            "Combined accuracy : 0.9530620894257258\n",
            "[1 1 1 ... 1 1 0]\n"
          ]
        }
      ],
      "source": [
        "from sklearn.ensemble import VotingClassifier\n",
        "\n",
        "ensemble=VotingClassifier(estimators=[('CatBoosting', model3),('Gradient Boost ', gbc)], voting='soft', weights=[5,1]).fit(X_train,y_train)\n",
        "\n",
        "print('Combined accuracy :',ensemble.score(X_test,y_test))\n",
        "\n",
        "#X_train, X_test, y_train, y_test\n",
        "final_test = pd.get_dummies(merged_test_df, drop_first = True)\n",
        "final_test = final_test.drop(['ID'], axis = 1)\n",
        "\n",
        "final_pred = ensemble.predict(final_test)\n",
        "print(final_pred)"
      ]
    },
    {
      "cell_type": "markdown",
      "id": "c6RgVNw6yxhL",
      "metadata": {
        "id": "c6RgVNw6yxhL"
      },
      "source": [
        "#### **Output final result**"
      ]
    },
    {
      "cell_type": "code",
      "execution_count": null,
      "id": "EavWJaWWyrgX",
      "metadata": {
        "id": "EavWJaWWyrgX"
      },
      "outputs": [],
      "source": [
        "import csv\n",
        "### To protect the IP, we skip the code here\n",
        "with open('Submission_E1.csv', 'w') as f:\n",
        "    writer = csv.writer(f)\n",
        "    writer.writerow(header)\n",
        "    writer.writerows(zip(merged_test_df.ID,final_pred))"
      ]
    },
    {
      "cell_type": "markdown",
      "id": "G6xJ0nCXxoGK",
      "metadata": {
        "id": "G6xJ0nCXxoGK"
      },
      "source": [
        "## **B. Decision Tree + Catboost + Gradient**"
      ]
    },
    {
      "cell_type": "code",
      "execution_count": null,
      "id": "h6ejDNkXmcmp",
      "metadata": {
        "colab": {
          "base_uri": "https://localhost:8080/"
        },
        "id": "h6ejDNkXmcmp",
        "outputId": "d666da45-0591-4384-e121-f5edc7e86a2c"
      },
      "outputs": [
        {
          "name": "stdout",
          "output_type": "stream",
          "text": [
            "Combined accuracy : 0.9525323161686798\n",
            "Combined accuracy : 0.9525323161686798\n",
            "[1 1 1 ... 1 1 0]\n"
          ]
        }
      ],
      "source": [
        "from sklearn.ensemble import VotingClassifier\n",
        "\n",
        "ensemble=VotingClassifier(estimators=[('Decision Tree', dtr), ('CatBoosting', model3),('Gradient Boost ', gbc)], \n",
        "                          voting='hard', \n",
        "                          n_jobs=-1,\n",
        "                          weights=[3,6,1]).fit(X_train,y_train)\n",
        "\n",
        "print('Combined accuracy :',ensemble.score(X_test,y_test))\n",
        "print('Combined accuracy :',ensemble.score(X_test,y_test))\n",
        "\n",
        "#X_train, X_test, y_train, y_test\n",
        "final_test = pd.get_dummies(merged_test_df, drop_first = True)\n",
        "final_test = final_test.drop(['ID'], axis = 1)\n",
        "\n",
        "final_pred = ensemble.predict(final_test)\n",
        "print(final_pred)"
      ]
    },
    {
      "cell_type": "code",
      "execution_count": null,
      "id": "ldxOvaz8ynIn",
      "metadata": {
        "id": "ldxOvaz8ynIn"
      },
      "outputs": [],
      "source": [
        "import csv\n",
        "### To protect the IP, we skip the code here\n",
        "with open('Submission_E2.csv', 'w') as f:\n",
        "    writer = csv.writer(f)\n",
        "    writer.writerow(header)\n",
        "    writer.writerows(zip(merged_test_df.ID,final_pred))"
      ]
    },
    {
      "cell_type": "markdown",
      "id": "UkrHLF6-IhoS",
      "metadata": {
        "id": "UkrHLF6-IhoS"
      },
      "source": [
        "## **F. Artifical Nueral Network Model**"
      ]
    },
    {
      "cell_type": "code",
      "execution_count": null,
      "id": "7SH5o6E5W4I-",
      "metadata": {
        "id": "7SH5o6E5W4I-"
      },
      "outputs": [],
      "source": [
        "np.random.seed(42)\n",
        "import random\n",
        "import tensorflow as tf\n",
        "random.seed(42)\n",
        "tf.random.set_seed(42)\n",
        "\n",
        "import keras\n",
        "from keras.models import Sequential\n",
        "from tensorflow.keras import optimizers\n",
        "from keras.layers import Dense, Dropout, Activation\n",
        "# from keras.optimizers import SGD\n",
        "import pandas as pd\n",
        "import numpy as np\n",
        "import matplotlib\n",
        "from matplotlib import style\n",
        "import matplotlib.pyplot as plt\n",
        "from sklearn.model_selection import train_test_split\n",
        "from tensorflow.keras import backend \n",
        "from tensorflow.keras.callbacks import EarlyStopping, ModelCheckpoint"
      ]
    },
    {
      "cell_type": "code",
      "execution_count": null,
      "id": "G7CNLd05XO8F",
      "metadata": {
        "id": "G7CNLd05XO8F"
      },
      "outputs": [],
      "source": [
        "### To protect the IP, we skip the code here"
      ]
    },
    {
      "cell_type": "code",
      "execution_count": null,
      "id": "pO3ZAv5hXT4T",
      "metadata": {
        "id": "pO3ZAv5hXT4T"
      },
      "outputs": [],
      "source": [
        "X = pd.get_dummies(X, drop_first = True)\n",
        "X_train, X_test, y_train, y_test = train_test_split(X, Y, test_size = 0.2)"
      ]
    },
    {
      "cell_type": "code",
      "execution_count": null,
      "id": "uhee_3IjXaCh",
      "metadata": {
        "id": "uhee_3IjXaCh"
      },
      "outputs": [],
      "source": [
        "from keras.layers.normalization.batch_normalization import BatchNormalization\n",
        "model_1 = Sequential()\n",
        "model_1.add(Dense(1024, activation='relu', input_dim = 24))\n",
        "model_1.add(Dropout(0.20))\n",
        "model_1.add(Dense(512, activation='relu'))\n",
        "model_1.add(Dropout(0.20))\n",
        "model_1.add(Dense(256, activation='relu'))\n",
        "model_1.add(Dropout(0.20))\n",
        "model_1.add(Dense(64, activation='relu'))\n",
        "model_1.add(Dense(1, activation='sigmoid'))\n",
        "\n",
        "adam = optimizers.Adam(learning_rate= 1e-3)\n",
        "model_1.compile(loss = 'binary_crossentropy', \n",
        "                optimizer='adamax', \n",
        "                metrics=['accuracy'])"
      ]
    },
    {
      "cell_type": "code",
      "execution_count": null,
      "id": "H-P90A6bXayg",
      "metadata": {
        "id": "H-P90A6bXayg"
      },
      "outputs": [],
      "source": [
        "callbacks = [EarlyStopping(monitor = 'val_loss', \n",
        "                           patience = 4),\n",
        "             ModelCheckpoint('.mdl_wts.hdf5', \n",
        "                             monitor ='val_loss', \n",
        "                             save_best_only = True)]"
      ]
    },
    {
      "cell_type": "code",
      "execution_count": null,
      "id": "WhMBcctNXlyf",
      "metadata": {
        "colab": {
          "base_uri": "https://localhost:8080/"
        },
        "id": "WhMBcctNXlyf",
        "outputId": "a41c17f3-79e7-4ea0-962e-36224ceffddf"
      },
      "outputs": [
        {
          "name": "stdout",
          "output_type": "stream",
          "text": [
            "Epoch 1/30\n",
            "1888/1888 [==============================] - 7s 3ms/step - loss: 0.3150 - accuracy: 0.8607 - val_loss: 0.2168 - val_accuracy: 0.9095\n",
            "Epoch 2/30\n",
            "1888/1888 [==============================] - 6s 3ms/step - loss: 0.2148 - accuracy: 0.9081 - val_loss: 0.1881 - val_accuracy: 0.9191\n",
            "Epoch 3/30\n",
            "1888/1888 [==============================] - 6s 3ms/step - loss: 0.1876 - accuracy: 0.9199 - val_loss: 0.1583 - val_accuracy: 0.9342\n",
            "Epoch 4/30\n",
            "1888/1888 [==============================] - 6s 3ms/step - loss: 0.1693 - accuracy: 0.9272 - val_loss: 0.1535 - val_accuracy: 0.9340\n",
            "Epoch 5/30\n",
            "1888/1888 [==============================] - 6s 3ms/step - loss: 0.1590 - accuracy: 0.9320 - val_loss: 0.1475 - val_accuracy: 0.9359\n",
            "Epoch 6/30\n",
            "1888/1888 [==============================] - 6s 3ms/step - loss: 0.1504 - accuracy: 0.9352 - val_loss: 0.1372 - val_accuracy: 0.9403\n",
            "Epoch 7/30\n",
            "1888/1888 [==============================] - 6s 3ms/step - loss: 0.1459 - accuracy: 0.9369 - val_loss: 0.1358 - val_accuracy: 0.9405\n",
            "Epoch 8/30\n",
            "1888/1888 [==============================] - 6s 3ms/step - loss: 0.1399 - accuracy: 0.9395 - val_loss: 0.1294 - val_accuracy: 0.9428\n",
            "Epoch 9/30\n",
            "1888/1888 [==============================] - 6s 3ms/step - loss: 0.1356 - accuracy: 0.9409 - val_loss: 0.1326 - val_accuracy: 0.9415\n",
            "Epoch 10/30\n",
            "1888/1888 [==============================] - 6s 3ms/step - loss: 0.1320 - accuracy: 0.9421 - val_loss: 0.1280 - val_accuracy: 0.9454\n",
            "Epoch 11/30\n",
            "1888/1888 [==============================] - 6s 3ms/step - loss: 0.1294 - accuracy: 0.9436 - val_loss: 0.1200 - val_accuracy: 0.9467\n",
            "Epoch 12/30\n",
            "1888/1888 [==============================] - 6s 3ms/step - loss: 0.1274 - accuracy: 0.9442 - val_loss: 0.1225 - val_accuracy: 0.9477\n",
            "Epoch 13/30\n",
            "1888/1888 [==============================] - 6s 3ms/step - loss: 0.1240 - accuracy: 0.9465 - val_loss: 0.1187 - val_accuracy: 0.9495\n",
            "Epoch 14/30\n",
            "1888/1888 [==============================] - 6s 3ms/step - loss: 0.1208 - accuracy: 0.9466 - val_loss: 0.1221 - val_accuracy: 0.9477\n",
            "Epoch 15/30\n",
            "1888/1888 [==============================] - 6s 3ms/step - loss: 0.1193 - accuracy: 0.9485 - val_loss: 0.1158 - val_accuracy: 0.9505\n",
            "Epoch 16/30\n",
            "1888/1888 [==============================] - 6s 3ms/step - loss: 0.1165 - accuracy: 0.9493 - val_loss: 0.1139 - val_accuracy: 0.9505\n",
            "Epoch 17/30\n",
            "1888/1888 [==============================] - 6s 3ms/step - loss: 0.1156 - accuracy: 0.9486 - val_loss: 0.1180 - val_accuracy: 0.9511\n",
            "Epoch 18/30\n",
            "1888/1888 [==============================] - 6s 3ms/step - loss: 0.1132 - accuracy: 0.9503 - val_loss: 0.1146 - val_accuracy: 0.9511\n",
            "Epoch 19/30\n",
            "1888/1888 [==============================] - 6s 3ms/step - loss: 0.1114 - accuracy: 0.9515 - val_loss: 0.1165 - val_accuracy: 0.9505\n",
            "Epoch 20/30\n",
            "1888/1888 [==============================] - 6s 3ms/step - loss: 0.1091 - accuracy: 0.9524 - val_loss: 0.1164 - val_accuracy: 0.9509\n",
            "Epoch 21/30\n",
            "1888/1888 [==============================] - 6s 3ms/step - loss: 0.1093 - accuracy: 0.9520 - val_loss: 0.1129 - val_accuracy: 0.9523\n",
            "Epoch 22/30\n",
            "1888/1888 [==============================] - 6s 3ms/step - loss: 0.1070 - accuracy: 0.9528 - val_loss: 0.1257 - val_accuracy: 0.9471\n",
            "Epoch 23/30\n",
            "1888/1888 [==============================] - 6s 3ms/step - loss: 0.1060 - accuracy: 0.9530 - val_loss: 0.1115 - val_accuracy: 0.9529\n",
            "Epoch 24/30\n",
            "1888/1888 [==============================] - 6s 3ms/step - loss: 0.1061 - accuracy: 0.9537 - val_loss: 0.1169 - val_accuracy: 0.9506\n",
            "Epoch 25/30\n",
            "1888/1888 [==============================] - 6s 3ms/step - loss: 0.1044 - accuracy: 0.9543 - val_loss: 0.1108 - val_accuracy: 0.9533\n",
            "Epoch 26/30\n",
            "1888/1888 [==============================] - 6s 3ms/step - loss: 0.1009 - accuracy: 0.9555 - val_loss: 0.1153 - val_accuracy: 0.9513\n",
            "Epoch 27/30\n",
            "1888/1888 [==============================] - 6s 3ms/step - loss: 0.0999 - accuracy: 0.9565 - val_loss: 0.1087 - val_accuracy: 0.9534\n",
            "Epoch 28/30\n",
            "1888/1888 [==============================] - 6s 3ms/step - loss: 0.0992 - accuracy: 0.9559 - val_loss: 0.1117 - val_accuracy: 0.9528\n",
            "Epoch 29/30\n",
            "1888/1888 [==============================] - 6s 3ms/step - loss: 0.0998 - accuracy: 0.9559 - val_loss: 0.1105 - val_accuracy: 0.9535\n",
            "Epoch 30/30\n",
            "1888/1888 [==============================] - 6s 3ms/step - loss: 0.0982 - accuracy: 0.9568 - val_loss: 0.1178 - val_accuracy: 0.9536\n"
          ]
        }
      ],
      "source": [
        "history_1 = model_1.fit(X_train, \n",
        "                    y_train,\n",
        "                    # callbacks = callbacks,\n",
        "                    validation_split = 0.2, \n",
        "                    epochs = 30, \n",
        "                    verbose = 1)"
      ]
    },
    {
      "cell_type": "code",
      "execution_count": null,
      "id": "me1g46-cXsG-",
      "metadata": {
        "colab": {
          "base_uri": "https://localhost:8080/"
        },
        "id": "me1g46-cXsG-",
        "outputId": "02a9e32c-e257-4f0f-eb00-bc5b0c770baa"
      },
      "outputs": [
        {
          "name": "stdout",
          "output_type": "stream",
          "text": [
            "590/590 [==============================] - 1s 2ms/step - loss: 0.1236 - accuracy: 0.9508\n"
          ]
        }
      ],
      "source": [
        "model_1.evaluate(X_test, y_test, verbose = 1)\n",
        "test_pred = np.round(model_1.predict(X_test))"
      ]
    },
    {
      "cell_type": "code",
      "execution_count": null,
      "id": "SJeDkFViXvJ3",
      "metadata": {
        "colab": {
          "base_uri": "https://localhost:8080/",
          "height": 295
        },
        "id": "SJeDkFViXvJ3",
        "outputId": "e6e39bf6-9b5c-4ecd-c39b-8960991815a6"
      },
      "outputs": [
        {
          "data": {
            "image/png": "[encoded data removed]",
            "text/plain": [
              "<Figure size 432x288 with 1 Axes>"
            ]
          },
          "metadata": {
            "needs_background": "light"
          },
          "output_type": "display_data"
        }
      ],
      "source": [
        "plt.plot(history_1.history['accuracy'])\n",
        "plt.plot(history_1.history['val_accuracy'])\n",
        "plt.title('Accuracy vs Epochs')\n",
        "plt.ylabel('Accuracy')\n",
        "plt.xlabel('Epoch')\n",
        "### To protect the IP, we skip the code here\n",
        "plt.show()"
      ]
    },
    {
      "cell_type": "code",
      "execution_count": null,
      "id": "lQFWNFWsX1fE",
      "metadata": {
        "colab": {
          "base_uri": "https://localhost:8080/",
          "height": 490
        },
        "id": "lQFWNFWsX1fE",
        "outputId": "e0e3e21a-e90b-4fcd-cffa-44652f35e731"
      },
      "outputs": [
        {
          "name": "stdout",
          "output_type": "stream",
          "text": [
            "              precision    recall  f1-score   support\n",
            "\n",
            "           0       0.94      0.95      0.95      8405\n",
            "           1       0.96      0.95      0.96     10471\n",
            "\n",
            "    accuracy                           0.95     18876\n",
            "   macro avg       0.95      0.95      0.95     18876\n",
            "weighted avg       0.95      0.95      0.95     18876\n",
            "\n"
          ]
        },
        {
          "data": {
            "image/png": "[encoded data removed]",
            "text/plain": [
              "<Figure size 576x360 with 2 Axes>"
            ]
          },
          "metadata": {
            "needs_background": "light"
          },
          "output_type": "display_data"
        }
      ],
      "source": [
        "from sklearn.metrics import classification_report\n",
        "from sklearn.metrics import confusion_matrix\n",
        "print(classification_report(y_test, test_pred))\n",
        "cm = confusion_matrix(y_test, test_pred)\n",
        "plt.figure(figsize=(8,5))\n",
        "### To protect the IP, we skip the code here\n",
        "plt.ylabel('Actual')\n",
        "plt.xlabel('Predicted')\n",
        "plt.show()"
      ]
    },
    {
      "cell_type": "code",
      "execution_count": null,
      "id": "uFTMfaTCYAIs",
      "metadata": {
        "colab": {
          "base_uri": "https://localhost:8080/"
        },
        "id": "uFTMfaTCYAIs",
        "outputId": "ab3dac82-e1ba-40d8-f222-8bdeff64eb7f"
      },
      "outputs": [
        {
          "name": "stdout",
          "output_type": "stream",
          "text": [
            "[[1.]\n",
            " [1.]\n",
            " [1.]\n",
            " ...\n",
            " [0.]\n",
            " [1.]\n",
            " [0.]]\n"
          ]
        }
      ],
      "source": [
        "### To protect the IP, we skip the code here\n",
        "final_test = pd.get_dummies(test_df, drop_first = True)\n",
        "final_pred = np.round(model_1.predict(final_test))\n",
        "print(final_pred)"
      ]
    },
    {
      "cell_type": "code",
      "execution_count": null,
      "id": "yJ75ydqyYFIv",
      "metadata": {
        "id": "yJ75ydqyYFIv"
      },
      "outputs": [],
      "source": [
        "import csv\n",
        "### To protect the IP, we skip the code here\n",
        "with open('Submission_NN.csv', 'w') as f:\n",
        "    writer = csv.writer(f)\n",
        "    writer.writerow(header)\n",
        "    writer.writerows(zip(merged_test_df.ID,final_pred))"
      ]
    }
  ],
  "metadata": {
    "accelerator": "GPU",
    "colab": {
      "collapsed_sections": [],
      "machine_shape": "hm",
      "name": "Hackathon_Final.ipynb",
      "provenance": []
    },
    "kernelspec": {
      "display_name": "Python 3 (ipykernel)",
      "language": "python",
      "name": "python3"
    },
    "language_info": {
      "codemirror_mode": {
        "name": "ipython",
        "version": 3
      },
      "file_extension": ".py",
      "mimetype": "text/x-python",
      "name": "python",
      "nbconvert_exporter": "python",
      "pygments_lexer": "ipython3",
      "version": "3.9.7"
    }
  },
  "nbformat": 4,
  "nbformat_minor": 5
}