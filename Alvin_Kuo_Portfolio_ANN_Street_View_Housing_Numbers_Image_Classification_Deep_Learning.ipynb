{
  "cells": [
    {
      "cell_type": "markdown",
      "metadata": {
        "id": "Q91KqmCRu64D"
      },
      "source": [
        "# **Artificial Neural Networks: Street View Housing Number Digit Recognition**\n",
        "This project aimes on classification using Artificial Neural Networks. We will work with the Street View Housing Numbers (SVHN) image dataset for this project.\n",
        "--------------\n",
        "### **Context:** \n",
        "--------------\n",
        "One of the most interesting tasks in deep learning is to recognize objects in natural scenes. The ability to process visual information using machine learning algorithms can be very useful as demonstrated in various applications.\n",
        "\n",
        "The SVHN dataset contains over 600,000 labeled digits cropped from street level photos. It is one of the most popular image recognition datasets. It has been used in neural networks created by Google to improve map quality by automatically transcribing the address numbers from a patch of pixels. The transcribed number with a known street address helps pinpoint the location of the building it represents. \n",
        "\n",
        "----------------\n",
        "### **Objective:**\n",
        "----------------\n",
        "\n",
        "Build a feed forward neural network model that can identify the digits in the images. \n",
        "\n",
        "-------------\n",
        "### **Dataset**\n",
        "-------------\n",
        "Here, we will use a subset of the original data to save some computation time. The dataset is provided as a .h5 file. The basic preprocessing steps have been done."
      ]
    },
    {
      "cell_type": "markdown",
      "metadata": {
        "id": "8z2Z7-OAs8QG"
      },
      "source": [
        "## **Mount the drive**\n",
        "Start by mounting the drive and importing the necessary libraries."
      ]
    },
    {
      "cell_type": "code",
      "execution_count": null,
      "metadata": {
        "colab": {
          "base_uri": "https://localhost:8080/"
        },
        "id": "03lDyQUuef7z",
        "outputId": "4aaaba45-bb5d-4931-f295-9a935cab79fc"
      },
      "outputs": [
        {
          "name": "stdout",
          "output_type": "stream",
          "text": [
            "Drive already mounted at /content/drive; to attempt to forcibly remount, call drive.mount(\"/content/drive\", force_remount=True).\n"
          ]
        }
      ],
      "source": [
        "from google.colab import drive\n",
        "drive.mount('/content/drive')"
      ]
    },
    {
      "cell_type": "markdown",
      "metadata": {
        "id": "C8U3DUa3eNsT"
      },
      "source": [
        "## **Import libraries**"
      ]
    },
    {
      "cell_type": "code",
      "execution_count": null,
      "metadata": {
        "id": "-dVzeuF3eQx1"
      },
      "outputs": [],
      "source": [
        "import numpy as np\n",
        "import pandas as pd\n",
        "import matplotlib.pyplot as plt\n",
        "import seaborn as sns\n",
        "\n",
        "from sklearn.model_selection import train_test_split\n",
        "from sklearn.preprocessing import MinMaxScaler\n",
        "\n",
        "import tensorflow as tf\n",
        "from tensorflow.keras.models import Sequential\n",
        "from tensorflow.keras.layers import Dense, Dropout, Activation, BatchNormalization\n",
        "from tensorflow.keras.utils import to_categorical"
      ]
    },
    {
      "cell_type": "markdown",
      "metadata": {
        "id": "ucnevGLoyKf_"
      },
      "source": [
        "Check for the version of TensorFlow."
      ]
    },
    {
      "cell_type": "code",
      "execution_count": null,
      "metadata": {
        "colab": {
          "base_uri": "https://localhost:8080/"
        },
        "id": "W5as47YxyJVk",
        "outputId": "db8ea4bf-dea6-4423-bc80-165f2069b8f7"
      },
      "outputs": [
        {
          "name": "stdout",
          "output_type": "stream",
          "text": [
            "2.8.0\n"
          ]
        }
      ],
      "source": [
        "print(tf.__version__)"
      ]
    },
    {
      "cell_type": "markdown",
      "metadata": {
        "id": "8lsux2ZwyTTR"
      },
      "source": [
        "## **Load the dataset**\n",
        "- Load the dataset that is available as a .h5 file.\n",
        "- Split the data into train and the test dataset"
      ]
    },
    {
      "cell_type": "code",
      "execution_count": null,
      "metadata": {
        "id": "BApX9qgNsqV0",
        "scrolled": true
      },
      "outputs": [],
      "source": [
        "import h5py\n",
        "\n",
        "# Open the file as read only\n",
        "# User can make changes in the path as required\n",
        "h5f = h5py.File('/content/drive/MyDrive/SVHN_single_grey1.h5', 'r')\n",
        "\n",
        "# Load the training and the test set\n",
        "X_train = h5f['X_train'][:]\n",
        "y_train = h5f['y_train'][:]\n",
        "X_test = h5f['X_test'][:]\n",
        "y_test = h5f['y_test'][:]\n",
        "\n",
        "\n",
        "# Close this file\n",
        "h5f.close()"
      ]
    },
    {
      "cell_type": "markdown",
      "metadata": {
        "id": "hVe0CYpUgj7w"
      },
      "source": [
        "Check the number of images in the training and testing data."
      ]
    },
    {
      "cell_type": "code",
      "execution_count": null,
      "metadata": {
        "colab": {
          "base_uri": "https://localhost:8080/"
        },
        "id": "y3lwKpOefkpA",
        "outputId": "c7424bf2-3787-4a60-82dc-dd97cb126a3b"
      },
      "outputs": [
        {
          "data": {
            "text/plain": [
              "(42000, 18000)"
            ]
          },
          "execution_count": 231,
          "metadata": {},
          "output_type": "execute_result"
        }
      ],
      "source": [
        "len(X_train), len(X_test)"
      ]
    },
    {
      "cell_type": "markdown",
      "metadata": {
        "id": "akTUOfLlgwoM"
      },
      "source": [
        "**Observations**\n",
        "- There are 42,000 images in the training data and 18,000 images in the testing data. "
      ]
    },
    {
      "cell_type": "markdown",
      "metadata": {
        "id": "kxODV6HKykuc"
      },
      "source": [
        "## **Visualize images**\n",
        "- Use X_train to visualize the first 10 images\n",
        "- Use Y_train to print the first 10 labels"
      ]
    },
    {
      "cell_type": "code",
      "execution_count": null,
      "metadata": {
        "colab": {
          "base_uri": "https://localhost:8080/",
          "height": 95
        },
        "id": "Bvsc8ytHsqWD",
        "outputId": "ea7ecec5-3cce-4973-b6e2-f55d8dfadf2d"
      },
      "outputs": [
        {
          "data": {
            "image/png": "[encoded data removed]",
            "text/plain": [
              "<Figure size 720x72 with 10 Axes>"
            ]
          },
          "metadata": {
            "needs_background": "light"
          },
          "output_type": "display_data"
        },
        {
          "name": "stdout",
          "output_type": "stream",
          "text": [
            "label for each of the above image: [2 6 7 4 4 0 3 0 7 3]\n"
          ]
        }
      ],
      "source": [
        "# visualize the first 10 images in the dataset and their labels\n",
        "plt.figure(figsize=(10, 1))\n",
        "\n",
        "for i in range(10):\n",
        "    plt.subplot(1, 10, i+1)\n",
        "    plt.imshow(X_train[i], cmap=\"gray\")\n",
        "    plt.axis('off')\n",
        "\n",
        "plt.show()\n",
        "print('label for each of the above image: %s' % (y_train[0:10]))"
      ]
    },
    {
      "cell_type": "markdown",
      "metadata": {
        "id": "kzoyeXHOy80N"
      },
      "source": [
        "## **Data preparation**\n",
        "\n",
        "- Print the first image in the train image and figure out the shape of the images\n",
        "- Reshape the train and the test dataset to flatten them. Figure out the required shape\n",
        "- Normalise the train and the test dataset by dividing by 255\n",
        "- Print the new shapes of the train and the test set\n",
        "- One-hot encode the target variable"
      ]
    },
    {
      "cell_type": "code",
      "execution_count": null,
      "metadata": {
        "colab": {
          "base_uri": "https://localhost:8080/"
        },
        "id": "NqndzQXng9rL",
        "outputId": "e1cea848-9ece-466c-8c07-b0360af838fb"
      },
      "outputs": [
        {
          "name": "stdout",
          "output_type": "stream",
          "text": [
            "Shape: (32, 32)\n",
            "\n",
            "First image:\n",
            " [[ 33.0704  30.2601  26.852  ...  71.4471  58.2204  42.9939]\n",
            " [ 25.2283  25.5533  29.9765 ... 113.0209 103.3639  84.2949]\n",
            " [ 26.2775  22.6137  40.4763 ... 113.3028 121.775  115.4228]\n",
            " ...\n",
            " [ 28.5502  36.212   45.0801 ...  24.1359  25.0927  26.0603]\n",
            " [ 38.4352  26.4733  23.2717 ...  28.1094  29.4683  30.0661]\n",
            " [ 50.2984  26.0773  24.0389 ...  49.6682  50.853   53.0377]]\n"
          ]
        }
      ],
      "source": [
        "# Shape of the images and the first image\n",
        "\n",
        "print(\"Shape:\", X_train[0].shape)\n",
        "print()\n",
        "print(\"First image:\\n\", X_train[0])"
      ]
    },
    {
      "cell_type": "code",
      "execution_count": null,
      "metadata": {
        "id": "D9YPwf9ysqWU"
      },
      "outputs": [],
      "source": [
        "# Reshape the dataset to flatten them. Remember that we are trying to reshape the 2D image data into a 1D array\n",
        "\n",
        "X_train = X_train.reshape(X_train.shape[0], 1024)\n",
        "X_test = X_test.reshape(X_test.shape[0], 1024)"
      ]
    },
    {
      "cell_type": "markdown",
      "metadata": {
        "id": "VxCu9DtrGzH6"
      },
      "source": [
        "#### **Normalize the train and test data**"
      ]
    },
    {
      "cell_type": "code",
      "execution_count": null,
      "metadata": {
        "id": "q_yUUTp_mUzB"
      },
      "outputs": [],
      "source": [
        "# Normalize inputs from 0-255 to 0-1\n",
        "\n",
        "X_train = X_train/255\n",
        "X_test = X_test/255"
      ]
    },
    {
      "cell_type": "code",
      "execution_count": null,
      "metadata": {
        "colab": {
          "base_uri": "https://localhost:8080/"
        },
        "id": "t7FSqOpamWkH",
        "outputId": "3c696cca-942a-42db-f12a-d64c415ff275"
      },
      "outputs": [
        {
          "name": "stdout",
          "output_type": "stream",
          "text": [
            "Training set: (42000, 1024) (42000,)\n",
            "Test set: (18000, 1024) (18000,)\n"
          ]
        }
      ],
      "source": [
        "# New shape \n",
        "\n",
        "print('Training set:', X_train.shape, y_train.shape)\n",
        "print('Test set:', X_test.shape, y_test.shape)"
      ]
    },
    {
      "cell_type": "code",
      "execution_count": null,
      "metadata": {
        "colab": {
          "base_uri": "https://localhost:8080/"
        },
        "id": "zL0lYER4sqWw",
        "outputId": "f97750d3-fc4b-41a8-f7ed-f92bd7df4b37"
      },
      "outputs": [
        {
          "data": {
            "text/plain": [
              "array([[0., 1., 0., ..., 0., 0., 0.],\n",
              "       [0., 0., 0., ..., 1., 0., 0.],\n",
              "       [0., 0., 1., ..., 0., 0., 0.],\n",
              "       ...,\n",
              "       [0., 0., 0., ..., 1., 0., 0.],\n",
              "       [0., 0., 0., ..., 0., 0., 1.],\n",
              "       [0., 0., 1., ..., 0., 0., 0.]], dtype=float32)"
            ]
          },
          "execution_count": 237,
          "metadata": {},
          "output_type": "execute_result"
        }
      ],
      "source": [
        "# one hot encode output\n",
        "y_train = to_categorical(y_train)\n",
        "y_test = to_categorical(y_test)\n",
        "\n",
        "# no.of classes\n",
        "y_test"
      ]
    },
    {
      "cell_type": "markdown",
      "metadata": {
        "id": "ViqPOTquCF76"
      },
      "source": [
        "**Observations**\n",
        "- Notice that each entry of y_test is a one-hot encoded vector instead of a single label."
      ]
    },
    {
      "cell_type": "markdown",
      "metadata": {
        "id": "yH-gVrzuByNA"
      },
      "source": [
        "## **Model Building**\n",
        "\n",
        "Build an ANN model."
      ]
    },
    {
      "cell_type": "code",
      "execution_count": null,
      "metadata": {
        "id": "d9ZjN17XGzIA"
      },
      "outputs": [],
      "source": [
        "# Fix the seed for random number generators\n",
        "np.random.seed(42)\n",
        "import random\n",
        "random.seed(42)\n",
        "tf.random.set_seed(42)"
      ]
    },
    {
      "cell_type": "markdown",
      "metadata": {
        "id": "UJDUoaEj1d6e"
      },
      "source": [
        "### **Model Architecture**\n",
        "- Write a function that returns a sequential model with the following architecture\n",
        " - First hidden layer with **64 nodes and relu activation** and the input shape which is used above\n",
        " - Second hidden layer with **32 nodes and relu activation**\n",
        " - Output layer with **softmax activation and number of nodes equal to the number of classes**\n",
        " -Compile the model with the **categorical_crossentropy loss, adam optimizer (learning_rate = 0.001), and accuracy metric**. Do not fit the model here, just return the compiled model.\n",
        "- Call the function and store the model in a new variable \n",
        "- Print the summary of the model\n",
        "- Fit on the train data with a **validation split of 0.2, batch size = 128, verbose = 1, and 20 epochs**. Store the model building history to use later for visualization."
      ]
    },
    {
      "cell_type": "markdown",
      "metadata": {
        "id": "24NB3aVsGzIC"
      },
      "source": [
        "#### **Build and train a ANN model as per the above mentioned architecture**"
      ]
    },
    {
      "cell_type": "code",
      "execution_count": null,
      "metadata": {
        "id": "Cmi81Gr5sqW-"
      },
      "outputs": [],
      "source": [
        "# Import losses and optimizers modules\n",
        "from tensorflow.keras import losses\n",
        "from tensorflow.keras import optimizers\n",
        "\n",
        "# Define the function\n",
        "def nn_model_1():\n",
        "    model = Sequential([\n",
        "      tf.keras.layers.Flatten(input_shape = (1024, )),\n",
        "      tf.keras.layers.Dense(64, activation = 'relu'),\n",
        "      tf.keras.layers.Dense(32, activation = 'relu'),\n",
        "      tf.keras.layers.Dense(10, activation = 'softmax')\n",
        "    ]) \n",
        "    # Add layers as per the architecture mentioned above in the same sequence\n",
        "    \n",
        "    # declare adam optimizer with learning rate of 0.001 \n",
        "    adam = optimizers.Adam(learning_rate = 1e-3)\n",
        "    \n",
        "    # compile the model\n",
        "    model.compile(optimizer = 'adam', loss = 'categorical_crossentropy', metrics = ['accuracy'])\n",
        "    \n",
        "    return model"
      ]
    },
    {
      "cell_type": "code",
      "execution_count": null,
      "metadata": {
        "id": "bGCUI_xsImnH"
      },
      "outputs": [],
      "source": [
        "# Build the model\n",
        "model_1 = nn_model_1()"
      ]
    },
    {
      "cell_type": "code",
      "execution_count": null,
      "metadata": {
        "colab": {
          "base_uri": "https://localhost:8080/"
        },
        "id": "ckJsLdmdQadZ",
        "outputId": "4c97d736-0384-4718-fa5a-05743fc026e5"
      },
      "outputs": [
        {
          "name": "stdout",
          "output_type": "stream",
          "text": [
            "Model: \"sequential_7\"\n",
            "_________________________________________________________________\n",
            " Layer (type)                Output Shape              Param #   \n",
            "=================================================================\n",
            " flatten_11 (Flatten)        (None, 1024)              0         \n",
            "                                                                 \n",
            " dense_49 (Dense)            (None, 64)                65600     \n",
            "                                                                 \n",
            " dense_50 (Dense)            (None, 32)                2080      \n",
            "                                                                 \n",
            " dense_51 (Dense)            (None, 10)                330       \n",
            "                                                                 \n",
            "=================================================================\n",
            "Total params: 68,010\n",
            "Trainable params: 68,010\n",
            "Non-trainable params: 0\n",
            "_________________________________________________________________\n"
          ]
        }
      ],
      "source": [
        "# Print the summary\n",
        "model_1.summary()"
      ]
    },
    {
      "cell_type": "code",
      "execution_count": null,
      "metadata": {
        "colab": {
          "base_uri": "https://localhost:8080/"
        },
        "id": "3Fy3Dif_zcCk",
        "outputId": "643f9dfb-eaff-4398-f6e2-ed0eccc20b72"
      },
      "outputs": [
        {
          "name": "stdout",
          "output_type": "stream",
          "text": [
            "Epoch 1/20\n",
            "263/263 [==============================] - 2s 7ms/step - loss: 2.2993 - accuracy: 0.1179 - val_loss: 2.2594 - val_accuracy: 0.1463\n",
            "Epoch 2/20\n",
            "263/263 [==============================] - 1s 5ms/step - loss: 2.1130 - accuracy: 0.2276 - val_loss: 1.9376 - val_accuracy: 0.3279\n",
            "Epoch 3/20\n",
            "263/263 [==============================] - 1s 5ms/step - loss: 1.7953 - accuracy: 0.3824 - val_loss: 1.6499 - val_accuracy: 0.4551\n",
            "Epoch 4/20\n",
            "263/263 [==============================] - 1s 5ms/step - loss: 1.5726 - accuracy: 0.4828 - val_loss: 1.4957 - val_accuracy: 0.5094\n",
            "Epoch 5/20\n",
            "263/263 [==============================] - 1s 5ms/step - loss: 1.4604 - accuracy: 0.5268 - val_loss: 1.4267 - val_accuracy: 0.5357\n",
            "Epoch 6/20\n",
            "263/263 [==============================] - 2s 6ms/step - loss: 1.4008 - accuracy: 0.5503 - val_loss: 1.3652 - val_accuracy: 0.5613\n",
            "Epoch 7/20\n",
            "263/263 [==============================] - 1s 6ms/step - loss: 1.3588 - accuracy: 0.5682 - val_loss: 1.3282 - val_accuracy: 0.5799\n",
            "Epoch 8/20\n",
            "263/263 [==============================] - 1s 5ms/step - loss: 1.3239 - accuracy: 0.5810 - val_loss: 1.2951 - val_accuracy: 0.5931\n",
            "Epoch 9/20\n",
            "263/263 [==============================] - 1s 5ms/step - loss: 1.2967 - accuracy: 0.5946 - val_loss: 1.2838 - val_accuracy: 0.5963\n",
            "Epoch 10/20\n",
            "263/263 [==============================] - 2s 7ms/step - loss: 1.2779 - accuracy: 0.5994 - val_loss: 1.2624 - val_accuracy: 0.6029\n",
            "Epoch 11/20\n",
            "263/263 [==============================] - 1s 5ms/step - loss: 1.2604 - accuracy: 0.6049 - val_loss: 1.2670 - val_accuracy: 0.5923\n",
            "Epoch 12/20\n",
            "263/263 [==============================] - 1s 5ms/step - loss: 1.2382 - accuracy: 0.6123 - val_loss: 1.2291 - val_accuracy: 0.6170\n",
            "Epoch 13/20\n",
            "263/263 [==============================] - 1s 5ms/step - loss: 1.2287 - accuracy: 0.6166 - val_loss: 1.2327 - val_accuracy: 0.6144\n",
            "Epoch 14/20\n",
            "263/263 [==============================] - 1s 6ms/step - loss: 1.2176 - accuracy: 0.6197 - val_loss: 1.1992 - val_accuracy: 0.6255\n",
            "Epoch 15/20\n",
            "263/263 [==============================] - 1s 6ms/step - loss: 1.2087 - accuracy: 0.6244 - val_loss: 1.2110 - val_accuracy: 0.6237\n",
            "Epoch 16/20\n",
            "263/263 [==============================] - 2s 7ms/step - loss: 1.2027 - accuracy: 0.6259 - val_loss: 1.2247 - val_accuracy: 0.6152\n",
            "Epoch 17/20\n",
            "263/263 [==============================] - 2s 6ms/step - loss: 1.1894 - accuracy: 0.6296 - val_loss: 1.1941 - val_accuracy: 0.6274\n",
            "Epoch 18/20\n",
            "263/263 [==============================] - 2s 6ms/step - loss: 1.1865 - accuracy: 0.6305 - val_loss: 1.1803 - val_accuracy: 0.6310\n",
            "Epoch 19/20\n",
            "263/263 [==============================] - 2s 6ms/step - loss: 1.1783 - accuracy: 0.6338 - val_loss: 1.1853 - val_accuracy: 0.6289\n",
            "Epoch 20/20\n",
            "263/263 [==============================] - 2s 6ms/step - loss: 1.1752 - accuracy: 0.6346 - val_loss: 1.1880 - val_accuracy: 0.6277\n"
          ]
        }
      ],
      "source": [
        "# Fit the model\n",
        "history_model_1 = model_1.fit(X_train, y_train, validation_split = 0.2, verbose = 1, epochs = 20, batch_size = 128)"
      ]
    },
    {
      "cell_type": "markdown",
      "metadata": {
        "id": "tKOckG-KPyLg"
      },
      "source": [
        "### **Plot the validation and training accuracies**"
      ]
    },
    {
      "cell_type": "code",
      "execution_count": null,
      "metadata": {
        "colab": {
          "base_uri": "https://localhost:8080/",
          "height": 497
        },
        "id": "lt77zgGMP4yw",
        "outputId": "ceee9e3a-e681-4d06-811f-5bf14a63b59d"
      },
      "outputs": [
        {
          "data": {
            "image/png": "[encoded data removed]",
            "text/plain": [
              "<Figure size 576x576 with 1 Axes>"
            ]
          },
          "metadata": {
            "needs_background": "light"
          },
          "output_type": "display_data"
        }
      ],
      "source": [
        "# plot the accuracies\n",
        "\n",
        "dict_hist = history_model_1.history\n",
        "list_ep = [i for i in range(1,21)]\n",
        "\n",
        "plt.figure(figsize = (8,8))\n",
        "plt.plot(list_ep,dict_hist['accuracy'],ls = '--', label = 'accuracy')\n",
        "plt.plot(list_ep,dict_hist['val_accuracy'],ls = '--', label = 'val_accuracy')\n",
        "plt.ylabel('Accuracy')\n",
        "plt.xlabel('Epochs')\n",
        "plt.legend()\n",
        "plt.show()"
      ]
    },
    {
      "cell_type": "markdown",
      "metadata": {
        "id": "pGBbQpLONX7k"
      },
      "source": [
        "**Observations:**\n",
        "* **1. The first ANN model with 2 layers** - We reshape the 2D image Data to 1D array and utilize tensorflow to build a brand new ANN model with 2 layers only to start, leaving some room to add more layers in the next model if needed. \n",
        "* **2. Accuracy reaches .68** - The accuracy of this very first ANN model has a very tough start with accuracy only around 0.1~0.2. However, the model learns very quickly and eventually reaches .68 after 30 epochs which is not too good but at least better than flipping the coin with 50% chance. It looks like the model does not reach the limitation yet since the accuracy keeps increasing while the 20 epochs around 0.68. We may give it a try in the newer model to increase the epochs.\n",
        "* **3. Validation accuracy goes with accuracy ver well** - no overfitting risk - We could easily see the validaction accuracy is always very close to the accuracy all the way. We could say the model can replicate the performance on the validation data which indicates no overfitting risk.\n"
      ]
    },
    {
      "cell_type": "markdown",
      "metadata": {
        "id": "z0qgLMBZm5-K"
      },
      "source": [
        "\n",
        "Build one more model with higher complexity and see if we can improve the performance of the model. \n",
        "\n",
        "Clear the previous model's history from the keras backend. Fix the seed again after clearing the backend."
      ]
    },
    {
      "cell_type": "code",
      "execution_count": null,
      "metadata": {
        "id": "y98BpLxsok_H"
      },
      "outputs": [],
      "source": [
        "# Clear backend\n",
        "from tensorflow.keras import backend\n",
        "backend.clear_session()"
      ]
    },
    {
      "cell_type": "code",
      "execution_count": null,
      "metadata": {
        "id": "HbKi93HTolGW"
      },
      "outputs": [],
      "source": [
        "# Fix the seed for random number generators\n",
        "np.random.seed(42)\n",
        "import random\n",
        "random.seed(42)\n",
        "tf.random.set_seed(42)"
      ]
    },
    {
      "cell_type": "markdown",
      "metadata": {
        "id": "lT6o3TIKuCtk"
      },
      "source": [
        "### **Second Model Architecture**\n",
        "- Write a function that returns a sequential model with the following architecture\n",
        " - First hidden layer with **256 nodes and relu activation**\n",
        " - Second hidden layer with **128 nodes and relu activation**\n",
        " - Add the **Dropout layer with rate equal to 0.2**\n",
        " - Third hidden layer with **64 nodes and relu activation**\n",
        " - Fourth hidden layer with **64 nodes and relu activation**\n",
        " - Fifth hidden layer with **32 nodes and relu activation**\n",
        " - Add the **BatchNormalization layer**\n",
        " - Output layer with **softmax activation and number of nodes equal to the number of classes**\n",
        " -Compile the model with the **categorical_crossentropy loss, adam optimizer (learning_rate = 0.0005), and accuracy metric**. Do not fit the model here, just return the compiled model.\n",
        "- Call the function and store the model in a new variable \n",
        "- Print the summary of the model\n",
        "- Fit on the train data with a **validation split of 0.2, batch size = 128, verbose = 1, and 30 epochs**. Store the model building history to use later for visualization."
      ]
    },
    {
      "cell_type": "markdown",
      "metadata": {
        "id": "4dV32YjAGzIR"
      },
      "source": [
        "#### **Build and train the new ANN model as per the above mentioned architecture**"
      ]
    },
    {
      "cell_type": "code",
      "execution_count": null,
      "metadata": {
        "id": "EEPYLFIPnSDP"
      },
      "outputs": [],
      "source": [
        "# Import losses and optimizers modules\n",
        "from tensorflow.keras import losses\n",
        "from tensorflow.keras import optimizers\n",
        "\n",
        "# Define the function\n",
        "def nn_model_2():\n",
        "    model = Sequential([\n",
        "      tf.keras.layers.Flatten(input_shape = (1024, )),\n",
        "      tf.keras.layers.Dense(256, activation = 'relu'),\n",
        "      tf.keras.layers.Dense(128, activation = 'relu'),\n",
        "      tf.keras.layers.Dropout(0.2, input_shape = (1024,)),\n",
        "      tf.keras.layers.Dense(64, activation = 'relu'),\n",
        "      tf.keras.layers.Dense(64, activation = 'relu'),\n",
        "      tf.keras.layers.Dense(32, activation = 'relu'),\n",
        "      tf.keras.layers.BatchNormalization(),\n",
        "      tf.keras.layers.Dense(10, activation = 'softmax')\n",
        "    ]) \n",
        "    # Add layers as per the architecture mentioned above in the same sequence\n",
        "    \n",
        "    # declare adam optimizer with learning rate of 0.0005 \n",
        "    adam = optimizers.Adam(learning_rate = 5e-4)\n",
        "    \n",
        "    # compile the model\n",
        "    model.compile(optimizer = 'adam', loss = 'categorical_crossentropy', metrics = ['accuracy'])\n",
        "    \n",
        "    return model"
      ]
    },
    {
      "cell_type": "code",
      "execution_count": null,
      "metadata": {
        "id": "AKjDY4plnSFl"
      },
      "outputs": [],
      "source": [
        "# Build the model\n",
        "model_2 = nn_model_2()"
      ]
    },
    {
      "cell_type": "code",
      "execution_count": null,
      "metadata": {
        "colab": {
          "base_uri": "https://localhost:8080/"
        },
        "id": "gz_6SVrU2swZ",
        "outputId": "6c0a0da2-90b5-499d-d50c-a7dd977835ce"
      },
      "outputs": [
        {
          "name": "stdout",
          "output_type": "stream",
          "text": [
            "Model: \"sequential\"\n",
            "_________________________________________________________________\n",
            " Layer (type)                Output Shape              Param #   \n",
            "=================================================================\n",
            " flatten (Flatten)           (None, 1024)              0         \n",
            "                                                                 \n",
            " dense (Dense)               (None, 256)               262400    \n",
            "                                                                 \n",
            " dense_1 (Dense)             (None, 128)               32896     \n",
            "                                                                 \n",
            " dropout (Dropout)           (None, 128)               0         \n",
            "                                                                 \n",
            " dense_2 (Dense)             (None, 64)                8256      \n",
            "                                                                 \n",
            " dense_3 (Dense)             (None, 64)                4160      \n",
            "                                                                 \n",
            " dense_4 (Dense)             (None, 32)                2080      \n",
            "                                                                 \n",
            " batch_normalization (BatchN  (None, 32)               128       \n",
            " ormalization)                                                   \n",
            "                                                                 \n",
            " dense_5 (Dense)             (None, 10)                330       \n",
            "                                                                 \n",
            "=================================================================\n",
            "Total params: 310,250\n",
            "Trainable params: 310,186\n",
            "Non-trainable params: 64\n",
            "_________________________________________________________________\n"
          ]
        }
      ],
      "source": [
        "# Print the model summary\n",
        "model_2.summary()"
      ]
    },
    {
      "cell_type": "code",
      "execution_count": null,
      "metadata": {
        "colab": {
          "base_uri": "https://localhost:8080/"
        },
        "id": "IQ0Sc4R-y-uu",
        "outputId": "1f0d8fbc-4f30-4ba9-90f0-7b341055a531"
      },
      "outputs": [
        {
          "name": "stdout",
          "output_type": "stream",
          "text": [
            "Epoch 1/30\n",
            "263/263 [==============================] - 4s 12ms/step - loss: 2.3346 - accuracy: 0.1002 - val_loss: 2.3139 - val_accuracy: 0.0985\n",
            "Epoch 2/30\n",
            "263/263 [==============================] - 3s 12ms/step - loss: 2.3023 - accuracy: 0.1072 - val_loss: 2.2944 - val_accuracy: 0.1225\n",
            "Epoch 3/30\n",
            "263/263 [==============================] - 3s 11ms/step - loss: 2.0815 - accuracy: 0.1963 - val_loss: 2.0802 - val_accuracy: 0.2286\n",
            "Epoch 4/30\n",
            "263/263 [==============================] - 3s 11ms/step - loss: 1.6827 - accuracy: 0.4115 - val_loss: 1.5690 - val_accuracy: 0.4737\n",
            "Epoch 5/30\n",
            "263/263 [==============================] - 3s 11ms/step - loss: 1.4126 - accuracy: 0.5264 - val_loss: 1.3555 - val_accuracy: 0.5450\n",
            "Epoch 6/30\n",
            "263/263 [==============================] - 3s 11ms/step - loss: 1.2738 - accuracy: 0.5780 - val_loss: 1.1789 - val_accuracy: 0.6145\n",
            "Epoch 7/30\n",
            "263/263 [==============================] - 3s 13ms/step - loss: 1.1798 - accuracy: 0.6143 - val_loss: 1.1785 - val_accuracy: 0.6108\n",
            "Epoch 8/30\n",
            "263/263 [==============================] - 3s 12ms/step - loss: 1.1282 - accuracy: 0.6328 - val_loss: 1.0536 - val_accuracy: 0.6627\n",
            "Epoch 9/30\n",
            "263/263 [==============================] - 3s 12ms/step - loss: 1.0854 - accuracy: 0.6468 - val_loss: 1.0265 - val_accuracy: 0.6710\n",
            "Epoch 10/30\n",
            "263/263 [==============================] - 3s 12ms/step - loss: 1.0415 - accuracy: 0.6653 - val_loss: 1.0290 - val_accuracy: 0.6813\n",
            "Epoch 11/30\n",
            "263/263 [==============================] - 3s 12ms/step - loss: 1.0100 - accuracy: 0.6779 - val_loss: 1.0311 - val_accuracy: 0.6749\n",
            "Epoch 12/30\n",
            "263/263 [==============================] - 3s 12ms/step - loss: 0.9775 - accuracy: 0.6882 - val_loss: 1.0012 - val_accuracy: 0.6876\n",
            "Epoch 13/30\n",
            "263/263 [==============================] - 3s 12ms/step - loss: 0.9528 - accuracy: 0.6965 - val_loss: 0.9642 - val_accuracy: 0.6998\n",
            "Epoch 14/30\n",
            "263/263 [==============================] - 3s 12ms/step - loss: 0.9484 - accuracy: 0.6982 - val_loss: 0.9904 - val_accuracy: 0.6882\n",
            "Epoch 15/30\n",
            "263/263 [==============================] - 3s 12ms/step - loss: 0.9240 - accuracy: 0.7059 - val_loss: 0.8876 - val_accuracy: 0.7199\n",
            "Epoch 16/30\n",
            "263/263 [==============================] - 3s 11ms/step - loss: 0.9125 - accuracy: 0.7115 - val_loss: 0.9549 - val_accuracy: 0.6901\n",
            "Epoch 17/30\n",
            "263/263 [==============================] - 3s 11ms/step - loss: 0.9031 - accuracy: 0.7130 - val_loss: 0.9053 - val_accuracy: 0.7118\n",
            "Epoch 18/30\n",
            "263/263 [==============================] - 3s 11ms/step - loss: 0.8977 - accuracy: 0.7145 - val_loss: 0.8914 - val_accuracy: 0.7235\n",
            "Epoch 19/30\n",
            "263/263 [==============================] - 3s 11ms/step - loss: 0.8879 - accuracy: 0.7179 - val_loss: 0.8910 - val_accuracy: 0.7192\n",
            "Epoch 20/30\n",
            "263/263 [==============================] - 3s 12ms/step - loss: 0.8739 - accuracy: 0.7241 - val_loss: 0.8750 - val_accuracy: 0.7273\n",
            "Epoch 21/30\n",
            "263/263 [==============================] - 3s 12ms/step - loss: 0.8691 - accuracy: 0.7240 - val_loss: 0.9023 - val_accuracy: 0.7173\n",
            "Epoch 22/30\n",
            "263/263 [==============================] - 3s 11ms/step - loss: 0.8545 - accuracy: 0.7296 - val_loss: 0.8594 - val_accuracy: 0.7298\n",
            "Epoch 23/30\n",
            "263/263 [==============================] - 3s 12ms/step - loss: 0.8547 - accuracy: 0.7295 - val_loss: 0.8239 - val_accuracy: 0.7452\n",
            "Epoch 24/30\n",
            "263/263 [==============================] - 3s 12ms/step - loss: 0.8340 - accuracy: 0.7362 - val_loss: 0.8596 - val_accuracy: 0.7321\n",
            "Epoch 25/30\n",
            "263/263 [==============================] - 3s 11ms/step - loss: 0.8452 - accuracy: 0.7326 - val_loss: 0.8203 - val_accuracy: 0.7439\n",
            "Epoch 26/30\n",
            "263/263 [==============================] - 3s 11ms/step - loss: 0.8376 - accuracy: 0.7337 - val_loss: 0.8732 - val_accuracy: 0.7257\n",
            "Epoch 27/30\n",
            "263/263 [==============================] - 3s 12ms/step - loss: 0.8236 - accuracy: 0.7376 - val_loss: 0.9045 - val_accuracy: 0.7140\n",
            "Epoch 28/30\n",
            "263/263 [==============================] - 3s 12ms/step - loss: 0.8209 - accuracy: 0.7391 - val_loss: 0.8412 - val_accuracy: 0.7350\n",
            "Epoch 29/30\n",
            "263/263 [==============================] - 3s 11ms/step - loss: 0.8258 - accuracy: 0.7373 - val_loss: 0.8351 - val_accuracy: 0.7355\n",
            "Epoch 30/30\n",
            "263/263 [==============================] - 3s 11ms/step - loss: 0.8147 - accuracy: 0.7412 - val_loss: 0.8152 - val_accuracy: 0.7407\n"
          ]
        }
      ],
      "source": [
        "# Fit the model\n",
        "history_model_2 = model_2.fit(X_train, y_train, epochs = 30, validation_split = .2, batch_size = 128, verbose = 1)"
      ]
    },
    {
      "cell_type": "markdown",
      "metadata": {
        "id": "qtE4DFxdGzIT"
      },
      "source": [
        "### **Plot the validation and training accuracies**"
      ]
    },
    {
      "cell_type": "code",
      "execution_count": null,
      "metadata": {
        "colab": {
          "base_uri": "https://localhost:8080/",
          "height": 497
        },
        "id": "01ig6BrF1KVy",
        "outputId": "0bc17f0e-92fe-4575-ff29-8ff541f8ccf6"
      },
      "outputs": [
        {
          "data": {
            "image/png": "[encoded data removed]",
            "text/plain": [
              "<Figure size 576x576 with 1 Axes>"
            ]
          },
          "metadata": {
            "needs_background": "light"
          },
          "output_type": "display_data"
        }
      ],
      "source": [
        "# plot the accuracies\n",
        "\n",
        "dict_hist = history_model_2.history\n",
        "list_ep = [i for i in range(1,31)]\n",
        "\n",
        "plt.figure(figsize = (8,8))\n",
        "plt.plot(list_ep,dict_hist['accuracy'],ls = '--', label = 'accuracy')\n",
        "plt.plot(list_ep,dict_hist['val_accuracy'],ls = '--', label = 'val_accuracy')\n",
        "plt.ylabel('Accuracy')\n",
        "plt.xlabel('Epochs')\n",
        "plt.legend()\n",
        "plt.show()"
      ]
    },
    {
      "cell_type": "markdown",
      "metadata": {
        "id": "VPW1LlD61RDn"
      },
      "source": [
        "**Observations:**\n",
        "* **1. The newer ANN model with the addition of 3 more layers, and also a droptout layer, a batchnormlization layer, and 10 more epochs** - \n",
        "  * **1) 3 more layers** - We build the newer ANN model from 2 to 5 layers.\n",
        "  * **2) 1 more dropout layer** - The dropout layer works as the regulization to prevent over-fitting while more layers are added. This layer could randomly set up the neuron with the chance to be dropped out.  \n",
        "  * **3) 1 more batchnormolization layer** -  We added this layer to train very deep neural network (like we have 5 layers now) that standardizes the inputs to a layer for each mini-batch. We expect to stabilize the learning process and reduce the number of training epochs required.  \n",
        "  * **4) 10 more epochs** - We added 10 more epoches on top of the original 20 epochs.\n",
        "* **2. Accuracy reaches .74. Betterh than the 1st model** - The accuracy of our newer model also has a very tough start with the accuracy only around 0.1. However, the model learns very quickly and eventually reaches .74 after 30 epochs which is even better (the previous one is around 0.68). It looks like reaching the limitation and becomes constnat since the accuracy touches around 0.75 after the 23 epoch then maintains 073~0.75 all the way to the 30th epoch. We welcome the accuracy improvement from the 1st model with the new setup.\n",
        "* **3. Validation accuracy goes with accuracy ver well - no overfitting risk** - We could easily see the validaction accuracy is always very close to the accuracy all the way. We could say the model can replicate the performance on the validation data which indicates no overfitting risk."
      ]
    },
    {
      "cell_type": "markdown",
      "metadata": {
        "id": "8kuXx9Bvu00f"
      },
      "source": [
        "## **Predictions on the test data**\n",
        "\n",
        "- Make predictions on the test set using the second model\n",
        "- Print the obtained results using the classification report and the confusion matrix\n",
        "- Final observations from the obtained results"
      ]
    },
    {
      "cell_type": "code",
      "execution_count": null,
      "metadata": {
        "id": "xbWMEtTj5Ad0"
      },
      "outputs": [],
      "source": [
        "test_pred = model_2.predict(X_test)\n",
        "\n",
        "test_pred = np.argmax(test_pred, axis=-1)"
      ]
    },
    {
      "cell_type": "markdown",
      "metadata": {
        "id": "i3li8Ib08yts"
      },
      "source": [
        "**Note:** Earlier, we noticed that each entry of the test data is a one-hot encoded vector but to print the classification report and confusion matrix, we must convert each entry of y_test to a single label."
      ]
    },
    {
      "cell_type": "code",
      "execution_count": null,
      "metadata": {
        "id": "NByu7uAQ8x9P"
      },
      "outputs": [],
      "source": [
        "# Convert each entry to single label from one-hot encoded vector\n",
        "y_test = np.argmax(y_test, axis=-1)"
      ]
    },
    {
      "cell_type": "markdown",
      "metadata": {
        "id": "JVxGB0qaGzIY"
      },
      "source": [
        "#### **Print the classification report and the confusion matrix for the test predictions**"
      ]
    },
    {
      "cell_type": "code",
      "execution_count": null,
      "metadata": {
        "colab": {
          "base_uri": "https://localhost:8080/",
          "height": 629
        },
        "id": "xRddeJ-3EHT1",
        "outputId": "14bcb938-1a87-4ee4-96da-a6fbca5d21a3"
      },
      "outputs": [
        {
          "name": "stdout",
          "output_type": "stream",
          "text": [
            "              precision    recall  f1-score   support\n",
            "\n",
            "           0       0.79      0.75      0.77      1814\n",
            "           1       0.71      0.81      0.76      1828\n",
            "           2       0.76      0.77      0.76      1803\n",
            "           3       0.73      0.69      0.71      1719\n",
            "           4       0.74      0.83      0.78      1812\n",
            "           5       0.73      0.67      0.70      1768\n",
            "           6       0.79      0.68      0.73      1832\n",
            "           7       0.77      0.80      0.78      1808\n",
            "           8       0.66      0.72      0.69      1812\n",
            "           9       0.75      0.70      0.73      1804\n",
            "\n",
            "    accuracy                           0.74     18000\n",
            "   macro avg       0.74      0.74      0.74     18000\n",
            "weighted avg       0.74      0.74      0.74     18000\n",
            "\n"
          ]
        },
        {
          "data": {
            "image/png": "[encoded data removed]",
            "text/plain": [
              "<Figure size 576x360 with 2 Axes>"
            ]
          },
          "metadata": {
            "needs_background": "light"
          },
          "output_type": "display_data"
        }
      ],
      "source": [
        "# import required functions\n",
        "from sklearn.metrics import classification_report\n",
        "from sklearn.metrics import confusion_matrix\n",
        "\n",
        "# Print the classification report\n",
        "print(classification_report(y_test, test_pred))\n",
        "\n",
        "# Plot the heatmap using confusion matrix\n",
        "# create confusion matrix using actual labels and predicted labels\n",
        "cm = confusion_matrix(y_test, test_pred) \n",
        "\n",
        "plt.figure(figsize=(8,5))\n",
        "sns.heatmap(cm, annot=True,  fmt='.0f')\n",
        "plt.ylabel('Actual')\n",
        "plt.xlabel('Predicted')\n",
        "plt.show()"
      ]
    },
    {
      "cell_type": "markdown",
      "metadata": {
        "id": "DjErl4GA2u9s"
      },
      "source": [
        "#### **Observations**\n",
        "\n",
        "* **1. Overall the accuracy is 0.74** - The confusion matrix on the test data shows that no matter from macro or weighted average to see the overall accuracy is 0.74. The f1 score ranges from 0.69 to 0.78. We're good at this model performance.\n",
        "* **2. Recall ranges from 0.67 to 0.83**-  Among all the 10 classes, recall ranges from 0.67 to 0.83. The class 5 works the best 0.83 and the class 4 works the worst with 0.67.\n",
        "* **3. The best class 4 with the highest performance is label \"4\"** - The class 4 is a number \"4\" for model to learn. The model works the best with recall 0.83. (the f1 score 0.78 - still pretty high and the highest among 10 classes).\n",
        "* **4. The worse class 5 with the lowest performance is label \"0\"** - The class 5 is a very ambigious \"0\" for model to learn. The model perform lower with the recall 0.67. (the f1 score 0.70, the lowest among the 10 classes). Very likely the model has a lower capability to learns the \"0\" with a non-standard shape. However, the recall of 0.67 is good. \n",
        "* **5. Dropout layer effect** - We believe the dropout layer performs to lower the overfitting.\n",
        "* **6. Conclusion of this ANN model, TensorFlow, Keras and Google Colab experiences** - \n",
        " * **1) Artificial neural network model** - We learn the new technique to utilize the ANN model with more finetune of the setup like more layers with regulization and more epochs to make the model perform better. ANN model is a good machine learning approach.\n",
        " * **2) TensorFlow** -  We also learn the new library TensorFlow - which is a powerful deep learning tool to deal with voice, sound, video, text-based related scenarios.\n",
        " * **3) Keras** - We also learn the great API Keras for TensorFlow usage. Keras is a wonderful interface for training deep learning models. It's a popular tool also used by Netflix, Yelp and Uber. Happy to learn this tool!\n",
        " * **4) Google Colab** - Google offeres this great tool which is similar with Jupyter but more sharable and integrated with google offering. Pretty good at markdown pre-view model."
      ]
    }
  ],
  "metadata": {
    "accelerator": "TPU",
    "colab": {
      "collapsed_sections": [],
      "name": "Alvin_Kuo_Portfolio_ANN_Street_View_Housing_Numbers_Image_Classification_Deep_Learning.ipynb",
      "provenance": []
    },
    "kernelspec": {
      "display_name": "Python 3 (ipykernel)",
      "language": "python",
      "name": "python3"
    },
    "language_info": {
      "codemirror_mode": {
        "name": "ipython",
        "version": 3
      },
      "file_extension": ".py",
      "mimetype": "text/x-python",
      "name": "python",
      "nbconvert_exporter": "python",
      "pygments_lexer": "ipython3",
      "version": "3.9.7"
    }
  },
  "nbformat": 4,
  "nbformat_minor": 0
}